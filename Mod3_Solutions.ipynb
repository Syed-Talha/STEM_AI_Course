{
  "nbformat": 4,
  "nbformat_minor": 0,
  "metadata": {
    "colab": {
      "name": "Mod3 Solutions.ipynb",
      "provenance": [],
      "collapsed_sections": [
        "V1igglG3QBd0",
        "4Ys4jCoyUnDA",
        "bUa8u-8Faa2f",
        "_3vErRSniUBa",
        "dhVGJimS0GrN"
      ]
    },
    "kernelspec": {
      "name": "python3",
      "display_name": "Python 3"
    }
  },
  "cells": [
    {
      "cell_type": "markdown",
      "metadata": {
        "id": "FXJHGOOLP8gv",
        "colab_type": "text"
      },
      "source": [
        "**Artifical Intelligence and the World: Module 3**"
      ]
    },
    {
      "cell_type": "markdown",
      "metadata": {
        "id": "V1igglG3QBd0",
        "colab_type": "text"
      },
      "source": [
        "#3.0: Introduction"
      ]
    },
    {
      "cell_type": "markdown",
      "metadata": {
        "id": "cQ0AtIiEQFur",
        "colab_type": "text"
      },
      "source": [
        "*The hard work in data science comes from transforming data, and the modelling is just a .fit() mostly.*"
      ]
    },
    {
      "cell_type": "code",
      "metadata": {
        "id": "ptipDfBFQWUP",
        "colab_type": "code",
        "colab": {
          "base_uri": "https://localhost:8080/",
          "height": 72
        },
        "outputId": "a97b6dc2-8606-4bbd-85d4-d764c5c8fd31"
      },
      "source": [
        "import pandas as pd\n",
        "import matplotlib.pyplot as plt\n",
        "import seaborn as sns\n",
        "import numpy as np\n",
        "\n",
        "from sklearn import linear_model\n",
        "from sklearn.metrics import mean_absolute_error\n",
        "from sklearn.metrics import mean_squared_error"
      ],
      "execution_count": null,
      "outputs": [
        {
          "output_type": "stream",
          "text": [
            "/usr/local/lib/python3.6/dist-packages/statsmodels/tools/_testing.py:19: FutureWarning: pandas.util.testing is deprecated. Use the functions in the public API at pandas.testing instead.\n",
            "  import pandas.util.testing as tm\n"
          ],
          "name": "stderr"
        }
      ]
    },
    {
      "cell_type": "markdown",
      "metadata": {
        "id": "szwZ-W_AQzSO",
        "colab_type": "text"
      },
      "source": [
        "*Today, we use the Diamonds dataset from kaggle.*"
      ]
    },
    {
      "cell_type": "code",
      "metadata": {
        "id": "h7bP04E2Q2dR",
        "colab_type": "code",
        "colab": {}
      },
      "source": [
        "df_in = sns.load_dataset(name = 'diamonds')"
      ],
      "execution_count": null,
      "outputs": []
    },
    {
      "cell_type": "code",
      "metadata": {
        "id": "aoHgiOcfQ8O0",
        "colab_type": "code",
        "colab": {
          "base_uri": "https://localhost:8080/",
          "height": 228
        },
        "outputId": "a462a039-763c-4189-8689-19ee41c7d3a2"
      },
      "source": [
        "df_in.head()"
      ],
      "execution_count": null,
      "outputs": [
        {
          "output_type": "execute_result",
          "data": {
            "text/html": [
              "<div>\n",
              "<style scoped>\n",
              "    .dataframe tbody tr th:only-of-type {\n",
              "        vertical-align: middle;\n",
              "    }\n",
              "\n",
              "    .dataframe tbody tr th {\n",
              "        vertical-align: top;\n",
              "    }\n",
              "\n",
              "    .dataframe thead th {\n",
              "        text-align: right;\n",
              "    }\n",
              "</style>\n",
              "<table border=\"1\" class=\"dataframe\">\n",
              "  <thead>\n",
              "    <tr style=\"text-align: right;\">\n",
              "      <th></th>\n",
              "      <th>carat</th>\n",
              "      <th>cut</th>\n",
              "      <th>color</th>\n",
              "      <th>clarity</th>\n",
              "      <th>depth</th>\n",
              "      <th>table</th>\n",
              "      <th>price</th>\n",
              "      <th>x</th>\n",
              "      <th>y</th>\n",
              "      <th>z</th>\n",
              "    </tr>\n",
              "  </thead>\n",
              "  <tbody>\n",
              "    <tr>\n",
              "      <th>0</th>\n",
              "      <td>0.23</td>\n",
              "      <td>Ideal</td>\n",
              "      <td>E</td>\n",
              "      <td>SI2</td>\n",
              "      <td>61.5</td>\n",
              "      <td>55.0</td>\n",
              "      <td>326</td>\n",
              "      <td>3.95</td>\n",
              "      <td>3.98</td>\n",
              "      <td>2.43</td>\n",
              "    </tr>\n",
              "    <tr>\n",
              "      <th>1</th>\n",
              "      <td>0.21</td>\n",
              "      <td>Premium</td>\n",
              "      <td>E</td>\n",
              "      <td>SI1</td>\n",
              "      <td>59.8</td>\n",
              "      <td>61.0</td>\n",
              "      <td>326</td>\n",
              "      <td>3.89</td>\n",
              "      <td>3.84</td>\n",
              "      <td>2.31</td>\n",
              "    </tr>\n",
              "    <tr>\n",
              "      <th>2</th>\n",
              "      <td>0.23</td>\n",
              "      <td>Good</td>\n",
              "      <td>E</td>\n",
              "      <td>VS1</td>\n",
              "      <td>56.9</td>\n",
              "      <td>65.0</td>\n",
              "      <td>327</td>\n",
              "      <td>4.05</td>\n",
              "      <td>4.07</td>\n",
              "      <td>2.31</td>\n",
              "    </tr>\n",
              "    <tr>\n",
              "      <th>3</th>\n",
              "      <td>0.29</td>\n",
              "      <td>Premium</td>\n",
              "      <td>I</td>\n",
              "      <td>VS2</td>\n",
              "      <td>62.4</td>\n",
              "      <td>58.0</td>\n",
              "      <td>334</td>\n",
              "      <td>4.20</td>\n",
              "      <td>4.23</td>\n",
              "      <td>2.63</td>\n",
              "    </tr>\n",
              "    <tr>\n",
              "      <th>4</th>\n",
              "      <td>0.31</td>\n",
              "      <td>Good</td>\n",
              "      <td>J</td>\n",
              "      <td>SI2</td>\n",
              "      <td>63.3</td>\n",
              "      <td>58.0</td>\n",
              "      <td>335</td>\n",
              "      <td>4.34</td>\n",
              "      <td>4.35</td>\n",
              "      <td>2.75</td>\n",
              "    </tr>\n",
              "  </tbody>\n",
              "</table>\n",
              "</div>"
            ],
            "text/plain": [
              "   carat      cut color clarity  depth  table  price     x     y     z\n",
              "0   0.23    Ideal     E     SI2   61.5   55.0    326  3.95  3.98  2.43\n",
              "1   0.21  Premium     E     SI1   59.8   61.0    326  3.89  3.84  2.31\n",
              "2   0.23     Good     E     VS1   56.9   65.0    327  4.05  4.07  2.31\n",
              "3   0.29  Premium     I     VS2   62.4   58.0    334  4.20  4.23  2.63\n",
              "4   0.31     Good     J     SI2   63.3   58.0    335  4.34  4.35  2.75"
            ]
          },
          "metadata": {
            "tags": []
          },
          "execution_count": 3
        }
      ]
    },
    {
      "cell_type": "markdown",
      "metadata": {
        "id": "9OYY8aiWRF79",
        "colab_type": "text"
      },
      "source": [
        "*As usual, we start by checking for null values and unique number of values!*"
      ]
    },
    {
      "cell_type": "code",
      "metadata": {
        "id": "zTVcYOQJROQu",
        "colab_type": "code",
        "colab": {
          "base_uri": "https://localhost:8080/",
          "height": 231
        },
        "outputId": "068b60ce-3c3f-4215-af84-74fd06fe27e6"
      },
      "source": [
        "df_in.isnull().sum()  #no NaN to report"
      ],
      "execution_count": null,
      "outputs": [
        {
          "output_type": "execute_result",
          "data": {
            "text/plain": [
              "carat      0\n",
              "cut        0\n",
              "color      0\n",
              "clarity    0\n",
              "depth      0\n",
              "table      0\n",
              "price      0\n",
              "x          0\n",
              "y          0\n",
              "z          0\n",
              "dtype: int64"
            ]
          },
          "metadata": {
            "tags": []
          },
          "execution_count": 4
        }
      ]
    },
    {
      "cell_type": "code",
      "metadata": {
        "id": "pe3b_v2lRS7J",
        "colab_type": "code",
        "colab": {
          "base_uri": "https://localhost:8080/",
          "height": 231
        },
        "outputId": "cc5cede6-4f87-47a1-f102-ad1fbecd3d6a"
      },
      "source": [
        "df_in.nunique()"
      ],
      "execution_count": null,
      "outputs": [
        {
          "output_type": "execute_result",
          "data": {
            "text/plain": [
              "carat        273\n",
              "cut            5\n",
              "color          7\n",
              "clarity        8\n",
              "depth        184\n",
              "table        127\n",
              "price      11602\n",
              "x            554\n",
              "y            552\n",
              "z            375\n",
              "dtype: int64"
            ]
          },
          "metadata": {
            "tags": []
          },
          "execution_count": 5
        }
      ]
    },
    {
      "cell_type": "markdown",
      "metadata": {
        "id": "74jInXPnRfur",
        "colab_type": "text"
      },
      "source": [
        "*But if we look carefully, there are several different types of colours and cuts... lots of features? We use the method value_counts() to check*"
      ]
    },
    {
      "cell_type": "code",
      "metadata": {
        "id": "Uod5DS29Rr42",
        "colab_type": "code",
        "colab": {
          "base_uri": "https://localhost:8080/",
          "height": 143
        },
        "outputId": "c09b2868-6927-46da-f808-5252ff669c81"
      },
      "source": [
        "df_in['cut'].value_counts()"
      ],
      "execution_count": null,
      "outputs": [
        {
          "output_type": "execute_result",
          "data": {
            "text/plain": [
              "Ideal        21551\n",
              "Premium      13791\n",
              "Very Good    12082\n",
              "Good          4906\n",
              "Fair          1610\n",
              "Name: cut, dtype: int64"
            ]
          },
          "metadata": {
            "tags": []
          },
          "execution_count": 6
        }
      ]
    },
    {
      "cell_type": "code",
      "metadata": {
        "id": "wfPXn4IpRyd6",
        "colab_type": "code",
        "colab": {
          "base_uri": "https://localhost:8080/",
          "height": 178
        },
        "outputId": "dbb42d20-b8b2-4a6a-af9a-e7cd58c3264f"
      },
      "source": [
        "df_in['color'].value_counts()"
      ],
      "execution_count": null,
      "outputs": [
        {
          "output_type": "execute_result",
          "data": {
            "text/plain": [
              "G    11292\n",
              "E     9797\n",
              "F     9542\n",
              "H     8304\n",
              "D     6775\n",
              "I     5422\n",
              "J     2808\n",
              "Name: color, dtype: int64"
            ]
          },
          "metadata": {
            "tags": []
          },
          "execution_count": 7
        }
      ]
    },
    {
      "cell_type": "markdown",
      "metadata": {
        "id": "3Gm_vM-wR174",
        "colab_type": "text"
      },
      "source": [
        "*The color is represented by a 1-7 scale, so we CAN map it using the map function in Python. Note that the input is a dictionary.*"
      ]
    },
    {
      "cell_type": "code",
      "metadata": {
        "id": "bYLMvrKzSIrJ",
        "colab_type": "code",
        "colab": {
          "base_uri": "https://localhost:8080/",
          "height": 442
        },
        "outputId": "df747dde-a555-4816-ef67-71be49096159"
      },
      "source": [
        "df_in['color_mapped'] = df_in['color'].map({'D':1, 'E':2, 'F':3, 'G':4, 'H':5, 'I':6, 'J':7})\n",
        "print(df_in['color'], df_in['color_mapped'])"
      ],
      "execution_count": null,
      "outputs": [
        {
          "output_type": "stream",
          "text": [
            "0        E\n",
            "1        E\n",
            "2        E\n",
            "3        I\n",
            "4        J\n",
            "        ..\n",
            "53935    D\n",
            "53936    D\n",
            "53937    D\n",
            "53938    H\n",
            "53939    D\n",
            "Name: color, Length: 53940, dtype: object 0        2\n",
            "1        2\n",
            "2        2\n",
            "3        6\n",
            "4        7\n",
            "        ..\n",
            "53935    1\n",
            "53936    1\n",
            "53937    1\n",
            "53938    5\n",
            "53939    1\n",
            "Name: color_mapped, Length: 53940, dtype: int64\n"
          ],
          "name": "stdout"
        }
      ]
    },
    {
      "cell_type": "code",
      "metadata": {
        "id": "nMTvByDuTKWL",
        "colab_type": "code",
        "colab": {}
      },
      "source": [
        "### Mandatory exercise, import the diamonds dataset and map the 'cut' column to numbers 1 to 5, Note that ideal is better than premium and fair is the worst\n",
        "## make a new column of 'cut_mapped'"
      ],
      "execution_count": null,
      "outputs": []
    },
    {
      "cell_type": "code",
      "metadata": {
        "id": "WduuFSsCTKzJ",
        "colab_type": "code",
        "colab": {
          "base_uri": "https://localhost:8080/",
          "height": 248
        },
        "outputId": "59e0824b-f0ca-49cd-b2af-9fe31b2db11c"
      },
      "source": [
        "df_in['cut_mapped'] = df_in['cut'].map({'Ideal':1, 'Premium':2, 'Very Good':3, 'Good':4, 'Fair':5})\n",
        "df_in['cut_mapped']"
      ],
      "execution_count": null,
      "outputs": [
        {
          "output_type": "execute_result",
          "data": {
            "text/plain": [
              "0        1\n",
              "1        2\n",
              "2        4\n",
              "3        2\n",
              "4        4\n",
              "        ..\n",
              "53935    1\n",
              "53936    4\n",
              "53937    3\n",
              "53938    2\n",
              "53939    1\n",
              "Name: cut_mapped, Length: 53940, dtype: int64"
            ]
          },
          "metadata": {
            "tags": []
          },
          "execution_count": 10
        }
      ]
    },
    {
      "cell_type": "markdown",
      "metadata": {
        "id": "X-jhprSiTtKc",
        "colab_type": "text"
      },
      "source": [
        "*The 1+2 = 3 problem still exists though, so we will just revert to Booleans instead.*"
      ]
    },
    {
      "cell_type": "code",
      "metadata": {
        "id": "9ZBHfR50TyJ3",
        "colab_type": "code",
        "colab": {}
      },
      "source": [
        "df_in['is_Ideal'] = (df_in['cut'] == 'Ideal') \n",
        "df_in['is_Premium'] = (df_in['cut'] == 'Premium') \n",
        "df_in['is_Very Good'] = (df_in['cut'] == 'Very Good') \n",
        "df_in['is_Good'] = (df_in['cut'] == 'Good') \n",
        "df_in['is_Fair'] = (df_in['cut'] == 'Fair') "
      ],
      "execution_count": null,
      "outputs": []
    },
    {
      "cell_type": "code",
      "metadata": {
        "id": "mjdXNiKzT2aj",
        "colab_type": "code",
        "colab": {
          "base_uri": "https://localhost:8080/",
          "height": 482
        },
        "outputId": "b515244c-d866-4c75-ce16-77a2ca3807c2"
      },
      "source": [
        "df_in"
      ],
      "execution_count": null,
      "outputs": [
        {
          "output_type": "execute_result",
          "data": {
            "text/html": [
              "<div>\n",
              "<style scoped>\n",
              "    .dataframe tbody tr th:only-of-type {\n",
              "        vertical-align: middle;\n",
              "    }\n",
              "\n",
              "    .dataframe tbody tr th {\n",
              "        vertical-align: top;\n",
              "    }\n",
              "\n",
              "    .dataframe thead th {\n",
              "        text-align: right;\n",
              "    }\n",
              "</style>\n",
              "<table border=\"1\" class=\"dataframe\">\n",
              "  <thead>\n",
              "    <tr style=\"text-align: right;\">\n",
              "      <th></th>\n",
              "      <th>carat</th>\n",
              "      <th>cut</th>\n",
              "      <th>color</th>\n",
              "      <th>clarity</th>\n",
              "      <th>depth</th>\n",
              "      <th>table</th>\n",
              "      <th>price</th>\n",
              "      <th>x</th>\n",
              "      <th>y</th>\n",
              "      <th>z</th>\n",
              "      <th>color_mapped</th>\n",
              "      <th>cut_mapped</th>\n",
              "      <th>is_Ideal</th>\n",
              "      <th>is_Premium</th>\n",
              "      <th>is_Very Good</th>\n",
              "      <th>is_Good</th>\n",
              "      <th>is_Fair</th>\n",
              "    </tr>\n",
              "  </thead>\n",
              "  <tbody>\n",
              "    <tr>\n",
              "      <th>0</th>\n",
              "      <td>0.23</td>\n",
              "      <td>Ideal</td>\n",
              "      <td>E</td>\n",
              "      <td>SI2</td>\n",
              "      <td>61.5</td>\n",
              "      <td>55.0</td>\n",
              "      <td>326</td>\n",
              "      <td>3.95</td>\n",
              "      <td>3.98</td>\n",
              "      <td>2.43</td>\n",
              "      <td>2</td>\n",
              "      <td>1</td>\n",
              "      <td>True</td>\n",
              "      <td>False</td>\n",
              "      <td>False</td>\n",
              "      <td>False</td>\n",
              "      <td>False</td>\n",
              "    </tr>\n",
              "    <tr>\n",
              "      <th>1</th>\n",
              "      <td>0.21</td>\n",
              "      <td>Premium</td>\n",
              "      <td>E</td>\n",
              "      <td>SI1</td>\n",
              "      <td>59.8</td>\n",
              "      <td>61.0</td>\n",
              "      <td>326</td>\n",
              "      <td>3.89</td>\n",
              "      <td>3.84</td>\n",
              "      <td>2.31</td>\n",
              "      <td>2</td>\n",
              "      <td>2</td>\n",
              "      <td>False</td>\n",
              "      <td>True</td>\n",
              "      <td>False</td>\n",
              "      <td>False</td>\n",
              "      <td>False</td>\n",
              "    </tr>\n",
              "    <tr>\n",
              "      <th>2</th>\n",
              "      <td>0.23</td>\n",
              "      <td>Good</td>\n",
              "      <td>E</td>\n",
              "      <td>VS1</td>\n",
              "      <td>56.9</td>\n",
              "      <td>65.0</td>\n",
              "      <td>327</td>\n",
              "      <td>4.05</td>\n",
              "      <td>4.07</td>\n",
              "      <td>2.31</td>\n",
              "      <td>2</td>\n",
              "      <td>4</td>\n",
              "      <td>False</td>\n",
              "      <td>False</td>\n",
              "      <td>False</td>\n",
              "      <td>True</td>\n",
              "      <td>False</td>\n",
              "    </tr>\n",
              "    <tr>\n",
              "      <th>3</th>\n",
              "      <td>0.29</td>\n",
              "      <td>Premium</td>\n",
              "      <td>I</td>\n",
              "      <td>VS2</td>\n",
              "      <td>62.4</td>\n",
              "      <td>58.0</td>\n",
              "      <td>334</td>\n",
              "      <td>4.20</td>\n",
              "      <td>4.23</td>\n",
              "      <td>2.63</td>\n",
              "      <td>6</td>\n",
              "      <td>2</td>\n",
              "      <td>False</td>\n",
              "      <td>True</td>\n",
              "      <td>False</td>\n",
              "      <td>False</td>\n",
              "      <td>False</td>\n",
              "    </tr>\n",
              "    <tr>\n",
              "      <th>4</th>\n",
              "      <td>0.31</td>\n",
              "      <td>Good</td>\n",
              "      <td>J</td>\n",
              "      <td>SI2</td>\n",
              "      <td>63.3</td>\n",
              "      <td>58.0</td>\n",
              "      <td>335</td>\n",
              "      <td>4.34</td>\n",
              "      <td>4.35</td>\n",
              "      <td>2.75</td>\n",
              "      <td>7</td>\n",
              "      <td>4</td>\n",
              "      <td>False</td>\n",
              "      <td>False</td>\n",
              "      <td>False</td>\n",
              "      <td>True</td>\n",
              "      <td>False</td>\n",
              "    </tr>\n",
              "    <tr>\n",
              "      <th>...</th>\n",
              "      <td>...</td>\n",
              "      <td>...</td>\n",
              "      <td>...</td>\n",
              "      <td>...</td>\n",
              "      <td>...</td>\n",
              "      <td>...</td>\n",
              "      <td>...</td>\n",
              "      <td>...</td>\n",
              "      <td>...</td>\n",
              "      <td>...</td>\n",
              "      <td>...</td>\n",
              "      <td>...</td>\n",
              "      <td>...</td>\n",
              "      <td>...</td>\n",
              "      <td>...</td>\n",
              "      <td>...</td>\n",
              "      <td>...</td>\n",
              "    </tr>\n",
              "    <tr>\n",
              "      <th>53935</th>\n",
              "      <td>0.72</td>\n",
              "      <td>Ideal</td>\n",
              "      <td>D</td>\n",
              "      <td>SI1</td>\n",
              "      <td>60.8</td>\n",
              "      <td>57.0</td>\n",
              "      <td>2757</td>\n",
              "      <td>5.75</td>\n",
              "      <td>5.76</td>\n",
              "      <td>3.50</td>\n",
              "      <td>1</td>\n",
              "      <td>1</td>\n",
              "      <td>True</td>\n",
              "      <td>False</td>\n",
              "      <td>False</td>\n",
              "      <td>False</td>\n",
              "      <td>False</td>\n",
              "    </tr>\n",
              "    <tr>\n",
              "      <th>53936</th>\n",
              "      <td>0.72</td>\n",
              "      <td>Good</td>\n",
              "      <td>D</td>\n",
              "      <td>SI1</td>\n",
              "      <td>63.1</td>\n",
              "      <td>55.0</td>\n",
              "      <td>2757</td>\n",
              "      <td>5.69</td>\n",
              "      <td>5.75</td>\n",
              "      <td>3.61</td>\n",
              "      <td>1</td>\n",
              "      <td>4</td>\n",
              "      <td>False</td>\n",
              "      <td>False</td>\n",
              "      <td>False</td>\n",
              "      <td>True</td>\n",
              "      <td>False</td>\n",
              "    </tr>\n",
              "    <tr>\n",
              "      <th>53937</th>\n",
              "      <td>0.70</td>\n",
              "      <td>Very Good</td>\n",
              "      <td>D</td>\n",
              "      <td>SI1</td>\n",
              "      <td>62.8</td>\n",
              "      <td>60.0</td>\n",
              "      <td>2757</td>\n",
              "      <td>5.66</td>\n",
              "      <td>5.68</td>\n",
              "      <td>3.56</td>\n",
              "      <td>1</td>\n",
              "      <td>3</td>\n",
              "      <td>False</td>\n",
              "      <td>False</td>\n",
              "      <td>True</td>\n",
              "      <td>False</td>\n",
              "      <td>False</td>\n",
              "    </tr>\n",
              "    <tr>\n",
              "      <th>53938</th>\n",
              "      <td>0.86</td>\n",
              "      <td>Premium</td>\n",
              "      <td>H</td>\n",
              "      <td>SI2</td>\n",
              "      <td>61.0</td>\n",
              "      <td>58.0</td>\n",
              "      <td>2757</td>\n",
              "      <td>6.15</td>\n",
              "      <td>6.12</td>\n",
              "      <td>3.74</td>\n",
              "      <td>5</td>\n",
              "      <td>2</td>\n",
              "      <td>False</td>\n",
              "      <td>True</td>\n",
              "      <td>False</td>\n",
              "      <td>False</td>\n",
              "      <td>False</td>\n",
              "    </tr>\n",
              "    <tr>\n",
              "      <th>53939</th>\n",
              "      <td>0.75</td>\n",
              "      <td>Ideal</td>\n",
              "      <td>D</td>\n",
              "      <td>SI2</td>\n",
              "      <td>62.2</td>\n",
              "      <td>55.0</td>\n",
              "      <td>2757</td>\n",
              "      <td>5.83</td>\n",
              "      <td>5.87</td>\n",
              "      <td>3.64</td>\n",
              "      <td>1</td>\n",
              "      <td>1</td>\n",
              "      <td>True</td>\n",
              "      <td>False</td>\n",
              "      <td>False</td>\n",
              "      <td>False</td>\n",
              "      <td>False</td>\n",
              "    </tr>\n",
              "  </tbody>\n",
              "</table>\n",
              "<p>53940 rows × 17 columns</p>\n",
              "</div>"
            ],
            "text/plain": [
              "       carat        cut color  ... is_Very Good  is_Good  is_Fair\n",
              "0       0.23      Ideal     E  ...        False    False    False\n",
              "1       0.21    Premium     E  ...        False    False    False\n",
              "2       0.23       Good     E  ...        False     True    False\n",
              "3       0.29    Premium     I  ...        False    False    False\n",
              "4       0.31       Good     J  ...        False     True    False\n",
              "...      ...        ...   ...  ...          ...      ...      ...\n",
              "53935   0.72      Ideal     D  ...        False    False    False\n",
              "53936   0.72       Good     D  ...        False     True    False\n",
              "53937   0.70  Very Good     D  ...         True    False    False\n",
              "53938   0.86    Premium     H  ...        False    False    False\n",
              "53939   0.75      Ideal     D  ...        False    False    False\n",
              "\n",
              "[53940 rows x 17 columns]"
            ]
          },
          "metadata": {
            "tags": []
          },
          "execution_count": 12
        }
      ]
    },
    {
      "cell_type": "markdown",
      "metadata": {
        "id": "E4JSSoPPUAPb",
        "colab_type": "text"
      },
      "source": [
        "*Now just drop the redundant columns and the dataset is good to go! :)*"
      ]
    },
    {
      "cell_type": "code",
      "metadata": {
        "id": "4kCqNV_QUFvC",
        "colab_type": "code",
        "colab": {
          "base_uri": "https://localhost:8080/",
          "height": 464
        },
        "outputId": "bfcad152-4baf-4758-88b3-2b551262bd73"
      },
      "source": [
        "df_inputfinal = df_in.drop(columns = ['color', 'cut', 'clarity'])\n",
        "df_inputfinal"
      ],
      "execution_count": null,
      "outputs": [
        {
          "output_type": "execute_result",
          "data": {
            "text/html": [
              "<div>\n",
              "<style scoped>\n",
              "    .dataframe tbody tr th:only-of-type {\n",
              "        vertical-align: middle;\n",
              "    }\n",
              "\n",
              "    .dataframe tbody tr th {\n",
              "        vertical-align: top;\n",
              "    }\n",
              "\n",
              "    .dataframe thead th {\n",
              "        text-align: right;\n",
              "    }\n",
              "</style>\n",
              "<table border=\"1\" class=\"dataframe\">\n",
              "  <thead>\n",
              "    <tr style=\"text-align: right;\">\n",
              "      <th></th>\n",
              "      <th>carat</th>\n",
              "      <th>depth</th>\n",
              "      <th>table</th>\n",
              "      <th>price</th>\n",
              "      <th>x</th>\n",
              "      <th>y</th>\n",
              "      <th>z</th>\n",
              "      <th>color_mapped</th>\n",
              "      <th>cut_mapped</th>\n",
              "      <th>is_Ideal</th>\n",
              "      <th>is_Premium</th>\n",
              "      <th>is_Very Good</th>\n",
              "      <th>is_Good</th>\n",
              "      <th>is_Fair</th>\n",
              "    </tr>\n",
              "  </thead>\n",
              "  <tbody>\n",
              "    <tr>\n",
              "      <th>0</th>\n",
              "      <td>0.23</td>\n",
              "      <td>61.5</td>\n",
              "      <td>55.0</td>\n",
              "      <td>326</td>\n",
              "      <td>3.95</td>\n",
              "      <td>3.98</td>\n",
              "      <td>2.43</td>\n",
              "      <td>2</td>\n",
              "      <td>1</td>\n",
              "      <td>True</td>\n",
              "      <td>False</td>\n",
              "      <td>False</td>\n",
              "      <td>False</td>\n",
              "      <td>False</td>\n",
              "    </tr>\n",
              "    <tr>\n",
              "      <th>1</th>\n",
              "      <td>0.21</td>\n",
              "      <td>59.8</td>\n",
              "      <td>61.0</td>\n",
              "      <td>326</td>\n",
              "      <td>3.89</td>\n",
              "      <td>3.84</td>\n",
              "      <td>2.31</td>\n",
              "      <td>2</td>\n",
              "      <td>2</td>\n",
              "      <td>False</td>\n",
              "      <td>True</td>\n",
              "      <td>False</td>\n",
              "      <td>False</td>\n",
              "      <td>False</td>\n",
              "    </tr>\n",
              "    <tr>\n",
              "      <th>2</th>\n",
              "      <td>0.23</td>\n",
              "      <td>56.9</td>\n",
              "      <td>65.0</td>\n",
              "      <td>327</td>\n",
              "      <td>4.05</td>\n",
              "      <td>4.07</td>\n",
              "      <td>2.31</td>\n",
              "      <td>2</td>\n",
              "      <td>4</td>\n",
              "      <td>False</td>\n",
              "      <td>False</td>\n",
              "      <td>False</td>\n",
              "      <td>True</td>\n",
              "      <td>False</td>\n",
              "    </tr>\n",
              "    <tr>\n",
              "      <th>3</th>\n",
              "      <td>0.29</td>\n",
              "      <td>62.4</td>\n",
              "      <td>58.0</td>\n",
              "      <td>334</td>\n",
              "      <td>4.20</td>\n",
              "      <td>4.23</td>\n",
              "      <td>2.63</td>\n",
              "      <td>6</td>\n",
              "      <td>2</td>\n",
              "      <td>False</td>\n",
              "      <td>True</td>\n",
              "      <td>False</td>\n",
              "      <td>False</td>\n",
              "      <td>False</td>\n",
              "    </tr>\n",
              "    <tr>\n",
              "      <th>4</th>\n",
              "      <td>0.31</td>\n",
              "      <td>63.3</td>\n",
              "      <td>58.0</td>\n",
              "      <td>335</td>\n",
              "      <td>4.34</td>\n",
              "      <td>4.35</td>\n",
              "      <td>2.75</td>\n",
              "      <td>7</td>\n",
              "      <td>4</td>\n",
              "      <td>False</td>\n",
              "      <td>False</td>\n",
              "      <td>False</td>\n",
              "      <td>True</td>\n",
              "      <td>False</td>\n",
              "    </tr>\n",
              "    <tr>\n",
              "      <th>...</th>\n",
              "      <td>...</td>\n",
              "      <td>...</td>\n",
              "      <td>...</td>\n",
              "      <td>...</td>\n",
              "      <td>...</td>\n",
              "      <td>...</td>\n",
              "      <td>...</td>\n",
              "      <td>...</td>\n",
              "      <td>...</td>\n",
              "      <td>...</td>\n",
              "      <td>...</td>\n",
              "      <td>...</td>\n",
              "      <td>...</td>\n",
              "      <td>...</td>\n",
              "    </tr>\n",
              "    <tr>\n",
              "      <th>53935</th>\n",
              "      <td>0.72</td>\n",
              "      <td>60.8</td>\n",
              "      <td>57.0</td>\n",
              "      <td>2757</td>\n",
              "      <td>5.75</td>\n",
              "      <td>5.76</td>\n",
              "      <td>3.50</td>\n",
              "      <td>1</td>\n",
              "      <td>1</td>\n",
              "      <td>True</td>\n",
              "      <td>False</td>\n",
              "      <td>False</td>\n",
              "      <td>False</td>\n",
              "      <td>False</td>\n",
              "    </tr>\n",
              "    <tr>\n",
              "      <th>53936</th>\n",
              "      <td>0.72</td>\n",
              "      <td>63.1</td>\n",
              "      <td>55.0</td>\n",
              "      <td>2757</td>\n",
              "      <td>5.69</td>\n",
              "      <td>5.75</td>\n",
              "      <td>3.61</td>\n",
              "      <td>1</td>\n",
              "      <td>4</td>\n",
              "      <td>False</td>\n",
              "      <td>False</td>\n",
              "      <td>False</td>\n",
              "      <td>True</td>\n",
              "      <td>False</td>\n",
              "    </tr>\n",
              "    <tr>\n",
              "      <th>53937</th>\n",
              "      <td>0.70</td>\n",
              "      <td>62.8</td>\n",
              "      <td>60.0</td>\n",
              "      <td>2757</td>\n",
              "      <td>5.66</td>\n",
              "      <td>5.68</td>\n",
              "      <td>3.56</td>\n",
              "      <td>1</td>\n",
              "      <td>3</td>\n",
              "      <td>False</td>\n",
              "      <td>False</td>\n",
              "      <td>True</td>\n",
              "      <td>False</td>\n",
              "      <td>False</td>\n",
              "    </tr>\n",
              "    <tr>\n",
              "      <th>53938</th>\n",
              "      <td>0.86</td>\n",
              "      <td>61.0</td>\n",
              "      <td>58.0</td>\n",
              "      <td>2757</td>\n",
              "      <td>6.15</td>\n",
              "      <td>6.12</td>\n",
              "      <td>3.74</td>\n",
              "      <td>5</td>\n",
              "      <td>2</td>\n",
              "      <td>False</td>\n",
              "      <td>True</td>\n",
              "      <td>False</td>\n",
              "      <td>False</td>\n",
              "      <td>False</td>\n",
              "    </tr>\n",
              "    <tr>\n",
              "      <th>53939</th>\n",
              "      <td>0.75</td>\n",
              "      <td>62.2</td>\n",
              "      <td>55.0</td>\n",
              "      <td>2757</td>\n",
              "      <td>5.83</td>\n",
              "      <td>5.87</td>\n",
              "      <td>3.64</td>\n",
              "      <td>1</td>\n",
              "      <td>1</td>\n",
              "      <td>True</td>\n",
              "      <td>False</td>\n",
              "      <td>False</td>\n",
              "      <td>False</td>\n",
              "      <td>False</td>\n",
              "    </tr>\n",
              "  </tbody>\n",
              "</table>\n",
              "<p>53940 rows × 14 columns</p>\n",
              "</div>"
            ],
            "text/plain": [
              "       carat  depth  table  price  ...  is_Premium  is_Very Good  is_Good  is_Fair\n",
              "0       0.23   61.5   55.0    326  ...       False         False    False    False\n",
              "1       0.21   59.8   61.0    326  ...        True         False    False    False\n",
              "2       0.23   56.9   65.0    327  ...       False         False     True    False\n",
              "3       0.29   62.4   58.0    334  ...        True         False    False    False\n",
              "4       0.31   63.3   58.0    335  ...       False         False     True    False\n",
              "...      ...    ...    ...    ...  ...         ...           ...      ...      ...\n",
              "53935   0.72   60.8   57.0   2757  ...       False         False    False    False\n",
              "53936   0.72   63.1   55.0   2757  ...       False         False     True    False\n",
              "53937   0.70   62.8   60.0   2757  ...       False          True    False    False\n",
              "53938   0.86   61.0   58.0   2757  ...        True         False    False    False\n",
              "53939   0.75   62.2   55.0   2757  ...       False         False    False    False\n",
              "\n",
              "[53940 rows x 14 columns]"
            ]
          },
          "metadata": {
            "tags": []
          },
          "execution_count": 13
        }
      ]
    },
    {
      "cell_type": "markdown",
      "metadata": {
        "id": "4Ys4jCoyUnDA",
        "colab_type": "text"
      },
      "source": [
        "#3.1: First Model, First Errors"
      ]
    },
    {
      "cell_type": "markdown",
      "metadata": {
        "id": "omOvvs5fUspk",
        "colab_type": "text"
      },
      "source": [
        "*Let's start by taking our input and plotting things with it.*"
      ]
    },
    {
      "cell_type": "code",
      "metadata": {
        "id": "m5n3sjH3UzL6",
        "colab_type": "code",
        "colab": {
          "base_uri": "https://localhost:8080/",
          "height": 245
        },
        "outputId": "8cebcbb7-edb0-4577-c797-4a3ca6d8f3ab"
      },
      "source": [
        "df_inputfinal.head()"
      ],
      "execution_count": null,
      "outputs": [
        {
          "output_type": "execute_result",
          "data": {
            "text/html": [
              "<div>\n",
              "<style scoped>\n",
              "    .dataframe tbody tr th:only-of-type {\n",
              "        vertical-align: middle;\n",
              "    }\n",
              "\n",
              "    .dataframe tbody tr th {\n",
              "        vertical-align: top;\n",
              "    }\n",
              "\n",
              "    .dataframe thead th {\n",
              "        text-align: right;\n",
              "    }\n",
              "</style>\n",
              "<table border=\"1\" class=\"dataframe\">\n",
              "  <thead>\n",
              "    <tr style=\"text-align: right;\">\n",
              "      <th></th>\n",
              "      <th>carat</th>\n",
              "      <th>depth</th>\n",
              "      <th>table</th>\n",
              "      <th>price</th>\n",
              "      <th>x</th>\n",
              "      <th>y</th>\n",
              "      <th>z</th>\n",
              "      <th>color_mapped</th>\n",
              "      <th>cut_mapped</th>\n",
              "      <th>is_Ideal</th>\n",
              "      <th>is_Premium</th>\n",
              "      <th>is_Very Good</th>\n",
              "      <th>is_Good</th>\n",
              "      <th>is_Fair</th>\n",
              "    </tr>\n",
              "  </thead>\n",
              "  <tbody>\n",
              "    <tr>\n",
              "      <th>0</th>\n",
              "      <td>0.23</td>\n",
              "      <td>61.5</td>\n",
              "      <td>55.0</td>\n",
              "      <td>326</td>\n",
              "      <td>3.95</td>\n",
              "      <td>3.98</td>\n",
              "      <td>2.43</td>\n",
              "      <td>2</td>\n",
              "      <td>1</td>\n",
              "      <td>True</td>\n",
              "      <td>False</td>\n",
              "      <td>False</td>\n",
              "      <td>False</td>\n",
              "      <td>False</td>\n",
              "    </tr>\n",
              "    <tr>\n",
              "      <th>1</th>\n",
              "      <td>0.21</td>\n",
              "      <td>59.8</td>\n",
              "      <td>61.0</td>\n",
              "      <td>326</td>\n",
              "      <td>3.89</td>\n",
              "      <td>3.84</td>\n",
              "      <td>2.31</td>\n",
              "      <td>2</td>\n",
              "      <td>2</td>\n",
              "      <td>False</td>\n",
              "      <td>True</td>\n",
              "      <td>False</td>\n",
              "      <td>False</td>\n",
              "      <td>False</td>\n",
              "    </tr>\n",
              "    <tr>\n",
              "      <th>2</th>\n",
              "      <td>0.23</td>\n",
              "      <td>56.9</td>\n",
              "      <td>65.0</td>\n",
              "      <td>327</td>\n",
              "      <td>4.05</td>\n",
              "      <td>4.07</td>\n",
              "      <td>2.31</td>\n",
              "      <td>2</td>\n",
              "      <td>4</td>\n",
              "      <td>False</td>\n",
              "      <td>False</td>\n",
              "      <td>False</td>\n",
              "      <td>True</td>\n",
              "      <td>False</td>\n",
              "    </tr>\n",
              "    <tr>\n",
              "      <th>3</th>\n",
              "      <td>0.29</td>\n",
              "      <td>62.4</td>\n",
              "      <td>58.0</td>\n",
              "      <td>334</td>\n",
              "      <td>4.20</td>\n",
              "      <td>4.23</td>\n",
              "      <td>2.63</td>\n",
              "      <td>6</td>\n",
              "      <td>2</td>\n",
              "      <td>False</td>\n",
              "      <td>True</td>\n",
              "      <td>False</td>\n",
              "      <td>False</td>\n",
              "      <td>False</td>\n",
              "    </tr>\n",
              "    <tr>\n",
              "      <th>4</th>\n",
              "      <td>0.31</td>\n",
              "      <td>63.3</td>\n",
              "      <td>58.0</td>\n",
              "      <td>335</td>\n",
              "      <td>4.34</td>\n",
              "      <td>4.35</td>\n",
              "      <td>2.75</td>\n",
              "      <td>7</td>\n",
              "      <td>4</td>\n",
              "      <td>False</td>\n",
              "      <td>False</td>\n",
              "      <td>False</td>\n",
              "      <td>True</td>\n",
              "      <td>False</td>\n",
              "    </tr>\n",
              "  </tbody>\n",
              "</table>\n",
              "</div>"
            ],
            "text/plain": [
              "   carat  depth  table  price  ...  is_Premium  is_Very Good  is_Good  is_Fair\n",
              "0   0.23   61.5   55.0    326  ...       False         False    False    False\n",
              "1   0.21   59.8   61.0    326  ...        True         False    False    False\n",
              "2   0.23   56.9   65.0    327  ...       False         False     True    False\n",
              "3   0.29   62.4   58.0    334  ...        True         False    False    False\n",
              "4   0.31   63.3   58.0    335  ...       False         False     True    False\n",
              "\n",
              "[5 rows x 14 columns]"
            ]
          },
          "metadata": {
            "tags": []
          },
          "execution_count": 14
        }
      ]
    },
    {
      "cell_type": "code",
      "metadata": {
        "id": "SZabURrsVNLi",
        "colab_type": "code",
        "colab": {
          "base_uri": "https://localhost:8080/",
          "height": 55
        },
        "outputId": "b7ba35e6-cb07-4695-96ed-dbd4521e90b9"
      },
      "source": [
        "fig, ax = plt.subplots()\n",
        "\n",
        "ax.scatter(df_inputfinal['carat'], df_inputfinal['price'])\n",
        "fig.show()"
      ],
      "execution_count": null,
      "outputs": [
        {
          "output_type": "display_data",
          "data": {
            "image/png": "[encoded data removed]",
            "text/plain": [
              "<Figure size 432x288 with 1 Axes>"
            ]
          },
          "metadata": {
            "tags": [],
            "needs_background": "light"
          }
        }
      ]
    },
    {
      "cell_type": "markdown",
      "metadata": {
        "id": "4TIilwOUVmDV",
        "colab_type": "text"
      },
      "source": [
        "*So there is a clear correlation, which hopefully other features can help us develop. But for now, an estimate: let's say a carat is $1000 or so.*"
      ]
    },
    {
      "cell_type": "code",
      "metadata": {
        "id": "FnSle5j6Vuol",
        "colab_type": "code",
        "colab": {
          "base_uri": "https://localhost:8080/",
          "height": 248
        },
        "outputId": "a6013c2f-accd-441f-cd8e-f751c24c91ad"
      },
      "source": [
        "df_inputfinal['carat']*1000  #gives us our estimated prices by carat"
      ],
      "execution_count": null,
      "outputs": [
        {
          "output_type": "execute_result",
          "data": {
            "text/plain": [
              "0        230.0\n",
              "1        210.0\n",
              "2        230.0\n",
              "3        290.0\n",
              "4        310.0\n",
              "         ...  \n",
              "53935    720.0\n",
              "53936    720.0\n",
              "53937    700.0\n",
              "53938    860.0\n",
              "53939    750.0\n",
              "Name: carat, Length: 53940, dtype: float64"
            ]
          },
          "metadata": {
            "tags": []
          },
          "execution_count": 16
        }
      ]
    },
    {
      "cell_type": "code",
      "metadata": {
        "id": "fLPLOq1NV4Vr",
        "colab_type": "code",
        "colab": {}
      },
      "source": [
        "first_pred = df_inputfinal['carat']*1000\n",
        "true_price = df_inputfinal['price']"
      ],
      "execution_count": null,
      "outputs": []
    },
    {
      "cell_type": "markdown",
      "metadata": {
        "id": "54JiLm33V-fh",
        "colab_type": "text"
      },
      "source": [
        "*So we have created a linear prediction. But how to test the accuracy? Well, we can look at the errors, i.e. the differences in prediction and true price for EACH diamond (each row).*"
      ]
    },
    {
      "cell_type": "code",
      "metadata": {
        "id": "FnRAU2bWWRfw",
        "colab_type": "code",
        "colab": {
          "base_uri": "https://localhost:8080/",
          "height": 248
        },
        "outputId": "5f08487a-100d-4459-ec78-d8f83926e877"
      },
      "source": [
        "first_errors = true_price - first_pred\n",
        "first_errors"
      ],
      "execution_count": null,
      "outputs": [
        {
          "output_type": "execute_result",
          "data": {
            "text/plain": [
              "0          96.0\n",
              "1         116.0\n",
              "2          97.0\n",
              "3          44.0\n",
              "4          25.0\n",
              "          ...  \n",
              "53935    2037.0\n",
              "53936    2037.0\n",
              "53937    2057.0\n",
              "53938    1897.0\n",
              "53939    2007.0\n",
              "Length: 53940, dtype: float64"
            ]
          },
          "metadata": {
            "tags": []
          },
          "execution_count": 18
        }
      ]
    },
    {
      "cell_type": "code",
      "metadata": {
        "id": "RcMUwQ3VWa-z",
        "colab_type": "code",
        "colab": {
          "base_uri": "https://localhost:8080/",
          "height": 55
        },
        "outputId": "fe6dd1b5-c242-468e-8e92-2f533974cb85"
      },
      "source": [
        "first_errors.sum()"
      ],
      "execution_count": null,
      "outputs": [
        {
          "output_type": "execute_result",
          "data": {
            "text/plain": [
              "169094347.0"
            ]
          },
          "metadata": {
            "tags": []
          },
          "execution_count": 19
        }
      ]
    },
    {
      "cell_type": "code",
      "metadata": {
        "id": "QxmJHkMcWcVI",
        "colab_type": "code",
        "colab": {
          "base_uri": "https://localhost:8080/",
          "height": 55
        },
        "outputId": "9d00ecab-4b6e-4de5-f541-2a846f84c5e0"
      },
      "source": [
        "first_errors.mean()"
      ],
      "execution_count": null,
      "outputs": [
        {
          "output_type": "execute_result",
          "data": {
            "text/plain": [
              "3134.8599740452355"
            ]
          },
          "metadata": {
            "tags": []
          },
          "execution_count": 20
        }
      ]
    },
    {
      "cell_type": "markdown",
      "metadata": {
        "id": "UU_LYq11XboT",
        "colab_type": "text"
      },
      "source": [
        "*This first average error will be a BASELINE, but we would like to develop our model more... so let's add a depth estimate.*"
      ]
    },
    {
      "cell_type": "code",
      "metadata": {
        "id": "VUR9vQ_jXixC",
        "colab_type": "code",
        "colab": {}
      },
      "source": [
        "second_pred = df_inputfinal['carat']*1000 + df_inputfinal['depth']*50.7674"
      ],
      "execution_count": null,
      "outputs": []
    },
    {
      "cell_type": "code",
      "metadata": {
        "id": "zJjK72z-Xquc",
        "colab_type": "code",
        "colab": {
          "base_uri": "https://localhost:8080/",
          "height": 55
        },
        "outputId": "ffe07ff7-100d-4e54-be3b-936693b9e707"
      },
      "source": [
        "second_errors = true_price - second_pred\n",
        "second_errors.mean()"
      ],
      "execution_count": null,
      "outputs": [
        {
          "output_type": "execute_result",
          "data": {
            "text/plain": [
              "0.003236012962857267"
            ]
          },
          "metadata": {
            "tags": []
          },
          "execution_count": 22
        }
      ]
    },
    {
      "cell_type": "markdown",
      "metadata": {
        "id": "CDcurRArX3sj",
        "colab_type": "text"
      },
      "source": [
        "*This seems... suspicious. Let's plot and figure things out, ideally a plot of true_price vs second_pred would be like y = x.*"
      ]
    },
    {
      "cell_type": "code",
      "metadata": {
        "id": "ZMcyQ7xbYBDz",
        "colab_type": "code",
        "colab": {
          "base_uri": "https://localhost:8080/",
          "height": 55
        },
        "outputId": "b7f0736a-01e5-49f5-cd4c-2fef69920c5f"
      },
      "source": [
        "fig, ax = plt.subplots()\n",
        "ax.scatter(true_price, second_pred)\n",
        "fig.show()\n",
        "\n",
        "##yeah no something's up."
      ],
      "execution_count": null,
      "outputs": [
        {
          "output_type": "display_data",
          "data": {
            "image/png": "[encoded data removed]",
            "text/plain": [
              "<Figure size 432x288 with 1 Axes>"
            ]
          },
          "metadata": {
            "tags": [],
            "needs_background": "light"
          }
        }
      ]
    },
    {
      "cell_type": "markdown",
      "metadata": {
        "id": "24TWmwGQYD9x",
        "colab_type": "text"
      },
      "source": [
        "*The issue is that the AVERAGE error is near zero, but there are a large amount of other error values. Plot a histogram to see this.*"
      ]
    },
    {
      "cell_type": "code",
      "metadata": {
        "id": "-tAmqVAuYQOF",
        "colab_type": "code",
        "colab": {
          "base_uri": "https://localhost:8080/",
          "height": 55
        },
        "outputId": "9a2964f5-1092-471c-9083-60d83d34f634"
      },
      "source": [
        "fig, ax = plt.subplots()\n",
        "ax.hist(second_errors)\n",
        "fig.show()"
      ],
      "execution_count": null,
      "outputs": [
        {
          "output_type": "display_data",
          "data": {
            "image/png": "[encoded data removed]",
            "text/plain": [
              "<Figure size 432x288 with 1 Axes>"
            ]
          },
          "metadata": {
            "tags": [],
            "needs_background": "light"
          }
        }
      ]
    },
    {
      "cell_type": "markdown",
      "metadata": {
        "id": "CtCTTo0XYXlj",
        "colab_type": "text"
      },
      "source": [
        "*So, let's find the mean absolute error instead by taking a modulus...*"
      ]
    },
    {
      "cell_type": "code",
      "metadata": {
        "id": "mJdSFBUJYkZ5",
        "colab_type": "code",
        "colab": {
          "base_uri": "https://localhost:8080/",
          "height": 55
        },
        "outputId": "6e341a56-899d-40e3-e951-cc7b8ac3737b"
      },
      "source": [
        "second_errors.abs().mean()  #yeah that's better"
      ],
      "execution_count": null,
      "outputs": [
        {
          "output_type": "execute_result",
          "data": {
            "text/plain": [
              "2668.7929961551176"
            ]
          },
          "metadata": {
            "tags": []
          },
          "execution_count": 25
        }
      ]
    },
    {
      "cell_type": "markdown",
      "metadata": {
        "id": "2YZ3DGW_YqIv",
        "colab_type": "text"
      },
      "source": [
        "*We can also find a mean square error, in which we square the difference to make everything positive. The input will still be the real y values against the predictions.*"
      ]
    },
    {
      "cell_type": "code",
      "metadata": {
        "id": "kowZ8675Y1q-",
        "colab_type": "code",
        "colab": {
          "base_uri": "https://localhost:8080/",
          "height": 55
        },
        "outputId": "97e29fcc-184d-412e-a25d-eefeafac39f9"
      },
      "source": [
        "second_errors_squared = second_errors ** 2\n",
        "second_errors_squared.mean()"
      ],
      "execution_count": null,
      "outputs": [
        {
          "output_type": "execute_result",
          "data": {
            "text/plain": [
              "12667965.057203509"
            ]
          },
          "metadata": {
            "tags": []
          },
          "execution_count": 26
        }
      ]
    },
    {
      "cell_type": "markdown",
      "metadata": {
        "id": "y3njXro4ZMi2",
        "colab_type": "text"
      },
      "source": [
        "*We can use the sklearn imported error functions to do the work for us.*"
      ]
    },
    {
      "cell_type": "code",
      "metadata": {
        "id": "qmyFiTMTZSAa",
        "colab_type": "code",
        "colab": {
          "base_uri": "https://localhost:8080/",
          "height": 55
        },
        "outputId": "1dde4a6a-fac2-43a5-b1c2-dc69dc5e79dd"
      },
      "source": [
        "mean_absolute_error(y_true = true_price, y_pred = second_pred)"
      ],
      "execution_count": null,
      "outputs": [
        {
          "output_type": "execute_result",
          "data": {
            "text/plain": [
              "2668.7929961553577"
            ]
          },
          "metadata": {
            "tags": []
          },
          "execution_count": 27
        }
      ]
    },
    {
      "cell_type": "code",
      "metadata": {
        "id": "6getJRJgaI8j",
        "colab_type": "code",
        "colab": {
          "base_uri": "https://localhost:8080/",
          "height": 55
        },
        "outputId": "f67668fd-941a-4ebe-e45c-2531cc4e8377"
      },
      "source": [
        "mean_squared_error(y_true = true_price, y_pred = second_pred)"
      ],
      "execution_count": null,
      "outputs": [
        {
          "output_type": "execute_result",
          "data": {
            "text/plain": [
              "12667965.057203408"
            ]
          },
          "metadata": {
            "tags": []
          },
          "execution_count": 28
        }
      ]
    },
    {
      "cell_type": "code",
      "metadata": {
        "id": "SMmNTLBBaNmM",
        "colab_type": "code",
        "colab": {}
      },
      "source": [
        "## EASY CHALLENGE: find the two kinds of errors from our first set of predicition (first_pred) \n",
        "## using the functions we imported!\n",
        "## first_pred = df_inputfinal['carat']*1000\n",
        "## Were we better off? "
      ],
      "execution_count": null,
      "outputs": []
    },
    {
      "cell_type": "code",
      "metadata": {
        "id": "fB22P8vUaP2E",
        "colab_type": "code",
        "colab": {
          "base_uri": "https://localhost:8080/",
          "height": 55
        },
        "outputId": "8452faee-3c6c-4e15-a3e1-37198da6ee0e"
      },
      "source": [
        "mean_absolute_error(y_true = true_price, y_pred = first_pred)"
      ],
      "execution_count": null,
      "outputs": [
        {
          "output_type": "execute_result",
          "data": {
            "text/plain": [
              "3134.8599740452355"
            ]
          },
          "metadata": {
            "tags": []
          },
          "execution_count": 30
        }
      ]
    },
    {
      "cell_type": "code",
      "metadata": {
        "id": "GR-wRz4waTZI",
        "colab_type": "code",
        "colab": {
          "base_uri": "https://localhost:8080/",
          "height": 55
        },
        "outputId": "0cdf6ea3-734b-4907-b371-2e065f4ac012"
      },
      "source": [
        "mean_squared_error(y_true = true_price, y_pred = first_pred)"
      ],
      "execution_count": null,
      "outputs": [
        {
          "output_type": "execute_result",
          "data": {
            "text/plain": [
              "22481897.803911753"
            ]
          },
          "metadata": {
            "tags": []
          },
          "execution_count": 31
        }
      ]
    },
    {
      "cell_type": "code",
      "metadata": {
        "id": "EVQWjDa2aXKC",
        "colab_type": "code",
        "colab": {}
      },
      "source": [
        "##nah, not really better off, both models suck."
      ],
      "execution_count": null,
      "outputs": []
    },
    {
      "cell_type": "markdown",
      "metadata": {
        "id": "bUa8u-8Faa2f",
        "colab_type": "text"
      },
      "source": [
        "#3.2: Into Linear Models"
      ]
    },
    {
      "cell_type": "markdown",
      "metadata": {
        "id": "yyH5qfvRcKbk",
        "colab_type": "text"
      },
      "source": [
        "*Given a bunch of features and coefficients (using everything we can from our dataset), our job is to reduce the mean squared error as much as possible. To do that, we'll employ the help of a new SKLearn object.*"
      ]
    },
    {
      "cell_type": "code",
      "metadata": {
        "id": "GuH58LSUceOq",
        "colab_type": "code",
        "colab": {}
      },
      "source": [
        "first_linear_model = linear_model.LinearRegression()"
      ],
      "execution_count": null,
      "outputs": []
    },
    {
      "cell_type": "markdown",
      "metadata": {
        "id": "U7UgKYTocpB9",
        "colab_type": "text"
      },
      "source": [
        "*This regression will require an array to be passed in, but we can easily convert the DataFrame into one using .values*"
      ]
    },
    {
      "cell_type": "code",
      "metadata": {
        "id": "DnQmd4vdcw9o",
        "colab_type": "code",
        "colab": {
          "base_uri": "https://localhost:8080/",
          "height": 160
        },
        "outputId": "b99c3192-48d5-4928-80b5-e1d680aabad0"
      },
      "source": [
        "df_inputfinal.values"
      ],
      "execution_count": null,
      "outputs": [
        {
          "output_type": "execute_result",
          "data": {
            "text/plain": [
              "array([[0.23, 61.5, 55.0, ..., False, False, False],\n",
              "       [0.21, 59.8, 61.0, ..., False, False, False],\n",
              "       [0.23, 56.9, 65.0, ..., False, True, False],\n",
              "       ...,\n",
              "       [0.7, 62.8, 60.0, ..., True, False, False],\n",
              "       [0.86, 61.0, 58.0, ..., False, False, False],\n",
              "       [0.75, 62.2, 55.0, ..., False, False, False]], dtype=object)"
            ]
          },
          "metadata": {
            "tags": []
          },
          "execution_count": 34
        }
      ]
    },
    {
      "cell_type": "markdown",
      "metadata": {
        "id": "aD3AKvU9c-Mj",
        "colab_type": "text"
      },
      "source": [
        "*We will use the .fit() function, which requires a two-dimensional X input, as well as a y input.*"
      ]
    },
    {
      "cell_type": "code",
      "metadata": {
        "id": "5TIy3G4cdXFl",
        "colab_type": "code",
        "colab": {
          "base_uri": "https://localhost:8080/",
          "height": 55
        },
        "outputId": "92033436-0de0-4262-9381-913bd69775a1"
      },
      "source": [
        "first_linear_model.fit(X = df_inputfinal.values, y = true_price)"
      ],
      "execution_count": null,
      "outputs": [
        {
          "output_type": "execute_result",
          "data": {
            "text/plain": [
              "LinearRegression(copy_X=True, fit_intercept=True, n_jobs=None, normalize=False)"
            ]
          },
          "metadata": {
            "tags": []
          },
          "execution_count": 35
        }
      ]
    },
    {
      "cell_type": "markdown",
      "metadata": {
        "id": "cRzqXWnNdfNE",
        "colab_type": "text"
      },
      "source": [
        "*Now we use the .predict() method AFTER the .fit() or it won't have the y value data from the fit embedded to help with predicting. This function will give the predicted diamond price values.*"
      ]
    },
    {
      "cell_type": "code",
      "metadata": {
        "id": "qMBsdd9Ld1Gi",
        "colab_type": "code",
        "colab": {
          "base_uri": "https://localhost:8080/",
          "height": 55
        },
        "outputId": "dd7351de-d0dd-46ba-d428-1bec8198a6ac"
      },
      "source": [
        "first_linear_model.predict(X = df_inputfinal.values)  #returns an array"
      ],
      "execution_count": null,
      "outputs": [
        {
          "output_type": "execute_result",
          "data": {
            "text/plain": [
              "array([ 326.,  326.,  327., ..., 2757., 2757., 2757.])"
            ]
          },
          "metadata": {
            "tags": []
          },
          "execution_count": 36
        }
      ]
    },
    {
      "cell_type": "code",
      "metadata": {
        "id": "xU65XEx-d_u_",
        "colab_type": "code",
        "colab": {}
      },
      "source": [
        "model_predictions = first_linear_model.predict(X = df_inputfinal.values)"
      ],
      "execution_count": null,
      "outputs": []
    },
    {
      "cell_type": "markdown",
      "metadata": {
        "id": "TH4-rQM8eANC",
        "colab_type": "text"
      },
      "source": [
        "*Now we check out the error and... wait what. Ok, something seems wrong... unless?*"
      ]
    },
    {
      "cell_type": "code",
      "metadata": {
        "id": "a9eSf1ngfHrh",
        "colab_type": "code",
        "colab": {
          "base_uri": "https://localhost:8080/",
          "height": 55
        },
        "outputId": "29edeaad-9687-4fc1-8420-af0969726a45"
      },
      "source": [
        "mean_squared_error(y_true = true_price, y_pred = model_predictions)"
      ],
      "execution_count": null,
      "outputs": [
        {
          "output_type": "execute_result",
          "data": {
            "text/plain": [
              "8.71282726830483e-25"
            ]
          },
          "metadata": {
            "tags": []
          },
          "execution_count": 38
        }
      ]
    },
    {
      "cell_type": "code",
      "metadata": {
        "id": "3nePOCUHfJvl",
        "colab_type": "code",
        "colab": {
          "base_uri": "https://localhost:8080/",
          "height": 55
        },
        "outputId": "a0a830db-a37c-4fee-8f76-b93b0f59b422"
      },
      "source": [
        "fig, ax = plt.subplots()\n",
        "ax.scatter(model_predictions, true_price)\n",
        "fig.show()  #oh my"
      ],
      "execution_count": null,
      "outputs": [
        {
          "output_type": "display_data",
          "data": {
            "image/png": "[encoded data removed]",
            "text/plain": [
              "<Figure size 432x288 with 1 Axes>"
            ]
          },
          "metadata": {
            "tags": [],
            "needs_background": "light"
          }
        }
      ]
    },
    {
      "cell_type": "markdown",
      "metadata": {
        "id": "PWbg0ZmyfUlF",
        "colab_type": "text"
      },
      "source": [
        "*But, there is a problem. Check the coefficients out for a sec.*"
      ]
    },
    {
      "cell_type": "code",
      "metadata": {
        "id": "39bAUgypfX9a",
        "colab_type": "code",
        "colab": {
          "base_uri": "https://localhost:8080/",
          "height": 108
        },
        "outputId": "d0069b3c-963b-4bb1-ecd0-65200c795af6"
      },
      "source": [
        "first_linear_model.coef_   #the fourth coefficient is the only large one"
      ],
      "execution_count": null,
      "outputs": [
        {
          "output_type": "execute_result",
          "data": {
            "text/plain": [
              "array([-3.77913435e-12, -1.03805853e-13,  4.16620812e-14,  1.00000000e+00,\n",
              "       -2.07783010e-14,  3.87423383e-15, -1.73954818e-15,  5.26312392e-15,\n",
              "       -9.64648554e-16, -7.61666256e-15,  1.55732242e-14, -5.70281004e-15,\n",
              "       -3.88273635e-15,  1.62898412e-15])"
            ]
          },
          "metadata": {
            "tags": []
          },
          "execution_count": 40
        }
      ]
    },
    {
      "cell_type": "code",
      "metadata": {
        "id": "w23e9ftefg9v",
        "colab_type": "code",
        "colab": {
          "base_uri": "https://localhost:8080/",
          "height": 245
        },
        "outputId": "dd78e704-481d-4b1d-9462-523773b9c1bf"
      },
      "source": [
        "df_inputfinal.head() #the fourth corresponds to price... rofl"
      ],
      "execution_count": null,
      "outputs": [
        {
          "output_type": "execute_result",
          "data": {
            "text/html": [
              "<div>\n",
              "<style scoped>\n",
              "    .dataframe tbody tr th:only-of-type {\n",
              "        vertical-align: middle;\n",
              "    }\n",
              "\n",
              "    .dataframe tbody tr th {\n",
              "        vertical-align: top;\n",
              "    }\n",
              "\n",
              "    .dataframe thead th {\n",
              "        text-align: right;\n",
              "    }\n",
              "</style>\n",
              "<table border=\"1\" class=\"dataframe\">\n",
              "  <thead>\n",
              "    <tr style=\"text-align: right;\">\n",
              "      <th></th>\n",
              "      <th>carat</th>\n",
              "      <th>depth</th>\n",
              "      <th>table</th>\n",
              "      <th>price</th>\n",
              "      <th>x</th>\n",
              "      <th>y</th>\n",
              "      <th>z</th>\n",
              "      <th>color_mapped</th>\n",
              "      <th>cut_mapped</th>\n",
              "      <th>is_Ideal</th>\n",
              "      <th>is_Premium</th>\n",
              "      <th>is_Very Good</th>\n",
              "      <th>is_Good</th>\n",
              "      <th>is_Fair</th>\n",
              "    </tr>\n",
              "  </thead>\n",
              "  <tbody>\n",
              "    <tr>\n",
              "      <th>0</th>\n",
              "      <td>0.23</td>\n",
              "      <td>61.5</td>\n",
              "      <td>55.0</td>\n",
              "      <td>326</td>\n",
              "      <td>3.95</td>\n",
              "      <td>3.98</td>\n",
              "      <td>2.43</td>\n",
              "      <td>2</td>\n",
              "      <td>1</td>\n",
              "      <td>True</td>\n",
              "      <td>False</td>\n",
              "      <td>False</td>\n",
              "      <td>False</td>\n",
              "      <td>False</td>\n",
              "    </tr>\n",
              "    <tr>\n",
              "      <th>1</th>\n",
              "      <td>0.21</td>\n",
              "      <td>59.8</td>\n",
              "      <td>61.0</td>\n",
              "      <td>326</td>\n",
              "      <td>3.89</td>\n",
              "      <td>3.84</td>\n",
              "      <td>2.31</td>\n",
              "      <td>2</td>\n",
              "      <td>2</td>\n",
              "      <td>False</td>\n",
              "      <td>True</td>\n",
              "      <td>False</td>\n",
              "      <td>False</td>\n",
              "      <td>False</td>\n",
              "    </tr>\n",
              "    <tr>\n",
              "      <th>2</th>\n",
              "      <td>0.23</td>\n",
              "      <td>56.9</td>\n",
              "      <td>65.0</td>\n",
              "      <td>327</td>\n",
              "      <td>4.05</td>\n",
              "      <td>4.07</td>\n",
              "      <td>2.31</td>\n",
              "      <td>2</td>\n",
              "      <td>4</td>\n",
              "      <td>False</td>\n",
              "      <td>False</td>\n",
              "      <td>False</td>\n",
              "      <td>True</td>\n",
              "      <td>False</td>\n",
              "    </tr>\n",
              "    <tr>\n",
              "      <th>3</th>\n",
              "      <td>0.29</td>\n",
              "      <td>62.4</td>\n",
              "      <td>58.0</td>\n",
              "      <td>334</td>\n",
              "      <td>4.20</td>\n",
              "      <td>4.23</td>\n",
              "      <td>2.63</td>\n",
              "      <td>6</td>\n",
              "      <td>2</td>\n",
              "      <td>False</td>\n",
              "      <td>True</td>\n",
              "      <td>False</td>\n",
              "      <td>False</td>\n",
              "      <td>False</td>\n",
              "    </tr>\n",
              "    <tr>\n",
              "      <th>4</th>\n",
              "      <td>0.31</td>\n",
              "      <td>63.3</td>\n",
              "      <td>58.0</td>\n",
              "      <td>335</td>\n",
              "      <td>4.34</td>\n",
              "      <td>4.35</td>\n",
              "      <td>2.75</td>\n",
              "      <td>7</td>\n",
              "      <td>4</td>\n",
              "      <td>False</td>\n",
              "      <td>False</td>\n",
              "      <td>False</td>\n",
              "      <td>True</td>\n",
              "      <td>False</td>\n",
              "    </tr>\n",
              "  </tbody>\n",
              "</table>\n",
              "</div>"
            ],
            "text/plain": [
              "   carat  depth  table  price  ...  is_Premium  is_Very Good  is_Good  is_Fair\n",
              "0   0.23   61.5   55.0    326  ...       False         False    False    False\n",
              "1   0.21   59.8   61.0    326  ...        True         False    False    False\n",
              "2   0.23   56.9   65.0    327  ...       False         False     True    False\n",
              "3   0.29   62.4   58.0    334  ...        True         False    False    False\n",
              "4   0.31   63.3   58.0    335  ...       False         False     True    False\n",
              "\n",
              "[5 rows x 14 columns]"
            ]
          },
          "metadata": {
            "tags": []
          },
          "execution_count": 41
        }
      ]
    },
    {
      "cell_type": "code",
      "metadata": {
        "id": "LdLsK4jnfm84",
        "colab_type": "code",
        "colab": {}
      },
      "source": [
        "## MANDATORY EXERCISE, FIX THE df_inputfinal MATRIX, its a silly mistake but a common one. \n",
        "## then make a prediction again and check the error actual error of the model"
      ],
      "execution_count": null,
      "outputs": []
    },
    {
      "cell_type": "code",
      "metadata": {
        "id": "PkWjBAkWfr4k",
        "colab_type": "code",
        "colab": {}
      },
      "source": [
        "df_fix = df_inputfinal.drop(columns = 'price')"
      ],
      "execution_count": null,
      "outputs": []
    },
    {
      "cell_type": "code",
      "metadata": {
        "id": "pSjGZptvfwsM",
        "colab_type": "code",
        "colab": {
          "base_uri": "https://localhost:8080/",
          "height": 72
        },
        "outputId": "dd7629a5-cebc-41a3-a021-5f01e332c424"
      },
      "source": [
        "second_linear_model = linear_model.LinearRegression()\n",
        "second_linear_model.fit(X = df_fix.values, y = true_price)\n",
        "\n",
        "second_model_predictions = second_linear_model.predict(X = df_fix.values)\n",
        "second_model_predictions"
      ],
      "execution_count": null,
      "outputs": [
        {
          "output_type": "execute_result",
          "data": {
            "text/plain": [
              "array([ 661.4128749 ,  183.20903802,  100.21420953, ..., 3359.53973706,\n",
              "       3727.64936183, 4207.63025879])"
            ]
          },
          "metadata": {
            "tags": []
          },
          "execution_count": 44
        }
      ]
    },
    {
      "cell_type": "code",
      "metadata": {
        "id": "vNR5KurcgJso",
        "colab_type": "code",
        "colab": {
          "base_uri": "https://localhost:8080/",
          "height": 108
        },
        "outputId": "dcdc77d9-139e-4a06-c89e-9bffbada00f2"
      },
      "source": [
        "second_linear_model.coef_  #looks more normal... pog?"
      ],
      "execution_count": null,
      "outputs": [
        {
          "output_type": "execute_result",
          "data": {
            "text/plain": [
              "array([11142.95983074,  -117.04723909,   -44.300395  , -1346.31049172,\n",
              "          41.12616406,    23.59799089,  -258.59304467,  -292.16705685,\n",
              "         -88.7751227 ,   -57.31985019,   277.17580611,   264.87548599,\n",
              "        -395.95631921])"
            ]
          },
          "metadata": {
            "tags": []
          },
          "execution_count": 45
        }
      ]
    },
    {
      "cell_type": "code",
      "metadata": {
        "id": "MMsDMgpWgxfs",
        "colab_type": "code",
        "colab": {
          "base_uri": "https://localhost:8080/",
          "height": 55
        },
        "outputId": "15d8bf85-3276-49aa-d9fc-4e4ceb2bbbbd"
      },
      "source": [
        "mean_squared_error(y_true = true_price, y_pred = second_model_predictions)"
      ],
      "execution_count": null,
      "outputs": [
        {
          "output_type": "execute_result",
          "data": {
            "text/plain": [
              "2015588.9150325437"
            ]
          },
          "metadata": {
            "tags": []
          },
          "execution_count": 46
        }
      ]
    },
    {
      "cell_type": "code",
      "metadata": {
        "id": "coN-ngI3gkBU",
        "colab_type": "code",
        "colab": {
          "base_uri": "https://localhost:8080/",
          "height": 55
        },
        "outputId": "3ecc7c7a-7749-47fc-ab7e-f15001c91f22"
      },
      "source": [
        "fig, ax = plt.subplots()\n",
        "ax.scatter(second_model_predictions, true_price)\n",
        "fig.show()"
      ],
      "execution_count": null,
      "outputs": [
        {
          "output_type": "display_data",
          "data": {
            "image/png": "[encoded data removed]",
            "text/plain": [
              "<Figure size 432x288 with 1 Axes>"
            ]
          },
          "metadata": {
            "tags": [],
            "needs_background": "light"
          }
        }
      ]
    },
    {
      "cell_type": "markdown",
      "metadata": {
        "id": "_3vErRSniUBa",
        "colab_type": "text"
      },
      "source": [
        "#3.3: The Most Common Mistake"
      ]
    },
    {
      "cell_type": "markdown",
      "metadata": {
        "id": "mJQ1KMohiYCg",
        "colab_type": "text"
      },
      "source": [
        "*The most common problem in ML... overfitting. Let's cut right to the chase and bring back the cars dataset, removing mpg because we are looking to predict it.*"
      ]
    },
    {
      "cell_type": "code",
      "metadata": {
        "id": "t_y_xcrjjP9W",
        "colab_type": "code",
        "colab": {}
      },
      "source": [
        "df_carsin = sns.load_dataset(\"mpg\")\n",
        "df_cars = df_carsin.dropna().copy()\n",
        "df_cars['weight_to_hp_ratio'] = df_cars['horsepower'] / df_cars['weight']\n",
        "df_cars['is_usa'] = (df_cars['origin'] == 'usa')\n",
        "df_cars['is_europe'] = (df_cars['origin'] == 'europe')\n",
        "df_cars['is_japan'] = (df_cars['origin'] == 'japan')\n",
        "df_cars = df_cars.drop(columns = ['name','weight_to_hp_ratio','origin'])"
      ],
      "execution_count": null,
      "outputs": []
    },
    {
      "cell_type": "code",
      "metadata": {
        "id": "A-jJp_NnjRPn",
        "colab_type": "code",
        "colab": {
          "base_uri": "https://localhost:8080/",
          "height": 228
        },
        "outputId": "bf0efe2c-a252-46de-9ff7-072343f00202"
      },
      "source": [
        "true_mpg = df_cars['mpg']\n",
        "df_cars = df_cars.drop(columns = 'mpg')\n",
        "df_cars.head()"
      ],
      "execution_count": null,
      "outputs": [
        {
          "output_type": "execute_result",
          "data": {
            "text/html": [
              "<div>\n",
              "<style scoped>\n",
              "    .dataframe tbody tr th:only-of-type {\n",
              "        vertical-align: middle;\n",
              "    }\n",
              "\n",
              "    .dataframe tbody tr th {\n",
              "        vertical-align: top;\n",
              "    }\n",
              "\n",
              "    .dataframe thead th {\n",
              "        text-align: right;\n",
              "    }\n",
              "</style>\n",
              "<table border=\"1\" class=\"dataframe\">\n",
              "  <thead>\n",
              "    <tr style=\"text-align: right;\">\n",
              "      <th></th>\n",
              "      <th>cylinders</th>\n",
              "      <th>displacement</th>\n",
              "      <th>horsepower</th>\n",
              "      <th>weight</th>\n",
              "      <th>acceleration</th>\n",
              "      <th>model_year</th>\n",
              "      <th>is_usa</th>\n",
              "      <th>is_europe</th>\n",
              "      <th>is_japan</th>\n",
              "    </tr>\n",
              "  </thead>\n",
              "  <tbody>\n",
              "    <tr>\n",
              "      <th>0</th>\n",
              "      <td>8</td>\n",
              "      <td>307.0</td>\n",
              "      <td>130.0</td>\n",
              "      <td>3504</td>\n",
              "      <td>12.0</td>\n",
              "      <td>70</td>\n",
              "      <td>True</td>\n",
              "      <td>False</td>\n",
              "      <td>False</td>\n",
              "    </tr>\n",
              "    <tr>\n",
              "      <th>1</th>\n",
              "      <td>8</td>\n",
              "      <td>350.0</td>\n",
              "      <td>165.0</td>\n",
              "      <td>3693</td>\n",
              "      <td>11.5</td>\n",
              "      <td>70</td>\n",
              "      <td>True</td>\n",
              "      <td>False</td>\n",
              "      <td>False</td>\n",
              "    </tr>\n",
              "    <tr>\n",
              "      <th>2</th>\n",
              "      <td>8</td>\n",
              "      <td>318.0</td>\n",
              "      <td>150.0</td>\n",
              "      <td>3436</td>\n",
              "      <td>11.0</td>\n",
              "      <td>70</td>\n",
              "      <td>True</td>\n",
              "      <td>False</td>\n",
              "      <td>False</td>\n",
              "    </tr>\n",
              "    <tr>\n",
              "      <th>3</th>\n",
              "      <td>8</td>\n",
              "      <td>304.0</td>\n",
              "      <td>150.0</td>\n",
              "      <td>3433</td>\n",
              "      <td>12.0</td>\n",
              "      <td>70</td>\n",
              "      <td>True</td>\n",
              "      <td>False</td>\n",
              "      <td>False</td>\n",
              "    </tr>\n",
              "    <tr>\n",
              "      <th>4</th>\n",
              "      <td>8</td>\n",
              "      <td>302.0</td>\n",
              "      <td>140.0</td>\n",
              "      <td>3449</td>\n",
              "      <td>10.5</td>\n",
              "      <td>70</td>\n",
              "      <td>True</td>\n",
              "      <td>False</td>\n",
              "      <td>False</td>\n",
              "    </tr>\n",
              "  </tbody>\n",
              "</table>\n",
              "</div>"
            ],
            "text/plain": [
              "   cylinders  displacement  horsepower  ...  is_usa  is_europe  is_japan\n",
              "0          8         307.0       130.0  ...    True      False     False\n",
              "1          8         350.0       165.0  ...    True      False     False\n",
              "2          8         318.0       150.0  ...    True      False     False\n",
              "3          8         304.0       150.0  ...    True      False     False\n",
              "4          8         302.0       140.0  ...    True      False     False\n",
              "\n",
              "[5 rows x 9 columns]"
            ]
          },
          "metadata": {
            "tags": []
          },
          "execution_count": 49
        }
      ]
    },
    {
      "cell_type": "markdown",
      "metadata": {
        "id": "fAr6Zwezj5qJ",
        "colab_type": "text"
      },
      "source": [
        "*Once again, let's make a linear model with this data.*"
      ]
    },
    {
      "cell_type": "code",
      "metadata": {
        "id": "2skd1rGHj8uQ",
        "colab_type": "code",
        "colab": {}
      },
      "source": [
        "cars_linear_model = linear_model.LinearRegression()"
      ],
      "execution_count": null,
      "outputs": []
    },
    {
      "cell_type": "code",
      "metadata": {
        "id": "RZajzYpokBfN",
        "colab_type": "code",
        "colab": {
          "base_uri": "https://localhost:8080/",
          "height": 55
        },
        "outputId": "3cf2fc30-da32-4cfa-d8c6-eab11a0f2478"
      },
      "source": [
        "cars_linear_model.fit(X = df_cars.values, y = true_mpg)"
      ],
      "execution_count": null,
      "outputs": [
        {
          "output_type": "execute_result",
          "data": {
            "text/plain": [
              "LinearRegression(copy_X=True, fit_intercept=True, n_jobs=None, normalize=False)"
            ]
          },
          "metadata": {
            "tags": []
          },
          "execution_count": 51
        }
      ]
    },
    {
      "cell_type": "code",
      "metadata": {
        "id": "BzH_wdndkGHm",
        "colab_type": "code",
        "colab": {}
      },
      "source": [
        "first_mpg_predictions = cars_linear_model.predict(X = df_cars.values)"
      ],
      "execution_count": null,
      "outputs": []
    },
    {
      "cell_type": "code",
      "metadata": {
        "id": "DeVlKGK4kU1R",
        "colab_type": "code",
        "colab": {
          "base_uri": "https://localhost:8080/",
          "height": 55
        },
        "outputId": "1a972141-e6a2-48fa-a279-53ecf8c97b30"
      },
      "source": [
        "mean_squared_error(y_true = true_mpg, y_pred = first_mpg_predictions)"
      ],
      "execution_count": null,
      "outputs": [
        {
          "output_type": "execute_result",
          "data": {
            "text/plain": [
              "10.682121627762635"
            ]
          },
          "metadata": {
            "tags": []
          },
          "execution_count": 53
        }
      ]
    },
    {
      "cell_type": "markdown",
      "metadata": {
        "id": "ZVz7hYf8mEi9",
        "colab_type": "text"
      },
      "source": [
        "*Pretty good! Now let's plot it and see what's up*"
      ]
    },
    {
      "cell_type": "code",
      "metadata": {
        "id": "FV15bz4YmH1p",
        "colab_type": "code",
        "colab": {
          "base_uri": "https://localhost:8080/",
          "height": 55
        },
        "outputId": "14cf00b1-16cb-4f6e-fd29-e3380712eae0"
      },
      "source": [
        "fig, ax = plt.subplots()\n",
        "ax.scatter(true_mpg, first_mpg_predictions)\n",
        "fig.show()"
      ],
      "execution_count": null,
      "outputs": [
        {
          "output_type": "display_data",
          "data": {
            "image/png": "[encoded data removed]",
            "text/plain": [
              "<Figure size 432x288 with 1 Axes>"
            ]
          },
          "metadata": {
            "tags": [],
            "needs_background": "light"
          }
        }
      ]
    },
    {
      "cell_type": "markdown",
      "metadata": {
        "id": "wEQ6YzEkn4ai",
        "colab_type": "text"
      },
      "source": [
        "*What if we tried to improve our model by... encoding car names? Yeah there's a lot but why not right?*"
      ]
    },
    {
      "cell_type": "code",
      "metadata": {
        "id": "uJ7K6vLjoC4F",
        "colab_type": "code",
        "colab": {
          "base_uri": "https://localhost:8080/",
          "height": 570
        },
        "outputId": "64f11a8a-1ed4-496d-9510-7d60d64ba63d"
      },
      "source": [
        "import sklearn.preprocessing as skpre \n",
        "df_in2 = df_carsin.dropna().copy()\n",
        "encoder = skpre.OneHotEncoder()\n",
        "encoder.fit(X = df_in2[['origin', 'name']].values)\n",
        "\n",
        "array = encoder.transform(X = df_in2[['origin','name']].values).toarray() \n",
        "df_encoded= pd.DataFrame(data = array, index = df_in2.index, columns = encoder.get_feature_names())\n",
        "df_carsmerged = pd.concat(objs = [df_in2, df_encoded], axis = 1)\n",
        "\n",
        "df_carsnames= df_carsmerged.drop(columns = ['origin', 'name'])\n",
        "df_carsnames"
      ],
      "execution_count": null,
      "outputs": [
        {
          "output_type": "execute_result",
          "data": {
            "text/html": [
              "<div>\n",
              "<style scoped>\n",
              "    .dataframe tbody tr th:only-of-type {\n",
              "        vertical-align: middle;\n",
              "    }\n",
              "\n",
              "    .dataframe tbody tr th {\n",
              "        vertical-align: top;\n",
              "    }\n",
              "\n",
              "    .dataframe thead th {\n",
              "        text-align: right;\n",
              "    }\n",
              "</style>\n",
              "<table border=\"1\" class=\"dataframe\">\n",
              "  <thead>\n",
              "    <tr style=\"text-align: right;\">\n",
              "      <th></th>\n",
              "      <th>mpg</th>\n",
              "      <th>cylinders</th>\n",
              "      <th>displacement</th>\n",
              "      <th>horsepower</th>\n",
              "      <th>weight</th>\n",
              "      <th>acceleration</th>\n",
              "      <th>model_year</th>\n",
              "      <th>x0_europe</th>\n",
              "      <th>x0_japan</th>\n",
              "      <th>x0_usa</th>\n",
              "      <th>x1_amc ambassador brougham</th>\n",
              "      <th>x1_amc ambassador dpl</th>\n",
              "      <th>x1_amc ambassador sst</th>\n",
              "      <th>x1_amc concord</th>\n",
              "      <th>x1_amc concord d/l</th>\n",
              "      <th>x1_amc concord dl 6</th>\n",
              "      <th>x1_amc gremlin</th>\n",
              "      <th>x1_amc hornet</th>\n",
              "      <th>x1_amc hornet sportabout (sw)</th>\n",
              "      <th>x1_amc matador</th>\n",
              "      <th>x1_amc matador (sw)</th>\n",
              "      <th>x1_amc pacer</th>\n",
              "      <th>x1_amc pacer d/l</th>\n",
              "      <th>x1_amc rebel sst</th>\n",
              "      <th>x1_amc spirit dl</th>\n",
              "      <th>x1_audi 100 ls</th>\n",
              "      <th>x1_audi 100ls</th>\n",
              "      <th>x1_audi 4000</th>\n",
              "      <th>x1_audi 5000</th>\n",
              "      <th>x1_audi 5000s (diesel)</th>\n",
              "      <th>x1_audi fox</th>\n",
              "      <th>x1_bmw 2002</th>\n",
              "      <th>x1_bmw 320i</th>\n",
              "      <th>x1_buick century</th>\n",
              "      <th>x1_buick century 350</th>\n",
              "      <th>x1_buick century limited</th>\n",
              "      <th>x1_buick century luxus (sw)</th>\n",
              "      <th>x1_buick century special</th>\n",
              "      <th>x1_buick electra 225 custom</th>\n",
              "      <th>x1_buick estate wagon (sw)</th>\n",
              "      <th>...</th>\n",
              "      <th>x1_toyota celica gt liftback</th>\n",
              "      <th>x1_toyota corolla</th>\n",
              "      <th>x1_toyota corolla 1200</th>\n",
              "      <th>x1_toyota corolla 1600 (sw)</th>\n",
              "      <th>x1_toyota corolla liftback</th>\n",
              "      <th>x1_toyota corolla tercel</th>\n",
              "      <th>x1_toyota corona</th>\n",
              "      <th>x1_toyota corona hardtop</th>\n",
              "      <th>x1_toyota corona liftback</th>\n",
              "      <th>x1_toyota corona mark ii</th>\n",
              "      <th>x1_toyota cressida</th>\n",
              "      <th>x1_toyota mark ii</th>\n",
              "      <th>x1_toyota starlet</th>\n",
              "      <th>x1_toyota tercel</th>\n",
              "      <th>x1_toyouta corona mark ii (sw)</th>\n",
              "      <th>x1_triumph tr7 coupe</th>\n",
              "      <th>x1_vokswagen rabbit</th>\n",
              "      <th>x1_volkswagen 1131 deluxe sedan</th>\n",
              "      <th>x1_volkswagen 411 (sw)</th>\n",
              "      <th>x1_volkswagen dasher</th>\n",
              "      <th>x1_volkswagen jetta</th>\n",
              "      <th>x1_volkswagen model 111</th>\n",
              "      <th>x1_volkswagen rabbit</th>\n",
              "      <th>x1_volkswagen rabbit custom</th>\n",
              "      <th>x1_volkswagen rabbit custom diesel</th>\n",
              "      <th>x1_volkswagen rabbit l</th>\n",
              "      <th>x1_volkswagen scirocco</th>\n",
              "      <th>x1_volkswagen super beetle</th>\n",
              "      <th>x1_volkswagen type 3</th>\n",
              "      <th>x1_volvo 144ea</th>\n",
              "      <th>x1_volvo 145e (sw)</th>\n",
              "      <th>x1_volvo 244dl</th>\n",
              "      <th>x1_volvo 245</th>\n",
              "      <th>x1_volvo 264gl</th>\n",
              "      <th>x1_volvo diesel</th>\n",
              "      <th>x1_vw dasher (diesel)</th>\n",
              "      <th>x1_vw pickup</th>\n",
              "      <th>x1_vw rabbit</th>\n",
              "      <th>x1_vw rabbit c (diesel)</th>\n",
              "      <th>x1_vw rabbit custom</th>\n",
              "    </tr>\n",
              "  </thead>\n",
              "  <tbody>\n",
              "    <tr>\n",
              "      <th>0</th>\n",
              "      <td>18.0</td>\n",
              "      <td>8</td>\n",
              "      <td>307.0</td>\n",
              "      <td>130.0</td>\n",
              "      <td>3504</td>\n",
              "      <td>12.0</td>\n",
              "      <td>70</td>\n",
              "      <td>0.0</td>\n",
              "      <td>0.0</td>\n",
              "      <td>1.0</td>\n",
              "      <td>0.0</td>\n",
              "      <td>0.0</td>\n",
              "      <td>0.0</td>\n",
              "      <td>0.0</td>\n",
              "      <td>0.0</td>\n",
              "      <td>0.0</td>\n",
              "      <td>0.0</td>\n",
              "      <td>0.0</td>\n",
              "      <td>0.0</td>\n",
              "      <td>0.0</td>\n",
              "      <td>0.0</td>\n",
              "      <td>0.0</td>\n",
              "      <td>0.0</td>\n",
              "      <td>0.0</td>\n",
              "      <td>0.0</td>\n",
              "      <td>0.0</td>\n",
              "      <td>0.0</td>\n",
              "      <td>0.0</td>\n",
              "      <td>0.0</td>\n",
              "      <td>0.0</td>\n",
              "      <td>0.0</td>\n",
              "      <td>0.0</td>\n",
              "      <td>0.0</td>\n",
              "      <td>0.0</td>\n",
              "      <td>0.0</td>\n",
              "      <td>0.0</td>\n",
              "      <td>0.0</td>\n",
              "      <td>0.0</td>\n",
              "      <td>0.0</td>\n",
              "      <td>0.0</td>\n",
              "      <td>...</td>\n",
              "      <td>0.0</td>\n",
              "      <td>0.0</td>\n",
              "      <td>0.0</td>\n",
              "      <td>0.0</td>\n",
              "      <td>0.0</td>\n",
              "      <td>0.0</td>\n",
              "      <td>0.0</td>\n",
              "      <td>0.0</td>\n",
              "      <td>0.0</td>\n",
              "      <td>0.0</td>\n",
              "      <td>0.0</td>\n",
              "      <td>0.0</td>\n",
              "      <td>0.0</td>\n",
              "      <td>0.0</td>\n",
              "      <td>0.0</td>\n",
              "      <td>0.0</td>\n",
              "      <td>0.0</td>\n",
              "      <td>0.0</td>\n",
              "      <td>0.0</td>\n",
              "      <td>0.0</td>\n",
              "      <td>0.0</td>\n",
              "      <td>0.0</td>\n",
              "      <td>0.0</td>\n",
              "      <td>0.0</td>\n",
              "      <td>0.0</td>\n",
              "      <td>0.0</td>\n",
              "      <td>0.0</td>\n",
              "      <td>0.0</td>\n",
              "      <td>0.0</td>\n",
              "      <td>0.0</td>\n",
              "      <td>0.0</td>\n",
              "      <td>0.0</td>\n",
              "      <td>0.0</td>\n",
              "      <td>0.0</td>\n",
              "      <td>0.0</td>\n",
              "      <td>0.0</td>\n",
              "      <td>0.0</td>\n",
              "      <td>0.0</td>\n",
              "      <td>0.0</td>\n",
              "      <td>0.0</td>\n",
              "    </tr>\n",
              "    <tr>\n",
              "      <th>1</th>\n",
              "      <td>15.0</td>\n",
              "      <td>8</td>\n",
              "      <td>350.0</td>\n",
              "      <td>165.0</td>\n",
              "      <td>3693</td>\n",
              "      <td>11.5</td>\n",
              "      <td>70</td>\n",
              "      <td>0.0</td>\n",
              "      <td>0.0</td>\n",
              "      <td>1.0</td>\n",
              "      <td>0.0</td>\n",
              "      <td>0.0</td>\n",
              "      <td>0.0</td>\n",
              "      <td>0.0</td>\n",
              "      <td>0.0</td>\n",
              "      <td>0.0</td>\n",
              "      <td>0.0</td>\n",
              "      <td>0.0</td>\n",
              "      <td>0.0</td>\n",
              "      <td>0.0</td>\n",
              "      <td>0.0</td>\n",
              "      <td>0.0</td>\n",
              "      <td>0.0</td>\n",
              "      <td>0.0</td>\n",
              "      <td>0.0</td>\n",
              "      <td>0.0</td>\n",
              "      <td>0.0</td>\n",
              "      <td>0.0</td>\n",
              "      <td>0.0</td>\n",
              "      <td>0.0</td>\n",
              "      <td>0.0</td>\n",
              "      <td>0.0</td>\n",
              "      <td>0.0</td>\n",
              "      <td>0.0</td>\n",
              "      <td>0.0</td>\n",
              "      <td>0.0</td>\n",
              "      <td>0.0</td>\n",
              "      <td>0.0</td>\n",
              "      <td>0.0</td>\n",
              "      <td>0.0</td>\n",
              "      <td>...</td>\n",
              "      <td>0.0</td>\n",
              "      <td>0.0</td>\n",
              "      <td>0.0</td>\n",
              "      <td>0.0</td>\n",
              "      <td>0.0</td>\n",
              "      <td>0.0</td>\n",
              "      <td>0.0</td>\n",
              "      <td>0.0</td>\n",
              "      <td>0.0</td>\n",
              "      <td>0.0</td>\n",
              "      <td>0.0</td>\n",
              "      <td>0.0</td>\n",
              "      <td>0.0</td>\n",
              "      <td>0.0</td>\n",
              "      <td>0.0</td>\n",
              "      <td>0.0</td>\n",
              "      <td>0.0</td>\n",
              "      <td>0.0</td>\n",
              "      <td>0.0</td>\n",
              "      <td>0.0</td>\n",
              "      <td>0.0</td>\n",
              "      <td>0.0</td>\n",
              "      <td>0.0</td>\n",
              "      <td>0.0</td>\n",
              "      <td>0.0</td>\n",
              "      <td>0.0</td>\n",
              "      <td>0.0</td>\n",
              "      <td>0.0</td>\n",
              "      <td>0.0</td>\n",
              "      <td>0.0</td>\n",
              "      <td>0.0</td>\n",
              "      <td>0.0</td>\n",
              "      <td>0.0</td>\n",
              "      <td>0.0</td>\n",
              "      <td>0.0</td>\n",
              "      <td>0.0</td>\n",
              "      <td>0.0</td>\n",
              "      <td>0.0</td>\n",
              "      <td>0.0</td>\n",
              "      <td>0.0</td>\n",
              "    </tr>\n",
              "    <tr>\n",
              "      <th>2</th>\n",
              "      <td>18.0</td>\n",
              "      <td>8</td>\n",
              "      <td>318.0</td>\n",
              "      <td>150.0</td>\n",
              "      <td>3436</td>\n",
              "      <td>11.0</td>\n",
              "      <td>70</td>\n",
              "      <td>0.0</td>\n",
              "      <td>0.0</td>\n",
              "      <td>1.0</td>\n",
              "      <td>0.0</td>\n",
              "      <td>0.0</td>\n",
              "      <td>0.0</td>\n",
              "      <td>0.0</td>\n",
              "      <td>0.0</td>\n",
              "      <td>0.0</td>\n",
              "      <td>0.0</td>\n",
              "      <td>0.0</td>\n",
              "      <td>0.0</td>\n",
              "      <td>0.0</td>\n",
              "      <td>0.0</td>\n",
              "      <td>0.0</td>\n",
              "      <td>0.0</td>\n",
              "      <td>0.0</td>\n",
              "      <td>0.0</td>\n",
              "      <td>0.0</td>\n",
              "      <td>0.0</td>\n",
              "      <td>0.0</td>\n",
              "      <td>0.0</td>\n",
              "      <td>0.0</td>\n",
              "      <td>0.0</td>\n",
              "      <td>0.0</td>\n",
              "      <td>0.0</td>\n",
              "      <td>0.0</td>\n",
              "      <td>0.0</td>\n",
              "      <td>0.0</td>\n",
              "      <td>0.0</td>\n",
              "      <td>0.0</td>\n",
              "      <td>0.0</td>\n",
              "      <td>0.0</td>\n",
              "      <td>...</td>\n",
              "      <td>0.0</td>\n",
              "      <td>0.0</td>\n",
              "      <td>0.0</td>\n",
              "      <td>0.0</td>\n",
              "      <td>0.0</td>\n",
              "      <td>0.0</td>\n",
              "      <td>0.0</td>\n",
              "      <td>0.0</td>\n",
              "      <td>0.0</td>\n",
              "      <td>0.0</td>\n",
              "      <td>0.0</td>\n",
              "      <td>0.0</td>\n",
              "      <td>0.0</td>\n",
              "      <td>0.0</td>\n",
              "      <td>0.0</td>\n",
              "      <td>0.0</td>\n",
              "      <td>0.0</td>\n",
              "      <td>0.0</td>\n",
              "      <td>0.0</td>\n",
              "      <td>0.0</td>\n",
              "      <td>0.0</td>\n",
              "      <td>0.0</td>\n",
              "      <td>0.0</td>\n",
              "      <td>0.0</td>\n",
              "      <td>0.0</td>\n",
              "      <td>0.0</td>\n",
              "      <td>0.0</td>\n",
              "      <td>0.0</td>\n",
              "      <td>0.0</td>\n",
              "      <td>0.0</td>\n",
              "      <td>0.0</td>\n",
              "      <td>0.0</td>\n",
              "      <td>0.0</td>\n",
              "      <td>0.0</td>\n",
              "      <td>0.0</td>\n",
              "      <td>0.0</td>\n",
              "      <td>0.0</td>\n",
              "      <td>0.0</td>\n",
              "      <td>0.0</td>\n",
              "      <td>0.0</td>\n",
              "    </tr>\n",
              "    <tr>\n",
              "      <th>3</th>\n",
              "      <td>16.0</td>\n",
              "      <td>8</td>\n",
              "      <td>304.0</td>\n",
              "      <td>150.0</td>\n",
              "      <td>3433</td>\n",
              "      <td>12.0</td>\n",
              "      <td>70</td>\n",
              "      <td>0.0</td>\n",
              "      <td>0.0</td>\n",
              "      <td>1.0</td>\n",
              "      <td>0.0</td>\n",
              "      <td>0.0</td>\n",
              "      <td>0.0</td>\n",
              "      <td>0.0</td>\n",
              "      <td>0.0</td>\n",
              "      <td>0.0</td>\n",
              "      <td>0.0</td>\n",
              "      <td>0.0</td>\n",
              "      <td>0.0</td>\n",
              "      <td>0.0</td>\n",
              "      <td>0.0</td>\n",
              "      <td>0.0</td>\n",
              "      <td>0.0</td>\n",
              "      <td>1.0</td>\n",
              "      <td>0.0</td>\n",
              "      <td>0.0</td>\n",
              "      <td>0.0</td>\n",
              "      <td>0.0</td>\n",
              "      <td>0.0</td>\n",
              "      <td>0.0</td>\n",
              "      <td>0.0</td>\n",
              "      <td>0.0</td>\n",
              "      <td>0.0</td>\n",
              "      <td>0.0</td>\n",
              "      <td>0.0</td>\n",
              "      <td>0.0</td>\n",
              "      <td>0.0</td>\n",
              "      <td>0.0</td>\n",
              "      <td>0.0</td>\n",
              "      <td>0.0</td>\n",
              "      <td>...</td>\n",
              "      <td>0.0</td>\n",
              "      <td>0.0</td>\n",
              "      <td>0.0</td>\n",
              "      <td>0.0</td>\n",
              "      <td>0.0</td>\n",
              "      <td>0.0</td>\n",
              "      <td>0.0</td>\n",
              "      <td>0.0</td>\n",
              "      <td>0.0</td>\n",
              "      <td>0.0</td>\n",
              "      <td>0.0</td>\n",
              "      <td>0.0</td>\n",
              "      <td>0.0</td>\n",
              "      <td>0.0</td>\n",
              "      <td>0.0</td>\n",
              "      <td>0.0</td>\n",
              "      <td>0.0</td>\n",
              "      <td>0.0</td>\n",
              "      <td>0.0</td>\n",
              "      <td>0.0</td>\n",
              "      <td>0.0</td>\n",
              "      <td>0.0</td>\n",
              "      <td>0.0</td>\n",
              "      <td>0.0</td>\n",
              "      <td>0.0</td>\n",
              "      <td>0.0</td>\n",
              "      <td>0.0</td>\n",
              "      <td>0.0</td>\n",
              "      <td>0.0</td>\n",
              "      <td>0.0</td>\n",
              "      <td>0.0</td>\n",
              "      <td>0.0</td>\n",
              "      <td>0.0</td>\n",
              "      <td>0.0</td>\n",
              "      <td>0.0</td>\n",
              "      <td>0.0</td>\n",
              "      <td>0.0</td>\n",
              "      <td>0.0</td>\n",
              "      <td>0.0</td>\n",
              "      <td>0.0</td>\n",
              "    </tr>\n",
              "    <tr>\n",
              "      <th>4</th>\n",
              "      <td>17.0</td>\n",
              "      <td>8</td>\n",
              "      <td>302.0</td>\n",
              "      <td>140.0</td>\n",
              "      <td>3449</td>\n",
              "      <td>10.5</td>\n",
              "      <td>70</td>\n",
              "      <td>0.0</td>\n",
              "      <td>0.0</td>\n",
              "      <td>1.0</td>\n",
              "      <td>0.0</td>\n",
              "      <td>0.0</td>\n",
              "      <td>0.0</td>\n",
              "      <td>0.0</td>\n",
              "      <td>0.0</td>\n",
              "      <td>0.0</td>\n",
              "      <td>0.0</td>\n",
              "      <td>0.0</td>\n",
              "      <td>0.0</td>\n",
              "      <td>0.0</td>\n",
              "      <td>0.0</td>\n",
              "      <td>0.0</td>\n",
              "      <td>0.0</td>\n",
              "      <td>0.0</td>\n",
              "      <td>0.0</td>\n",
              "      <td>0.0</td>\n",
              "      <td>0.0</td>\n",
              "      <td>0.0</td>\n",
              "      <td>0.0</td>\n",
              "      <td>0.0</td>\n",
              "      <td>0.0</td>\n",
              "      <td>0.0</td>\n",
              "      <td>0.0</td>\n",
              "      <td>0.0</td>\n",
              "      <td>0.0</td>\n",
              "      <td>0.0</td>\n",
              "      <td>0.0</td>\n",
              "      <td>0.0</td>\n",
              "      <td>0.0</td>\n",
              "      <td>0.0</td>\n",
              "      <td>...</td>\n",
              "      <td>0.0</td>\n",
              "      <td>0.0</td>\n",
              "      <td>0.0</td>\n",
              "      <td>0.0</td>\n",
              "      <td>0.0</td>\n",
              "      <td>0.0</td>\n",
              "      <td>0.0</td>\n",
              "      <td>0.0</td>\n",
              "      <td>0.0</td>\n",
              "      <td>0.0</td>\n",
              "      <td>0.0</td>\n",
              "      <td>0.0</td>\n",
              "      <td>0.0</td>\n",
              "      <td>0.0</td>\n",
              "      <td>0.0</td>\n",
              "      <td>0.0</td>\n",
              "      <td>0.0</td>\n",
              "      <td>0.0</td>\n",
              "      <td>0.0</td>\n",
              "      <td>0.0</td>\n",
              "      <td>0.0</td>\n",
              "      <td>0.0</td>\n",
              "      <td>0.0</td>\n",
              "      <td>0.0</td>\n",
              "      <td>0.0</td>\n",
              "      <td>0.0</td>\n",
              "      <td>0.0</td>\n",
              "      <td>0.0</td>\n",
              "      <td>0.0</td>\n",
              "      <td>0.0</td>\n",
              "      <td>0.0</td>\n",
              "      <td>0.0</td>\n",
              "      <td>0.0</td>\n",
              "      <td>0.0</td>\n",
              "      <td>0.0</td>\n",
              "      <td>0.0</td>\n",
              "      <td>0.0</td>\n",
              "      <td>0.0</td>\n",
              "      <td>0.0</td>\n",
              "      <td>0.0</td>\n",
              "    </tr>\n",
              "    <tr>\n",
              "      <th>...</th>\n",
              "      <td>...</td>\n",
              "      <td>...</td>\n",
              "      <td>...</td>\n",
              "      <td>...</td>\n",
              "      <td>...</td>\n",
              "      <td>...</td>\n",
              "      <td>...</td>\n",
              "      <td>...</td>\n",
              "      <td>...</td>\n",
              "      <td>...</td>\n",
              "      <td>...</td>\n",
              "      <td>...</td>\n",
              "      <td>...</td>\n",
              "      <td>...</td>\n",
              "      <td>...</td>\n",
              "      <td>...</td>\n",
              "      <td>...</td>\n",
              "      <td>...</td>\n",
              "      <td>...</td>\n",
              "      <td>...</td>\n",
              "      <td>...</td>\n",
              "      <td>...</td>\n",
              "      <td>...</td>\n",
              "      <td>...</td>\n",
              "      <td>...</td>\n",
              "      <td>...</td>\n",
              "      <td>...</td>\n",
              "      <td>...</td>\n",
              "      <td>...</td>\n",
              "      <td>...</td>\n",
              "      <td>...</td>\n",
              "      <td>...</td>\n",
              "      <td>...</td>\n",
              "      <td>...</td>\n",
              "      <td>...</td>\n",
              "      <td>...</td>\n",
              "      <td>...</td>\n",
              "      <td>...</td>\n",
              "      <td>...</td>\n",
              "      <td>...</td>\n",
              "      <td>...</td>\n",
              "      <td>...</td>\n",
              "      <td>...</td>\n",
              "      <td>...</td>\n",
              "      <td>...</td>\n",
              "      <td>...</td>\n",
              "      <td>...</td>\n",
              "      <td>...</td>\n",
              "      <td>...</td>\n",
              "      <td>...</td>\n",
              "      <td>...</td>\n",
              "      <td>...</td>\n",
              "      <td>...</td>\n",
              "      <td>...</td>\n",
              "      <td>...</td>\n",
              "      <td>...</td>\n",
              "      <td>...</td>\n",
              "      <td>...</td>\n",
              "      <td>...</td>\n",
              "      <td>...</td>\n",
              "      <td>...</td>\n",
              "      <td>...</td>\n",
              "      <td>...</td>\n",
              "      <td>...</td>\n",
              "      <td>...</td>\n",
              "      <td>...</td>\n",
              "      <td>...</td>\n",
              "      <td>...</td>\n",
              "      <td>...</td>\n",
              "      <td>...</td>\n",
              "      <td>...</td>\n",
              "      <td>...</td>\n",
              "      <td>...</td>\n",
              "      <td>...</td>\n",
              "      <td>...</td>\n",
              "      <td>...</td>\n",
              "      <td>...</td>\n",
              "      <td>...</td>\n",
              "      <td>...</td>\n",
              "      <td>...</td>\n",
              "      <td>...</td>\n",
              "    </tr>\n",
              "    <tr>\n",
              "      <th>393</th>\n",
              "      <td>27.0</td>\n",
              "      <td>4</td>\n",
              "      <td>140.0</td>\n",
              "      <td>86.0</td>\n",
              "      <td>2790</td>\n",
              "      <td>15.6</td>\n",
              "      <td>82</td>\n",
              "      <td>0.0</td>\n",
              "      <td>0.0</td>\n",
              "      <td>1.0</td>\n",
              "      <td>0.0</td>\n",
              "      <td>0.0</td>\n",
              "      <td>0.0</td>\n",
              "      <td>0.0</td>\n",
              "      <td>0.0</td>\n",
              "      <td>0.0</td>\n",
              "      <td>0.0</td>\n",
              "      <td>0.0</td>\n",
              "      <td>0.0</td>\n",
              "      <td>0.0</td>\n",
              "      <td>0.0</td>\n",
              "      <td>0.0</td>\n",
              "      <td>0.0</td>\n",
              "      <td>0.0</td>\n",
              "      <td>0.0</td>\n",
              "      <td>0.0</td>\n",
              "      <td>0.0</td>\n",
              "      <td>0.0</td>\n",
              "      <td>0.0</td>\n",
              "      <td>0.0</td>\n",
              "      <td>0.0</td>\n",
              "      <td>0.0</td>\n",
              "      <td>0.0</td>\n",
              "      <td>0.0</td>\n",
              "      <td>0.0</td>\n",
              "      <td>0.0</td>\n",
              "      <td>0.0</td>\n",
              "      <td>0.0</td>\n",
              "      <td>0.0</td>\n",
              "      <td>0.0</td>\n",
              "      <td>...</td>\n",
              "      <td>0.0</td>\n",
              "      <td>0.0</td>\n",
              "      <td>0.0</td>\n",
              "      <td>0.0</td>\n",
              "      <td>0.0</td>\n",
              "      <td>0.0</td>\n",
              "      <td>0.0</td>\n",
              "      <td>0.0</td>\n",
              "      <td>0.0</td>\n",
              "      <td>0.0</td>\n",
              "      <td>0.0</td>\n",
              "      <td>0.0</td>\n",
              "      <td>0.0</td>\n",
              "      <td>0.0</td>\n",
              "      <td>0.0</td>\n",
              "      <td>0.0</td>\n",
              "      <td>0.0</td>\n",
              "      <td>0.0</td>\n",
              "      <td>0.0</td>\n",
              "      <td>0.0</td>\n",
              "      <td>0.0</td>\n",
              "      <td>0.0</td>\n",
              "      <td>0.0</td>\n",
              "      <td>0.0</td>\n",
              "      <td>0.0</td>\n",
              "      <td>0.0</td>\n",
              "      <td>0.0</td>\n",
              "      <td>0.0</td>\n",
              "      <td>0.0</td>\n",
              "      <td>0.0</td>\n",
              "      <td>0.0</td>\n",
              "      <td>0.0</td>\n",
              "      <td>0.0</td>\n",
              "      <td>0.0</td>\n",
              "      <td>0.0</td>\n",
              "      <td>0.0</td>\n",
              "      <td>0.0</td>\n",
              "      <td>0.0</td>\n",
              "      <td>0.0</td>\n",
              "      <td>0.0</td>\n",
              "    </tr>\n",
              "    <tr>\n",
              "      <th>394</th>\n",
              "      <td>44.0</td>\n",
              "      <td>4</td>\n",
              "      <td>97.0</td>\n",
              "      <td>52.0</td>\n",
              "      <td>2130</td>\n",
              "      <td>24.6</td>\n",
              "      <td>82</td>\n",
              "      <td>1.0</td>\n",
              "      <td>0.0</td>\n",
              "      <td>0.0</td>\n",
              "      <td>0.0</td>\n",
              "      <td>0.0</td>\n",
              "      <td>0.0</td>\n",
              "      <td>0.0</td>\n",
              "      <td>0.0</td>\n",
              "      <td>0.0</td>\n",
              "      <td>0.0</td>\n",
              "      <td>0.0</td>\n",
              "      <td>0.0</td>\n",
              "      <td>0.0</td>\n",
              "      <td>0.0</td>\n",
              "      <td>0.0</td>\n",
              "      <td>0.0</td>\n",
              "      <td>0.0</td>\n",
              "      <td>0.0</td>\n",
              "      <td>0.0</td>\n",
              "      <td>0.0</td>\n",
              "      <td>0.0</td>\n",
              "      <td>0.0</td>\n",
              "      <td>0.0</td>\n",
              "      <td>0.0</td>\n",
              "      <td>0.0</td>\n",
              "      <td>0.0</td>\n",
              "      <td>0.0</td>\n",
              "      <td>0.0</td>\n",
              "      <td>0.0</td>\n",
              "      <td>0.0</td>\n",
              "      <td>0.0</td>\n",
              "      <td>0.0</td>\n",
              "      <td>0.0</td>\n",
              "      <td>...</td>\n",
              "      <td>0.0</td>\n",
              "      <td>0.0</td>\n",
              "      <td>0.0</td>\n",
              "      <td>0.0</td>\n",
              "      <td>0.0</td>\n",
              "      <td>0.0</td>\n",
              "      <td>0.0</td>\n",
              "      <td>0.0</td>\n",
              "      <td>0.0</td>\n",
              "      <td>0.0</td>\n",
              "      <td>0.0</td>\n",
              "      <td>0.0</td>\n",
              "      <td>0.0</td>\n",
              "      <td>0.0</td>\n",
              "      <td>0.0</td>\n",
              "      <td>0.0</td>\n",
              "      <td>0.0</td>\n",
              "      <td>0.0</td>\n",
              "      <td>0.0</td>\n",
              "      <td>0.0</td>\n",
              "      <td>0.0</td>\n",
              "      <td>0.0</td>\n",
              "      <td>0.0</td>\n",
              "      <td>0.0</td>\n",
              "      <td>0.0</td>\n",
              "      <td>0.0</td>\n",
              "      <td>0.0</td>\n",
              "      <td>0.0</td>\n",
              "      <td>0.0</td>\n",
              "      <td>0.0</td>\n",
              "      <td>0.0</td>\n",
              "      <td>0.0</td>\n",
              "      <td>0.0</td>\n",
              "      <td>0.0</td>\n",
              "      <td>0.0</td>\n",
              "      <td>0.0</td>\n",
              "      <td>1.0</td>\n",
              "      <td>0.0</td>\n",
              "      <td>0.0</td>\n",
              "      <td>0.0</td>\n",
              "    </tr>\n",
              "    <tr>\n",
              "      <th>395</th>\n",
              "      <td>32.0</td>\n",
              "      <td>4</td>\n",
              "      <td>135.0</td>\n",
              "      <td>84.0</td>\n",
              "      <td>2295</td>\n",
              "      <td>11.6</td>\n",
              "      <td>82</td>\n",
              "      <td>0.0</td>\n",
              "      <td>0.0</td>\n",
              "      <td>1.0</td>\n",
              "      <td>0.0</td>\n",
              "      <td>0.0</td>\n",
              "      <td>0.0</td>\n",
              "      <td>0.0</td>\n",
              "      <td>0.0</td>\n",
              "      <td>0.0</td>\n",
              "      <td>0.0</td>\n",
              "      <td>0.0</td>\n",
              "      <td>0.0</td>\n",
              "      <td>0.0</td>\n",
              "      <td>0.0</td>\n",
              "      <td>0.0</td>\n",
              "      <td>0.0</td>\n",
              "      <td>0.0</td>\n",
              "      <td>0.0</td>\n",
              "      <td>0.0</td>\n",
              "      <td>0.0</td>\n",
              "      <td>0.0</td>\n",
              "      <td>0.0</td>\n",
              "      <td>0.0</td>\n",
              "      <td>0.0</td>\n",
              "      <td>0.0</td>\n",
              "      <td>0.0</td>\n",
              "      <td>0.0</td>\n",
              "      <td>0.0</td>\n",
              "      <td>0.0</td>\n",
              "      <td>0.0</td>\n",
              "      <td>0.0</td>\n",
              "      <td>0.0</td>\n",
              "      <td>0.0</td>\n",
              "      <td>...</td>\n",
              "      <td>0.0</td>\n",
              "      <td>0.0</td>\n",
              "      <td>0.0</td>\n",
              "      <td>0.0</td>\n",
              "      <td>0.0</td>\n",
              "      <td>0.0</td>\n",
              "      <td>0.0</td>\n",
              "      <td>0.0</td>\n",
              "      <td>0.0</td>\n",
              "      <td>0.0</td>\n",
              "      <td>0.0</td>\n",
              "      <td>0.0</td>\n",
              "      <td>0.0</td>\n",
              "      <td>0.0</td>\n",
              "      <td>0.0</td>\n",
              "      <td>0.0</td>\n",
              "      <td>0.0</td>\n",
              "      <td>0.0</td>\n",
              "      <td>0.0</td>\n",
              "      <td>0.0</td>\n",
              "      <td>0.0</td>\n",
              "      <td>0.0</td>\n",
              "      <td>0.0</td>\n",
              "      <td>0.0</td>\n",
              "      <td>0.0</td>\n",
              "      <td>0.0</td>\n",
              "      <td>0.0</td>\n",
              "      <td>0.0</td>\n",
              "      <td>0.0</td>\n",
              "      <td>0.0</td>\n",
              "      <td>0.0</td>\n",
              "      <td>0.0</td>\n",
              "      <td>0.0</td>\n",
              "      <td>0.0</td>\n",
              "      <td>0.0</td>\n",
              "      <td>0.0</td>\n",
              "      <td>0.0</td>\n",
              "      <td>0.0</td>\n",
              "      <td>0.0</td>\n",
              "      <td>0.0</td>\n",
              "    </tr>\n",
              "    <tr>\n",
              "      <th>396</th>\n",
              "      <td>28.0</td>\n",
              "      <td>4</td>\n",
              "      <td>120.0</td>\n",
              "      <td>79.0</td>\n",
              "      <td>2625</td>\n",
              "      <td>18.6</td>\n",
              "      <td>82</td>\n",
              "      <td>0.0</td>\n",
              "      <td>0.0</td>\n",
              "      <td>1.0</td>\n",
              "      <td>0.0</td>\n",
              "      <td>0.0</td>\n",
              "      <td>0.0</td>\n",
              "      <td>0.0</td>\n",
              "      <td>0.0</td>\n",
              "      <td>0.0</td>\n",
              "      <td>0.0</td>\n",
              "      <td>0.0</td>\n",
              "      <td>0.0</td>\n",
              "      <td>0.0</td>\n",
              "      <td>0.0</td>\n",
              "      <td>0.0</td>\n",
              "      <td>0.0</td>\n",
              "      <td>0.0</td>\n",
              "      <td>0.0</td>\n",
              "      <td>0.0</td>\n",
              "      <td>0.0</td>\n",
              "      <td>0.0</td>\n",
              "      <td>0.0</td>\n",
              "      <td>0.0</td>\n",
              "      <td>0.0</td>\n",
              "      <td>0.0</td>\n",
              "      <td>0.0</td>\n",
              "      <td>0.0</td>\n",
              "      <td>0.0</td>\n",
              "      <td>0.0</td>\n",
              "      <td>0.0</td>\n",
              "      <td>0.0</td>\n",
              "      <td>0.0</td>\n",
              "      <td>0.0</td>\n",
              "      <td>...</td>\n",
              "      <td>0.0</td>\n",
              "      <td>0.0</td>\n",
              "      <td>0.0</td>\n",
              "      <td>0.0</td>\n",
              "      <td>0.0</td>\n",
              "      <td>0.0</td>\n",
              "      <td>0.0</td>\n",
              "      <td>0.0</td>\n",
              "      <td>0.0</td>\n",
              "      <td>0.0</td>\n",
              "      <td>0.0</td>\n",
              "      <td>0.0</td>\n",
              "      <td>0.0</td>\n",
              "      <td>0.0</td>\n",
              "      <td>0.0</td>\n",
              "      <td>0.0</td>\n",
              "      <td>0.0</td>\n",
              "      <td>0.0</td>\n",
              "      <td>0.0</td>\n",
              "      <td>0.0</td>\n",
              "      <td>0.0</td>\n",
              "      <td>0.0</td>\n",
              "      <td>0.0</td>\n",
              "      <td>0.0</td>\n",
              "      <td>0.0</td>\n",
              "      <td>0.0</td>\n",
              "      <td>0.0</td>\n",
              "      <td>0.0</td>\n",
              "      <td>0.0</td>\n",
              "      <td>0.0</td>\n",
              "      <td>0.0</td>\n",
              "      <td>0.0</td>\n",
              "      <td>0.0</td>\n",
              "      <td>0.0</td>\n",
              "      <td>0.0</td>\n",
              "      <td>0.0</td>\n",
              "      <td>0.0</td>\n",
              "      <td>0.0</td>\n",
              "      <td>0.0</td>\n",
              "      <td>0.0</td>\n",
              "    </tr>\n",
              "    <tr>\n",
              "      <th>397</th>\n",
              "      <td>31.0</td>\n",
              "      <td>4</td>\n",
              "      <td>119.0</td>\n",
              "      <td>82.0</td>\n",
              "      <td>2720</td>\n",
              "      <td>19.4</td>\n",
              "      <td>82</td>\n",
              "      <td>0.0</td>\n",
              "      <td>0.0</td>\n",
              "      <td>1.0</td>\n",
              "      <td>0.0</td>\n",
              "      <td>0.0</td>\n",
              "      <td>0.0</td>\n",
              "      <td>0.0</td>\n",
              "      <td>0.0</td>\n",
              "      <td>0.0</td>\n",
              "      <td>0.0</td>\n",
              "      <td>0.0</td>\n",
              "      <td>0.0</td>\n",
              "      <td>0.0</td>\n",
              "      <td>0.0</td>\n",
              "      <td>0.0</td>\n",
              "      <td>0.0</td>\n",
              "      <td>0.0</td>\n",
              "      <td>0.0</td>\n",
              "      <td>0.0</td>\n",
              "      <td>0.0</td>\n",
              "      <td>0.0</td>\n",
              "      <td>0.0</td>\n",
              "      <td>0.0</td>\n",
              "      <td>0.0</td>\n",
              "      <td>0.0</td>\n",
              "      <td>0.0</td>\n",
              "      <td>0.0</td>\n",
              "      <td>0.0</td>\n",
              "      <td>0.0</td>\n",
              "      <td>0.0</td>\n",
              "      <td>0.0</td>\n",
              "      <td>0.0</td>\n",
              "      <td>0.0</td>\n",
              "      <td>...</td>\n",
              "      <td>0.0</td>\n",
              "      <td>0.0</td>\n",
              "      <td>0.0</td>\n",
              "      <td>0.0</td>\n",
              "      <td>0.0</td>\n",
              "      <td>0.0</td>\n",
              "      <td>0.0</td>\n",
              "      <td>0.0</td>\n",
              "      <td>0.0</td>\n",
              "      <td>0.0</td>\n",
              "      <td>0.0</td>\n",
              "      <td>0.0</td>\n",
              "      <td>0.0</td>\n",
              "      <td>0.0</td>\n",
              "      <td>0.0</td>\n",
              "      <td>0.0</td>\n",
              "      <td>0.0</td>\n",
              "      <td>0.0</td>\n",
              "      <td>0.0</td>\n",
              "      <td>0.0</td>\n",
              "      <td>0.0</td>\n",
              "      <td>0.0</td>\n",
              "      <td>0.0</td>\n",
              "      <td>0.0</td>\n",
              "      <td>0.0</td>\n",
              "      <td>0.0</td>\n",
              "      <td>0.0</td>\n",
              "      <td>0.0</td>\n",
              "      <td>0.0</td>\n",
              "      <td>0.0</td>\n",
              "      <td>0.0</td>\n",
              "      <td>0.0</td>\n",
              "      <td>0.0</td>\n",
              "      <td>0.0</td>\n",
              "      <td>0.0</td>\n",
              "      <td>0.0</td>\n",
              "      <td>0.0</td>\n",
              "      <td>0.0</td>\n",
              "      <td>0.0</td>\n",
              "      <td>0.0</td>\n",
              "    </tr>\n",
              "  </tbody>\n",
              "</table>\n",
              "<p>392 rows × 311 columns</p>\n",
              "</div>"
            ],
            "text/plain": [
              "      mpg  cylinders  ...  x1_vw rabbit c (diesel)  x1_vw rabbit custom\n",
              "0    18.0          8  ...                      0.0                  0.0\n",
              "1    15.0          8  ...                      0.0                  0.0\n",
              "2    18.0          8  ...                      0.0                  0.0\n",
              "3    16.0          8  ...                      0.0                  0.0\n",
              "4    17.0          8  ...                      0.0                  0.0\n",
              "..    ...        ...  ...                      ...                  ...\n",
              "393  27.0          4  ...                      0.0                  0.0\n",
              "394  44.0          4  ...                      0.0                  0.0\n",
              "395  32.0          4  ...                      0.0                  0.0\n",
              "396  28.0          4  ...                      0.0                  0.0\n",
              "397  31.0          4  ...                      0.0                  0.0\n",
              "\n",
              "[392 rows x 311 columns]"
            ]
          },
          "metadata": {
            "tags": []
          },
          "execution_count": 55
        }
      ]
    },
    {
      "cell_type": "markdown",
      "metadata": {
        "id": "bu-it7JHo212",
        "colab_type": "text"
      },
      "source": [
        "*Let's now take this encoded thingy where the car names are now columns and make a linear model with it*"
      ]
    },
    {
      "cell_type": "code",
      "metadata": {
        "id": "FvBorwh6o9zK",
        "colab_type": "code",
        "colab": {
          "base_uri": "https://localhost:8080/",
          "height": 55
        },
        "outputId": "0e19215a-bc06-4f56-a159-a8438ffc0786"
      },
      "source": [
        "cars_linear_model_2 = linear_model.LinearRegression()\n",
        "cars_linear_model_2.fit(X = df_carsnames.values, y = true_mpg )"
      ],
      "execution_count": null,
      "outputs": [
        {
          "output_type": "execute_result",
          "data": {
            "text/plain": [
              "LinearRegression(copy_X=True, fit_intercept=True, n_jobs=None, normalize=False)"
            ]
          },
          "metadata": {
            "tags": []
          },
          "execution_count": 56
        }
      ]
    },
    {
      "cell_type": "code",
      "metadata": {
        "id": "HSibOHjxo_FQ",
        "colab_type": "code",
        "colab": {}
      },
      "source": [
        "second_mpg_predictions = cars_linear_model_2.predict(X = df_carsnames.values)"
      ],
      "execution_count": null,
      "outputs": []
    },
    {
      "cell_type": "code",
      "metadata": {
        "id": "2BehdOa-pFGX",
        "colab_type": "code",
        "colab": {
          "base_uri": "https://localhost:8080/",
          "height": 55
        },
        "outputId": "6e7676f1-881d-468e-f2d1-09b00452d958"
      },
      "source": [
        "mean_squared_error(true_mpg, second_mpg_predictions)"
      ],
      "execution_count": null,
      "outputs": [
        {
          "output_type": "execute_result",
          "data": {
            "text/plain": [
              "1.6438895312677044e-28"
            ]
          },
          "metadata": {
            "tags": []
          },
          "execution_count": 58
        }
      ]
    },
    {
      "cell_type": "markdown",
      "metadata": {
        "id": "8QiTd6IzpKwH",
        "colab_type": "text"
      },
      "source": [
        "*That's a really small error! Yay :D But let's plot, and then check coefficients.*"
      ]
    },
    {
      "cell_type": "code",
      "metadata": {
        "id": "KT2ep8QxpQZM",
        "colab_type": "code",
        "colab": {
          "base_uri": "https://localhost:8080/",
          "height": 55
        },
        "outputId": "1051205a-28f1-427a-8f22-f32689e5061f"
      },
      "source": [
        "fig, ax = plt.subplots()\n",
        "ax.scatter(second_mpg_predictions, true_mpg)\n",
        "fig.show()"
      ],
      "execution_count": null,
      "outputs": [
        {
          "output_type": "display_data",
          "data": {
            "image/png": "[encoded data removed]",
            "text/plain": [
              "<Figure size 432x288 with 1 Axes>"
            ]
          },
          "metadata": {
            "tags": [],
            "needs_background": "light"
          }
        }
      ]
    },
    {
      "cell_type": "code",
      "metadata": {
        "id": "jOmJUfz0pXwS",
        "colab_type": "code",
        "colab": {
          "base_uri": "https://localhost:8080/",
          "height": 1000
        },
        "outputId": "2ce84959-86c2-4ea4-bd39-2d27b2a41451"
      },
      "source": [
        "cars_linear_model_2.coef_"
      ],
      "execution_count": null,
      "outputs": [
        {
          "output_type": "execute_result",
          "data": {
            "text/plain": [
              "array([ 1.00000000e+00, -6.36452677e-16, -4.58268972e-17,  2.11406830e-17,\n",
              "        1.41761610e-17,  3.69512690e-16, -1.71013958e-15, -1.93395695e-16,\n",
              "        4.01263726e-15, -3.81924157e-15, -1.68804770e-15, -1.58169358e-14,\n",
              "       -2.08489429e-15,  1.56914587e-15,  1.87442265e-15,  4.20835142e-16,\n",
              "       -3.95736142e-15, -4.01983245e-15, -6.50959428e-15, -4.23636319e-15,\n",
              "       -3.00330828e-15, -3.54292027e-15, -2.78289273e-15, -4.75802352e-16,\n",
              "        6.76777977e-15, -3.24759012e-15, -5.79789481e-16,  4.89765275e-15,\n",
              "        5.93793709e-15,  5.05404064e-16, -6.00082513e-16, -6.00652760e-15,\n",
              "        5.92163654e-15,  2.45321263e-16, -2.35778316e-15,  1.14955169e-14,\n",
              "       -7.05538546e-15,  1.87494336e-15, -7.55780255e-15, -3.99548870e-15,\n",
              "       -8.60040604e-15,  5.82255755e-15,  9.57633058e-15, -7.17793207e-16,\n",
              "        2.72224247e-15, -1.06751250e-14,  5.58949251e-15, -4.60680669e-15,\n",
              "       -3.84437685e-17,  3.49538727e-15, -6.35865045e-15, -6.43027454e-15,\n",
              "        8.28990136e-15, -5.78005615e-16,  1.07397500e-14,  1.07524881e-14,\n",
              "        1.18183027e-14, -5.56325651e-15,  2.57204838e-14, -2.44206748e-15,\n",
              "        5.93169441e-15,  1.30305807e-14, -1.78389602e-16, -6.90812489e-15,\n",
              "       -1.44724745e-15,  5.14642199e-15, -1.46494562e-14,  6.28291188e-16,\n",
              "       -6.22848776e-15, -3.92026716e-16, -6.00950910e-15, -7.07622554e-15,\n",
              "       -6.96665918e-15, -5.54083541e-15, -7.37459318e-15,  2.35563357e-15,\n",
              "        1.24539083e-16, -2.38821941e-14,  8.21112723e-15, -1.21106301e-15,\n",
              "        1.04842205e-14,  5.26804336e-15,  1.00464622e-15, -5.22064805e-15,\n",
              "       -8.26098275e-15, -8.11696385e-15,  2.12852549e-15,  3.28605989e-15,\n",
              "        2.81458892e-15,  2.11672129e-15,  5.83705099e-15,  1.79327221e-15,\n",
              "        4.05053028e-15,  1.85638958e-15, -6.43006881e-15,  5.18164752e-16,\n",
              "       -4.12332075e-15, -1.01001323e-15,  4.12528045e-16,  7.94364150e-15,\n",
              "       -2.16983807e-15, -5.91055378e-15, -3.33530323e-15, -3.24293863e-15,\n",
              "       -4.27545404e-15,  1.02549155e-14,  9.09432913e-15,  7.02350618e-16,\n",
              "        4.05890316e-15, -3.02986688e-15, -9.62596131e-15,  1.10587581e-14,\n",
              "        6.07161230e-15,  9.40586995e-16,  1.18382119e-15,  8.93032770e-15,\n",
              "        6.52443703e-15, -7.47852811e-16, -1.48212361e-15, -5.08622188e-15,\n",
              "        1.82564311e-15, -6.44640703e-15,  2.15406552e-16,  1.91638149e-15,\n",
              "        2.06419191e-15, -1.07961875e-14,  4.10812177e-16,  6.86217649e-15,\n",
              "        1.28266824e-14,  1.63588987e-15,  8.19198313e-18, -1.30109241e-15,\n",
              "       -3.90233121e-15, -1.92331931e-15,  1.36707152e-15,  5.51493956e-15,\n",
              "       -1.43706504e-15, -1.10816784e-14, -4.68661435e-15,  8.35084376e-15,\n",
              "        1.02399573e-14,  9.61112264e-16,  4.74413417e-15,  5.58904280e-15,\n",
              "        3.31709176e-15,  5.21193704e-15,  5.62119623e-15,  1.02538122e-14,\n",
              "        8.03483285e-15,  4.89546087e-15, -1.30980311e-14, -4.07816875e-15,\n",
              "       -3.90412625e-15, -2.30830035e-15, -8.98000798e-15,  6.69771688e-15,\n",
              "        9.30231558e-15, -5.03215935e-15,  4.33395948e-15, -4.96355034e-15,\n",
              "       -9.41522132e-15,  9.88954726e-15,  2.64712472e-15,  3.70313082e-15,\n",
              "        6.72592383e-16, -3.37784411e-16,  4.96202218e-16,  9.59017275e-15,\n",
              "       -3.86990544e-15, -6.21698380e-15, -1.00999030e-14,  1.23233614e-14,\n",
              "        4.91788820e-15, -2.75797141e-15, -9.91966673e-16, -1.39871755e-15,\n",
              "        6.58052447e-15,  3.77725928e-15, -3.50674490e-15,  2.50023166e-16,\n",
              "        1.27200286e-15, -4.75534317e-16, -5.83088677e-16,  2.56301958e-15,\n",
              "       -3.64700758e-15,  1.81126121e-15,  5.47464298e-15,  3.72015783e-15,\n",
              "       -1.75432604e-15,  4.01937816e-15,  8.49229352e-15, -1.75391381e-15,\n",
              "       -5.42944238e-15, -4.81046731e-15,  6.55928538e-16, -2.67408825e-16,\n",
              "        4.48087772e-15, -1.66728198e-15,  3.10217725e-16,  1.03429621e-14,\n",
              "       -6.37004386e-15, -9.23496045e-15, -8.63864536e-15,  3.11933589e-15,\n",
              "        2.64871961e-15,  3.35521386e-15,  4.63935687e-15,  9.51400911e-17,\n",
              "       -4.95145618e-15, -1.11381519e-15, -1.85971736e-15, -7.39071870e-15,\n",
              "       -2.82318335e-16,  1.05830178e-14,  2.96006433e-15, -3.78411183e-15,\n",
              "       -1.91096573e-15, -1.51386394e-15, -6.02669215e-15,  1.75035117e-15,\n",
              "       -6.70279000e-15, -5.61462369e-16,  6.93952733e-15, -9.18655956e-15,\n",
              "        7.89544500e-15,  1.04407536e-14, -1.60111384e-15, -5.20425666e-15,\n",
              "       -6.40644927e-15, -5.94020991e-15, -6.52500281e-15, -1.04726694e-14,\n",
              "       -4.64424928e-15,  6.45527258e-15,  9.37494001e-15,  8.99648736e-15,\n",
              "        9.07943663e-15,  8.11267846e-15,  5.71132435e-15, -1.04030687e-14,\n",
              "       -6.18132831e-15, -5.58336454e-15, -4.87686126e-15, -2.24247578e-15,\n",
              "       -2.01883264e-15,  4.12349242e-16, -3.84546132e-16,  1.76584491e-15,\n",
              "       -2.30269713e-16, -6.70446509e-15, -1.30828882e-14, -8.76312171e-15,\n",
              "       -1.67017735e-15, -2.47893715e-15,  1.11625780e-14,  3.94234363e-15,\n",
              "        5.29812460e-15, -6.24307562e-16, -1.25820887e-14,  2.85996707e-15,\n",
              "       -2.53874365e-15, -4.14979502e-15,  2.70120477e-15,  7.20524285e-16,\n",
              "       -3.45214704e-15,  6.27205288e-15,  1.69579660e-15,  1.04641839e-15,\n",
              "        2.42829379e-15, -4.51830085e-15,  4.54736989e-15,  9.30875300e-16,\n",
              "        2.15696935e-16, -2.25623492e-15, -5.39126937e-15, -1.02111323e-15,\n",
              "       -6.23659749e-16, -1.65114831e-15, -5.38919272e-15, -3.34617955e-17,\n",
              "       -1.01696606e-14,  5.76527122e-15,  3.42481127e-16,  7.68029793e-16,\n",
              "        7.25050412e-17, -5.84181835e-15,  2.28934819e-15,  7.54697150e-15,\n",
              "       -1.15883005e-14, -6.27435437e-15, -7.17429313e-16,  6.87385343e-15,\n",
              "       -5.90659960e-15,  2.62991786e-15,  5.22961337e-15, -4.58252449e-15,\n",
              "        8.11700761e-15,  4.95225844e-15, -6.10751165e-15, -8.31562680e-15,\n",
              "        8.95090010e-16, -1.36305219e-15,  8.98877889e-17, -1.28621387e-16,\n",
              "        7.49816548e-15,  2.75906594e-15, -2.37359310e-16, -1.53489135e-15,\n",
              "        2.31979611e-15, -2.75783668e-15,  6.78694075e-15])"
            ]
          },
          "metadata": {
            "tags": []
          },
          "execution_count": 60
        }
      ]
    },
    {
      "cell_type": "markdown",
      "metadata": {
        "id": "MQ3kpmwlpjhQ",
        "colab_type": "text"
      },
      "source": [
        "*This is overfitting. The model is only good for predicting on the data given, but kinda garbage at predicting for data beyond that. So instead, we will divide up our data into training data and validation data. Instead of doing it manually, we can of course just import a function to do it.*"
      ]
    },
    {
      "cell_type": "code",
      "metadata": {
        "id": "deYNlVecp599",
        "colab_type": "code",
        "colab": {}
      },
      "source": [
        "import sklearn.model_selection as skmodelselect"
      ],
      "execution_count": null,
      "outputs": []
    },
    {
      "cell_type": "code",
      "metadata": {
        "id": "zbAO_h4zqrra",
        "colab_type": "code",
        "colab": {}
      },
      "source": [
        "X_train, X_test, y_train, y_test = skmodelselect.train_test_split(df_cars, true_mpg, test_size = 0.20)\n",
        "\n",
        "##NOTE: THE DATA SELECTION IS DONE RANDOMLY, SO OUR DATA WILL DIFFER\n",
        "##NOTE: test_size = 0.2 means that the training/validation split is 80/20"
      ],
      "execution_count": null,
      "outputs": []
    },
    {
      "cell_type": "code",
      "metadata": {
        "id": "ymVv2lwIrUyj",
        "colab_type": "code",
        "colab": {}
      },
      "source": [
        "### MANDATORY CHALLENGE: INSPECT X_train, y_train, X_test, y_test ETC!!!"
      ],
      "execution_count": null,
      "outputs": []
    },
    {
      "cell_type": "code",
      "metadata": {
        "id": "yNFQQp2Nq-OH",
        "colab_type": "code",
        "colab": {
          "base_uri": "https://localhost:8080/",
          "height": 517
        },
        "outputId": "75459f59-04b9-4009-e741-78924c2a0990"
      },
      "source": [
        "X_test"
      ],
      "execution_count": null,
      "outputs": [
        {
          "output_type": "execute_result",
          "data": {
            "text/html": [
              "<div>\n",
              "<style scoped>\n",
              "    .dataframe tbody tr th:only-of-type {\n",
              "        vertical-align: middle;\n",
              "    }\n",
              "\n",
              "    .dataframe tbody tr th {\n",
              "        vertical-align: top;\n",
              "    }\n",
              "\n",
              "    .dataframe thead th {\n",
              "        text-align: right;\n",
              "    }\n",
              "</style>\n",
              "<table border=\"1\" class=\"dataframe\">\n",
              "  <thead>\n",
              "    <tr style=\"text-align: right;\">\n",
              "      <th></th>\n",
              "      <th>cylinders</th>\n",
              "      <th>displacement</th>\n",
              "      <th>horsepower</th>\n",
              "      <th>weight</th>\n",
              "      <th>acceleration</th>\n",
              "      <th>model_year</th>\n",
              "      <th>is_usa</th>\n",
              "      <th>is_europe</th>\n",
              "      <th>is_japan</th>\n",
              "    </tr>\n",
              "  </thead>\n",
              "  <tbody>\n",
              "    <tr>\n",
              "      <th>263</th>\n",
              "      <td>6</td>\n",
              "      <td>231.0</td>\n",
              "      <td>165.0</td>\n",
              "      <td>3445</td>\n",
              "      <td>13.4</td>\n",
              "      <td>78</td>\n",
              "      <td>True</td>\n",
              "      <td>False</td>\n",
              "      <td>False</td>\n",
              "    </tr>\n",
              "    <tr>\n",
              "      <th>153</th>\n",
              "      <td>6</td>\n",
              "      <td>250.0</td>\n",
              "      <td>105.0</td>\n",
              "      <td>3459</td>\n",
              "      <td>16.0</td>\n",
              "      <td>75</td>\n",
              "      <td>True</td>\n",
              "      <td>False</td>\n",
              "      <td>False</td>\n",
              "    </tr>\n",
              "    <tr>\n",
              "      <th>44</th>\n",
              "      <td>8</td>\n",
              "      <td>400.0</td>\n",
              "      <td>175.0</td>\n",
              "      <td>5140</td>\n",
              "      <td>12.0</td>\n",
              "      <td>71</td>\n",
              "      <td>True</td>\n",
              "      <td>False</td>\n",
              "      <td>False</td>\n",
              "    </tr>\n",
              "    <tr>\n",
              "      <th>206</th>\n",
              "      <td>4</td>\n",
              "      <td>140.0</td>\n",
              "      <td>72.0</td>\n",
              "      <td>2565</td>\n",
              "      <td>13.6</td>\n",
              "      <td>76</td>\n",
              "      <td>True</td>\n",
              "      <td>False</td>\n",
              "      <td>False</td>\n",
              "    </tr>\n",
              "    <tr>\n",
              "      <th>180</th>\n",
              "      <td>4</td>\n",
              "      <td>121.0</td>\n",
              "      <td>115.0</td>\n",
              "      <td>2671</td>\n",
              "      <td>13.5</td>\n",
              "      <td>75</td>\n",
              "      <td>False</td>\n",
              "      <td>True</td>\n",
              "      <td>False</td>\n",
              "    </tr>\n",
              "    <tr>\n",
              "      <th>...</th>\n",
              "      <td>...</td>\n",
              "      <td>...</td>\n",
              "      <td>...</td>\n",
              "      <td>...</td>\n",
              "      <td>...</td>\n",
              "      <td>...</td>\n",
              "      <td>...</td>\n",
              "      <td>...</td>\n",
              "      <td>...</td>\n",
              "    </tr>\n",
              "    <tr>\n",
              "      <th>173</th>\n",
              "      <td>4</td>\n",
              "      <td>119.0</td>\n",
              "      <td>97.0</td>\n",
              "      <td>2545</td>\n",
              "      <td>17.0</td>\n",
              "      <td>75</td>\n",
              "      <td>False</td>\n",
              "      <td>False</td>\n",
              "      <td>True</td>\n",
              "    </tr>\n",
              "    <tr>\n",
              "      <th>241</th>\n",
              "      <td>6</td>\n",
              "      <td>146.0</td>\n",
              "      <td>97.0</td>\n",
              "      <td>2815</td>\n",
              "      <td>14.5</td>\n",
              "      <td>77</td>\n",
              "      <td>False</td>\n",
              "      <td>False</td>\n",
              "      <td>True</td>\n",
              "    </tr>\n",
              "    <tr>\n",
              "      <th>209</th>\n",
              "      <td>4</td>\n",
              "      <td>120.0</td>\n",
              "      <td>88.0</td>\n",
              "      <td>3270</td>\n",
              "      <td>21.9</td>\n",
              "      <td>76</td>\n",
              "      <td>False</td>\n",
              "      <td>True</td>\n",
              "      <td>False</td>\n",
              "    </tr>\n",
              "    <tr>\n",
              "      <th>229</th>\n",
              "      <td>8</td>\n",
              "      <td>400.0</td>\n",
              "      <td>180.0</td>\n",
              "      <td>4220</td>\n",
              "      <td>11.1</td>\n",
              "      <td>77</td>\n",
              "      <td>True</td>\n",
              "      <td>False</td>\n",
              "      <td>False</td>\n",
              "    </tr>\n",
              "    <tr>\n",
              "      <th>73</th>\n",
              "      <td>8</td>\n",
              "      <td>307.0</td>\n",
              "      <td>130.0</td>\n",
              "      <td>4098</td>\n",
              "      <td>14.0</td>\n",
              "      <td>72</td>\n",
              "      <td>True</td>\n",
              "      <td>False</td>\n",
              "      <td>False</td>\n",
              "    </tr>\n",
              "  </tbody>\n",
              "</table>\n",
              "<p>79 rows × 9 columns</p>\n",
              "</div>"
            ],
            "text/plain": [
              "     cylinders  displacement  horsepower  ...  is_usa  is_europe  is_japan\n",
              "263          6         231.0       165.0  ...    True      False     False\n",
              "153          6         250.0       105.0  ...    True      False     False\n",
              "44           8         400.0       175.0  ...    True      False     False\n",
              "206          4         140.0        72.0  ...    True      False     False\n",
              "180          4         121.0       115.0  ...   False       True     False\n",
              "..         ...           ...         ...  ...     ...        ...       ...\n",
              "173          4         119.0        97.0  ...   False      False      True\n",
              "241          6         146.0        97.0  ...   False      False      True\n",
              "209          4         120.0        88.0  ...   False       True     False\n",
              "229          8         400.0       180.0  ...    True      False     False\n",
              "73           8         307.0       130.0  ...    True      False     False\n",
              "\n",
              "[79 rows x 9 columns]"
            ]
          },
          "metadata": {
            "tags": []
          },
          "execution_count": 64
        }
      ]
    },
    {
      "cell_type": "code",
      "metadata": {
        "id": "NQThIix5rWJ-",
        "colab_type": "code",
        "colab": {
          "base_uri": "https://localhost:8080/",
          "height": 517
        },
        "outputId": "a6c3c377-7e0c-415c-b4a6-a1f32bf3c4e4"
      },
      "source": [
        "X_train"
      ],
      "execution_count": null,
      "outputs": [
        {
          "output_type": "execute_result",
          "data": {
            "text/html": [
              "<div>\n",
              "<style scoped>\n",
              "    .dataframe tbody tr th:only-of-type {\n",
              "        vertical-align: middle;\n",
              "    }\n",
              "\n",
              "    .dataframe tbody tr th {\n",
              "        vertical-align: top;\n",
              "    }\n",
              "\n",
              "    .dataframe thead th {\n",
              "        text-align: right;\n",
              "    }\n",
              "</style>\n",
              "<table border=\"1\" class=\"dataframe\">\n",
              "  <thead>\n",
              "    <tr style=\"text-align: right;\">\n",
              "      <th></th>\n",
              "      <th>cylinders</th>\n",
              "      <th>displacement</th>\n",
              "      <th>horsepower</th>\n",
              "      <th>weight</th>\n",
              "      <th>acceleration</th>\n",
              "      <th>model_year</th>\n",
              "      <th>is_usa</th>\n",
              "      <th>is_europe</th>\n",
              "      <th>is_japan</th>\n",
              "    </tr>\n",
              "  </thead>\n",
              "  <tbody>\n",
              "    <tr>\n",
              "      <th>343</th>\n",
              "      <td>4</td>\n",
              "      <td>79.0</td>\n",
              "      <td>58.0</td>\n",
              "      <td>1755</td>\n",
              "      <td>16.9</td>\n",
              "      <td>81</td>\n",
              "      <td>False</td>\n",
              "      <td>False</td>\n",
              "      <td>True</td>\n",
              "    </tr>\n",
              "    <tr>\n",
              "      <th>132</th>\n",
              "      <td>4</td>\n",
              "      <td>140.0</td>\n",
              "      <td>75.0</td>\n",
              "      <td>2542</td>\n",
              "      <td>17.0</td>\n",
              "      <td>74</td>\n",
              "      <td>True</td>\n",
              "      <td>False</td>\n",
              "      <td>False</td>\n",
              "    </tr>\n",
              "    <tr>\n",
              "      <th>33</th>\n",
              "      <td>6</td>\n",
              "      <td>232.0</td>\n",
              "      <td>100.0</td>\n",
              "      <td>2634</td>\n",
              "      <td>13.0</td>\n",
              "      <td>71</td>\n",
              "      <td>True</td>\n",
              "      <td>False</td>\n",
              "      <td>False</td>\n",
              "    </tr>\n",
              "    <tr>\n",
              "      <th>257</th>\n",
              "      <td>6</td>\n",
              "      <td>232.0</td>\n",
              "      <td>90.0</td>\n",
              "      <td>3210</td>\n",
              "      <td>17.2</td>\n",
              "      <td>78</td>\n",
              "      <td>True</td>\n",
              "      <td>False</td>\n",
              "      <td>False</td>\n",
              "    </tr>\n",
              "    <tr>\n",
              "      <th>349</th>\n",
              "      <td>4</td>\n",
              "      <td>91.0</td>\n",
              "      <td>68.0</td>\n",
              "      <td>1985</td>\n",
              "      <td>16.0</td>\n",
              "      <td>81</td>\n",
              "      <td>False</td>\n",
              "      <td>False</td>\n",
              "      <td>True</td>\n",
              "    </tr>\n",
              "    <tr>\n",
              "      <th>...</th>\n",
              "      <td>...</td>\n",
              "      <td>...</td>\n",
              "      <td>...</td>\n",
              "      <td>...</td>\n",
              "      <td>...</td>\n",
              "      <td>...</td>\n",
              "      <td>...</td>\n",
              "      <td>...</td>\n",
              "      <td>...</td>\n",
              "    </tr>\n",
              "    <tr>\n",
              "      <th>139</th>\n",
              "      <td>8</td>\n",
              "      <td>302.0</td>\n",
              "      <td>140.0</td>\n",
              "      <td>4638</td>\n",
              "      <td>16.0</td>\n",
              "      <td>74</td>\n",
              "      <td>True</td>\n",
              "      <td>False</td>\n",
              "      <td>False</td>\n",
              "    </tr>\n",
              "    <tr>\n",
              "      <th>158</th>\n",
              "      <td>8</td>\n",
              "      <td>318.0</td>\n",
              "      <td>150.0</td>\n",
              "      <td>4498</td>\n",
              "      <td>14.5</td>\n",
              "      <td>75</td>\n",
              "      <td>True</td>\n",
              "      <td>False</td>\n",
              "      <td>False</td>\n",
              "    </tr>\n",
              "    <tr>\n",
              "      <th>306</th>\n",
              "      <td>6</td>\n",
              "      <td>173.0</td>\n",
              "      <td>115.0</td>\n",
              "      <td>2595</td>\n",
              "      <td>11.3</td>\n",
              "      <td>79</td>\n",
              "      <td>True</td>\n",
              "      <td>False</td>\n",
              "      <td>False</td>\n",
              "    </tr>\n",
              "    <tr>\n",
              "      <th>100</th>\n",
              "      <td>6</td>\n",
              "      <td>250.0</td>\n",
              "      <td>88.0</td>\n",
              "      <td>3021</td>\n",
              "      <td>16.5</td>\n",
              "      <td>73</td>\n",
              "      <td>True</td>\n",
              "      <td>False</td>\n",
              "      <td>False</td>\n",
              "    </tr>\n",
              "    <tr>\n",
              "      <th>371</th>\n",
              "      <td>4</td>\n",
              "      <td>135.0</td>\n",
              "      <td>84.0</td>\n",
              "      <td>2525</td>\n",
              "      <td>16.0</td>\n",
              "      <td>82</td>\n",
              "      <td>True</td>\n",
              "      <td>False</td>\n",
              "      <td>False</td>\n",
              "    </tr>\n",
              "  </tbody>\n",
              "</table>\n",
              "<p>313 rows × 9 columns</p>\n",
              "</div>"
            ],
            "text/plain": [
              "     cylinders  displacement  horsepower  ...  is_usa  is_europe  is_japan\n",
              "343          4          79.0        58.0  ...   False      False      True\n",
              "132          4         140.0        75.0  ...    True      False     False\n",
              "33           6         232.0       100.0  ...    True      False     False\n",
              "257          6         232.0        90.0  ...    True      False     False\n",
              "349          4          91.0        68.0  ...   False      False      True\n",
              "..         ...           ...         ...  ...     ...        ...       ...\n",
              "139          8         302.0       140.0  ...    True      False     False\n",
              "158          8         318.0       150.0  ...    True      False     False\n",
              "306          6         173.0       115.0  ...    True      False     False\n",
              "100          6         250.0        88.0  ...    True      False     False\n",
              "371          4         135.0        84.0  ...    True      False     False\n",
              "\n",
              "[313 rows x 9 columns]"
            ]
          },
          "metadata": {
            "tags": []
          },
          "execution_count": 65
        }
      ]
    },
    {
      "cell_type": "code",
      "metadata": {
        "id": "ufxy-FkrrXnA",
        "colab_type": "code",
        "colab": {
          "base_uri": "https://localhost:8080/",
          "height": 248
        },
        "outputId": "823875d6-ddfe-4e5c-f97c-a03bae8cf894"
      },
      "source": [
        "y_test"
      ],
      "execution_count": null,
      "outputs": [
        {
          "output_type": "execute_result",
          "data": {
            "text/plain": [
              "263    17.7\n",
              "153    18.0\n",
              "44     13.0\n",
              "206    26.5\n",
              "180    25.0\n",
              "       ... \n",
              "173    24.0\n",
              "241    22.0\n",
              "209    19.0\n",
              "229    16.0\n",
              "73     13.0\n",
              "Name: mpg, Length: 79, dtype: float64"
            ]
          },
          "metadata": {
            "tags": []
          },
          "execution_count": 66
        }
      ]
    },
    {
      "cell_type": "code",
      "metadata": {
        "id": "uHL8zO6bra9E",
        "colab_type": "code",
        "colab": {
          "base_uri": "https://localhost:8080/",
          "height": 248
        },
        "outputId": "bff2cf4e-d6d2-4583-bc5b-4fd8fa9fe863"
      },
      "source": [
        "y_train"
      ],
      "execution_count": null,
      "outputs": [
        {
          "output_type": "execute_result",
          "data": {
            "text/plain": [
              "343    39.1\n",
              "132    25.0\n",
              "33     19.0\n",
              "257    19.4\n",
              "349    34.1\n",
              "       ... \n",
              "139    14.0\n",
              "158    16.0\n",
              "306    28.8\n",
              "100    18.0\n",
              "371    29.0\n",
              "Name: mpg, Length: 313, dtype: float64"
            ]
          },
          "metadata": {
            "tags": []
          },
          "execution_count": 67
        }
      ]
    },
    {
      "cell_type": "markdown",
      "metadata": {
        "id": "88F0mZpAt154",
        "colab_type": "text"
      },
      "source": [
        "*Now to recreate the cars model, but this time with ONLY the training data.*"
      ]
    },
    {
      "cell_type": "code",
      "metadata": {
        "id": "a-1KyJNkt7up",
        "colab_type": "code",
        "colab": {
          "base_uri": "https://localhost:8080/",
          "height": 55
        },
        "outputId": "157f4759-a5fd-4e8c-b0e8-f657bfedfb43"
      },
      "source": [
        "cars_linear_model_2 = linear_model.LinearRegression()\n",
        "cars_linear_model_2.fit(X = X_train.values, y = y_train.values)"
      ],
      "execution_count": null,
      "outputs": [
        {
          "output_type": "execute_result",
          "data": {
            "text/plain": [
              "LinearRegression(copy_X=True, fit_intercept=True, n_jobs=None, normalize=False)"
            ]
          },
          "metadata": {
            "tags": []
          },
          "execution_count": 68
        }
      ]
    },
    {
      "cell_type": "markdown",
      "metadata": {
        "id": "QwGoif7auPGb",
        "colab_type": "text"
      },
      "source": [
        "*Now we choose to make predictions on X_test*"
      ]
    },
    {
      "cell_type": "code",
      "metadata": {
        "id": "ERqh7iT_uRk4",
        "colab_type": "code",
        "colab": {
          "base_uri": "https://localhost:8080/",
          "height": 319
        },
        "outputId": "3f63f82e-5e88-4508-8cab-94b1c147e31f"
      },
      "source": [
        "cars_linear_model_2.predict(X = X_test)"
      ],
      "execution_count": null,
      "outputs": [
        {
          "output_type": "execute_result",
          "data": {
            "text/plain": [
              "array([21.18952284, 19.15596441,  5.63429883, 24.03680129, 25.07802915,\n",
              "       36.47449607, 27.39104811, 12.07945727, 25.58982647, 23.97242063,\n",
              "       28.08983229,  9.43865287, 31.39805031, 31.84251298, 30.17431682,\n",
              "       13.00818928, 16.46806457, 31.45853542, 23.51390816, 23.15549713,\n",
              "       34.9973526 , 11.77111442, 15.0319277 , 33.26249816, 22.09577695,\n",
              "       20.9168622 , 25.67038068, 24.95340778, 30.83111724, 29.02322574,\n",
              "       28.415167  , 23.3566124 , 34.77513399, 19.33715336, 22.48359846,\n",
              "       33.78816446, 28.82250817, 14.74237927, 31.28292722, 24.09283787,\n",
              "       27.44690064, 28.49616447, 27.59614828, 32.65709198, 20.9735741 ,\n",
              "       14.70287431, 24.99089273, 31.58527941, 32.9536432 , 12.09511888,\n",
              "       31.11102999, 32.82533879, 29.65473207, 26.8148562 , 10.71861438,\n",
              "       17.34517537, 17.04333475, 26.13728765, 27.11454803, 21.3733997 ,\n",
              "       25.90863201, 26.46531119, 24.25125731, 21.48908469, 23.39956525,\n",
              "       13.59991961, 10.91550923, 23.34133624, 16.03453715, 27.94729051,\n",
              "       14.34493976, 30.40344741, 29.52891006, 32.93054746, 27.13366483,\n",
              "       26.10501409, 23.12357914, 17.17681983, 12.33256171])"
            ]
          },
          "metadata": {
            "tags": []
          },
          "execution_count": 69
        }
      ]
    },
    {
      "cell_type": "markdown",
      "metadata": {
        "id": "F4j9G-TLuXBS",
        "colab_type": "text"
      },
      "source": [
        "*And check this against the y_test...*"
      ]
    },
    {
      "cell_type": "code",
      "metadata": {
        "id": "UA0CiwiOuZ8C",
        "colab_type": "code",
        "colab": {}
      },
      "source": [
        "y_predicted_test = cars_linear_model_2.predict(X = X_test)"
      ],
      "execution_count": null,
      "outputs": []
    },
    {
      "cell_type": "code",
      "metadata": {
        "id": "Y8BGprS_umx5",
        "colab_type": "code",
        "colab": {
          "base_uri": "https://localhost:8080/",
          "height": 55
        },
        "outputId": "d48af930-b8a0-4884-f1e1-347782e7117f"
      },
      "source": [
        "mean_squared_error(y_test, y_predicted_test)"
      ],
      "execution_count": null,
      "outputs": [
        {
          "output_type": "execute_result",
          "data": {
            "text/plain": [
              "13.07389985339293"
            ]
          },
          "metadata": {
            "tags": []
          },
          "execution_count": 71
        }
      ]
    },
    {
      "cell_type": "markdown",
      "metadata": {
        "id": "av_u7q4NuufL",
        "colab_type": "text"
      },
      "source": [
        "*Now, there's ONE little problem... the split taken is random, so this value changes every time you run the cell. So if we run the same lines again...*"
      ]
    },
    {
      "cell_type": "code",
      "metadata": {
        "id": "Ni7QZOtHu56o",
        "colab_type": "code",
        "colab": {
          "base_uri": "https://localhost:8080/",
          "height": 55
        },
        "outputId": "2a3d89e9-c065-4bcc-d8fd-248ff8f87268"
      },
      "source": [
        "X_train, X_test, y_train, y_test = skmodelselect.train_test_split(df_cars, true_mpg, test_size = 0.20)\n",
        "cars_linear_model_2 = linear_model.LinearRegression()\n",
        "cars_linear_model_2.fit(X = X_train.values, y = y_train.values)\n",
        "y_predicted_test = cars_linear_model_2.predict(X = X_test)\n",
        "mean_squared_error(y_test, y_predicted_test)"
      ],
      "execution_count": null,
      "outputs": [
        {
          "output_type": "execute_result",
          "data": {
            "text/plain": [
              "14.633001406774447"
            ]
          },
          "metadata": {
            "tags": []
          },
          "execution_count": 72
        }
      ]
    },
    {
      "cell_type": "markdown",
      "metadata": {
        "id": "iXFu1TbWxLI-",
        "colab_type": "text"
      },
      "source": [
        "*Note carefully that the errors on the testing data are higher than the errors on the training data, which should make sense.*"
      ]
    },
    {
      "cell_type": "code",
      "metadata": {
        "id": "vPutLvGvxXZO",
        "colab_type": "code",
        "colab": {
          "base_uri": "https://localhost:8080/",
          "height": 55
        },
        "outputId": "654648c7-6b4d-4a7c-b4e5-476c44bc3efb"
      },
      "source": [
        "X_train, X_test, y_train, y_test = skmodelselect.train_test_split(df_cars, true_mpg, test_size = 0.20)\n",
        "cars_linear_model_2 = linear_model.LinearRegression()\n",
        "cars_linear_model_2.fit(X = X_train, y = y_train)\n",
        "\n",
        "y_predicted_train = cars_linear_model_2.predict(X = X_train)\n",
        "mean_squared_error(y_train, y_predicted_train)"
      ],
      "execution_count": null,
      "outputs": [
        {
          "output_type": "execute_result",
          "data": {
            "text/plain": [
              "10.514358027375147"
            ]
          },
          "metadata": {
            "tags": []
          },
          "execution_count": 73
        }
      ]
    },
    {
      "cell_type": "code",
      "metadata": {
        "id": "3hFADtI4xcVX",
        "colab_type": "code",
        "colab": {
          "base_uri": "https://localhost:8080/",
          "height": 55
        },
        "outputId": "f82b14c7-54c3-423f-eabf-1ad6704dcdbd"
      },
      "source": [
        "y_predicted_test = cars_linear_model_2.predict(X = X_test)\n",
        "mean_squared_error(y_test, y_predicted_test)"
      ],
      "execution_count": null,
      "outputs": [
        {
          "output_type": "execute_result",
          "data": {
            "text/plain": [
              "11.5477379128899"
            ]
          },
          "metadata": {
            "tags": []
          },
          "execution_count": 74
        }
      ]
    },
    {
      "cell_type": "markdown",
      "metadata": {
        "id": "02aj8IssxlbY",
        "colab_type": "text"
      },
      "source": [
        "*Now we can show how overfitting is problematic... let's try using the overfitted data to do this same train/test split*"
      ]
    },
    {
      "cell_type": "code",
      "metadata": {
        "id": "xQn59pFMx77M",
        "colab_type": "code",
        "colab": {}
      },
      "source": [
        "df_carsnames = df_carsnames.drop(columns = 'mpg')"
      ],
      "execution_count": null,
      "outputs": []
    },
    {
      "cell_type": "code",
      "metadata": {
        "id": "k8BFFeeHyEHY",
        "colab_type": "code",
        "colab": {
          "base_uri": "https://localhost:8080/",
          "height": 55
        },
        "outputId": "c724dd54-ccde-4908-bdf8-a87779d9490d"
      },
      "source": [
        "X_train, X_test, y_train, y_test = skmodelselect.train_test_split(df_carsnames, true_mpg, test_size = 0.20)\n",
        "cars_linear_model_2 = linear_model.LinearRegression()\n",
        "cars_linear_model_2.fit(X = X_train, y = y_train)\n",
        "\n",
        "y_predicted_train = cars_linear_model_2.predict(X = X_train)\n",
        "mean_squared_error(y_train, y_predicted_train)  ##extraordinarily small error"
      ],
      "execution_count": null,
      "outputs": [
        {
          "output_type": "execute_result",
          "data": {
            "text/plain": [
              "1.108911560905645"
            ]
          },
          "metadata": {
            "tags": []
          },
          "execution_count": 76
        }
      ]
    },
    {
      "cell_type": "code",
      "metadata": {
        "id": "GkZShqLnyJ7e",
        "colab_type": "code",
        "colab": {
          "base_uri": "https://localhost:8080/",
          "height": 55
        },
        "outputId": "dd79442b-543b-4355-e48a-015daea428d5"
      },
      "source": [
        "y_predicted_test = cars_linear_model_2.predict(X = X_test)\n",
        "mean_squared_error(y_test, y_predicted_test)    ##WAY higher error"
      ],
      "execution_count": null,
      "outputs": [
        {
          "output_type": "execute_result",
          "data": {
            "text/plain": [
              "10.296342855130376"
            ]
          },
          "metadata": {
            "tags": []
          },
          "execution_count": 77
        }
      ]
    },
    {
      "cell_type": "code",
      "metadata": {
        "id": "-H_IpBPdzJ-B",
        "colab_type": "code",
        "colab": {}
      },
      "source": [
        "## MANDATORY EXERCISE, split the DIAMONDS (df_inputfinal) dataset into training and testing data. \n",
        "## Find the error of a linear model on the testing data of 20% of the entire dataset. "
      ],
      "execution_count": null,
      "outputs": []
    },
    {
      "cell_type": "code",
      "metadata": {
        "id": "vWxKx0pJzKlB",
        "colab_type": "code",
        "colab": {
          "base_uri": "https://localhost:8080/",
          "height": 55
        },
        "outputId": "a44354cb-6579-4bf6-b65c-04a2687dfd4d"
      },
      "source": [
        "X_train, X_test, y_train, y_test = skmodelselect.train_test_split(df_inputfinal, true_price, test_size = 0.2)\n",
        "dia_model = linear_model.LinearRegression()\n",
        "dia_model.fit(X = X_train.values, y = y_train.values)\n",
        "\n",
        "y_predicted_train = dia_model.predict(X = X_train.values)\n",
        "y_predicted_test = dia_model.predict(X = X_test.values)\n",
        "\n",
        "mean_squared_error(y_true = y_test, y_pred = y_predicted_test)  #pretty low error yeet!"
      ],
      "execution_count": null,
      "outputs": [
        {
          "output_type": "execute_result",
          "data": {
            "text/plain": [
              "7.25941644896388e-25"
            ]
          },
          "metadata": {
            "tags": []
          },
          "execution_count": 79
        }
      ]
    },
    {
      "cell_type": "markdown",
      "metadata": {
        "id": "dhVGJimS0GrN",
        "colab_type": "text"
      },
      "source": [
        "#3.4: To FIX Our Model"
      ]
    },
    {
      "cell_type": "markdown",
      "metadata": {
        "id": "8WebiMcq0KiX",
        "colab_type": "text"
      },
      "source": [
        "*The main goal is to find the best possible model for the situation and adjust it to suit our needs... so let's try out the LASSO Model! This time we add a random_state variable which, when fixed to a specific value, gives the same train/test split everytime!*"
      ]
    },
    {
      "cell_type": "code",
      "metadata": {
        "id": "cFOhFj6E04MM",
        "colab_type": "code",
        "colab": {}
      },
      "source": [
        "lasso_linear_model = linear_model.Lasso()"
      ],
      "execution_count": null,
      "outputs": []
    },
    {
      "cell_type": "code",
      "metadata": {
        "id": "d1N8UtV81JTl",
        "colab_type": "code",
        "colab": {
          "base_uri": "https://localhost:8080/",
          "height": 55
        },
        "outputId": "13fd7d8c-2f48-4f85-ba3a-deb63004116e"
      },
      "source": [
        "X_train, X_test, y_train, y_test = skmodelselect.train_test_split(df_carsnames, true_mpg, test_size = 0.2, random_state = 0)\n",
        "\n",
        "lasso_linear_model.fit(X = X_train.values, y = y_train.values)\n",
        "\n",
        "y_predicted_train = lasso_linear_model.predict(X = X_train.values)\n",
        "mean_squared_error(y_train, y_predicted_train)"
      ],
      "execution_count": null,
      "outputs": [
        {
          "output_type": "execute_result",
          "data": {
            "text/plain": [
              "11.72441335326703"
            ]
          },
          "metadata": {
            "tags": []
          },
          "execution_count": 81
        }
      ]
    },
    {
      "cell_type": "code",
      "metadata": {
        "id": "wklNxMsC2Lil",
        "colab_type": "code",
        "colab": {
          "base_uri": "https://localhost:8080/",
          "height": 55
        },
        "outputId": "0eb98323-ee6d-45d9-cab7-7c652117d05e"
      },
      "source": [
        "y_predicted_test = lasso_linear_model.predict(X = X_test)\n",
        "mean_squared_error(y_test, y_predicted_test)"
      ],
      "execution_count": null,
      "outputs": [
        {
          "output_type": "execute_result",
          "data": {
            "text/plain": [
              "11.919422233359253"
            ]
          },
          "metadata": {
            "tags": []
          },
          "execution_count": 82
        }
      ]
    },
    {
      "cell_type": "code",
      "metadata": {
        "id": "9FNiRcEe2O4t",
        "colab_type": "code",
        "colab": {
          "base_uri": "https://localhost:8080/",
          "height": 1000
        },
        "outputId": "5051af30-94a6-4e62-f021-49c7fd5b29f2"
      },
      "source": [
        "lasso_linear_model.coef_\n",
        "\n",
        "##Most of the coefficients are zeroes! This is because the Lasso model tries to minimize:\n",
        "##minimize squared error + alpha*(absolute value of all coefficients, summed) \n",
        "##which favours having a ton of zeroes"
      ],
      "execution_count": null,
      "outputs": [
        {
          "output_type": "execute_result",
          "data": {
            "text/plain": [
              "array([-0.        ,  0.        , -0.00824087, -0.00651267,  0.        ,\n",
              "        0.64968408,  0.        ,  0.        , -0.        , -0.        ,\n",
              "        0.        ,  0.        , -0.        , -0.        , -0.        ,\n",
              "       -0.        , -0.        , -0.        , -0.        ,  0.        ,\n",
              "       -0.        , -0.        , -0.        , -0.        ,  0.        ,\n",
              "       -0.        ,  0.        , -0.        ,  0.        ,  0.        ,\n",
              "        0.        , -0.        , -0.        , -0.        ,  0.        ,\n",
              "        0.        , -0.        ,  0.        , -0.        ,  0.        ,\n",
              "        0.        , -0.        ,  0.        , -0.        ,  0.        ,\n",
              "        0.        ,  0.        ,  0.        , -0.        ,  0.        ,\n",
              "        0.        , -0.        , -0.        , -0.        ,  0.        ,\n",
              "        0.        , -0.        ,  0.        ,  0.        , -0.        ,\n",
              "       -0.        , -0.        ,  0.        , -0.        , -0.        ,\n",
              "        0.        , -0.        ,  0.        , -0.        , -0.        ,\n",
              "       -0.        , -0.        ,  0.        ,  0.        , -0.        ,\n",
              "       -0.        ,  0.        ,  0.        ,  0.        , -0.        ,\n",
              "       -0.        , -0.        ,  0.        ,  0.        ,  0.        ,\n",
              "       -0.        ,  0.        , -0.        ,  0.        ,  0.        ,\n",
              "        0.        ,  0.        , -0.        ,  0.        ,  0.        ,\n",
              "       -0.        ,  0.        , -0.        , -0.        ,  0.        ,\n",
              "        0.        ,  0.        ,  0.        ,  0.        ,  0.        ,\n",
              "        0.        , -0.        , -0.        ,  0.        ,  0.        ,\n",
              "        0.        , -0.        ,  0.        , -0.        ,  0.        ,\n",
              "        0.        ,  0.        , -0.        ,  0.        , -0.        ,\n",
              "        0.        , -0.        , -0.        ,  0.        ,  0.        ,\n",
              "        0.        ,  0.        ,  0.        , -0.        ,  0.        ,\n",
              "        0.        ,  0.        , -0.        ,  0.        ,  0.        ,\n",
              "        0.        ,  0.        ,  0.        , -0.        ,  0.        ,\n",
              "       -0.        ,  0.        , -0.        , -0.        ,  0.        ,\n",
              "        0.        , -0.        ,  0.        , -0.        ,  0.        ,\n",
              "       -0.        ,  0.        , -0.        , -0.        ,  0.        ,\n",
              "       -0.        ,  0.        ,  0.        , -0.        , -0.        ,\n",
              "       -0.        ,  0.        , -0.        , -0.        , -0.        ,\n",
              "        0.        , -0.        ,  0.        ,  0.        ,  0.        ,\n",
              "        0.        ,  0.        ,  0.        , -0.        ,  0.        ,\n",
              "       -0.        ,  0.        ,  0.        ,  0.        ,  0.        ,\n",
              "        0.        , -0.        ,  0.        ,  0.        ,  0.        ,\n",
              "       -0.        ,  0.        ,  0.        , -0.        , -0.        ,\n",
              "       -0.        ,  0.        ,  0.        , -0.        , -0.        ,\n",
              "       -0.        , -0.        , -0.        ,  0.        ,  0.        ,\n",
              "        0.        , -0.        , -0.        , -0.        , -0.        ,\n",
              "        0.        ,  0.        ,  0.        , -0.        ,  0.        ,\n",
              "        0.        , -0.        , -0.        , -0.        ,  0.        ,\n",
              "       -0.        , -0.        ,  0.        ,  0.        ,  0.        ,\n",
              "        0.        , -0.        , -0.        , -0.        ,  0.        ,\n",
              "        0.        ,  0.        ,  0.        ,  0.        ,  0.        ,\n",
              "        0.        ,  0.        ,  0.        ,  0.        ,  0.        ,\n",
              "        0.        , -0.        , -0.        ,  0.        , -0.        ,\n",
              "        0.        ,  0.        , -0.        , -0.        , -0.        ,\n",
              "       -0.        , -0.        , -0.        ,  0.        ,  0.        ,\n",
              "        0.        ,  0.        ,  0.        ,  0.        , -0.        ,\n",
              "        0.        , -0.        ,  0.        ,  0.        , -0.        ,\n",
              "        0.        , -0.        ,  0.        ,  0.        ,  0.        ,\n",
              "        0.        , -0.        , -0.        ,  0.        ,  0.        ,\n",
              "       -0.        ,  0.        ,  0.        ,  0.        , -0.        ,\n",
              "        0.        , -0.        , -0.        ,  0.        ,  0.        ,\n",
              "       -0.        , -0.        ,  0.        ,  0.        , -0.        ,\n",
              "        0.        , -0.        , -0.        ,  0.        , -0.        ,\n",
              "        0.        ,  0.        , -0.        ,  0.        ,  0.        ,\n",
              "        0.        ,  0.        , -0.        , -0.        , -0.        ,\n",
              "       -0.        , -0.        , -0.        , -0.        ,  0.        ,\n",
              "        0.        ,  0.        , -0.        ,  0.        , -0.        ])"
            ]
          },
          "metadata": {
            "tags": []
          },
          "execution_count": 83
        }
      ]
    },
    {
      "cell_type": "code",
      "metadata": {
        "id": "LgDiWq-o3BX5",
        "colab_type": "code",
        "colab": {}
      },
      "source": [
        "## EXERCISE, use the LASSO model df_inputfinal and investigate to see if you get the same coefficients\n",
        "## as above"
      ],
      "execution_count": null,
      "outputs": []
    },
    {
      "cell_type": "code",
      "metadata": {
        "id": "1EsovMhD3Dcj",
        "colab_type": "code",
        "colab": {
          "base_uri": "https://localhost:8080/",
          "height": 55
        },
        "outputId": "bf434ddb-5bd8-45e6-d72d-6d992551f2d1"
      },
      "source": [
        "lasso_linear_model = linear_model.Lasso()\n",
        "X_train, X_test, y_train, y_test = skmodelselect.train_test_split(df_inputfinal, true_price, test_size = 0.2, random_state = 0)\n",
        "\n",
        "lasso_linear_model.fit(X = X_train.values, y = y_train.values)\n",
        "y_test_predicted = lasso_linear_model.predict(X = X_test.values)\n",
        "\n",
        "mean_squared_error(y_test, y_test_predicted)"
      ],
      "execution_count": null,
      "outputs": [
        {
          "output_type": "execute_result",
          "data": {
            "text/plain": [
              "6.245633307562782e-08"
            ]
          },
          "metadata": {
            "tags": []
          },
          "execution_count": 85
        }
      ]
    },
    {
      "cell_type": "code",
      "metadata": {
        "id": "dUlLYxPR6iGS",
        "colab_type": "code",
        "colab": {
          "base_uri": "https://localhost:8080/",
          "height": 90
        },
        "outputId": "f1001364-282b-498f-9f37-3fdba1f681be"
      },
      "source": [
        "lasso_linear_model.coef_"
      ],
      "execution_count": null,
      "outputs": [
        {
          "output_type": "execute_result",
          "data": {
            "text/plain": [
              "array([ 0.        , -0.        ,  0.        ,  0.99999994,  0.        ,\n",
              "        0.        ,  0.        ,  0.        ,  0.        , -0.        ,\n",
              "        0.        ,  0.        ,  0.        ,  0.        ])"
            ]
          },
          "metadata": {
            "tags": []
          },
          "execution_count": 86
        }
      ]
    },
    {
      "cell_type": "markdown",
      "metadata": {
        "id": "v9qkzmcB6kST",
        "colab_type": "text"
      },
      "source": [
        "*Now let's use the original df_cars and see how that does*"
      ]
    },
    {
      "cell_type": "code",
      "metadata": {
        "id": "2jHw5Iri6qV_",
        "colab_type": "code",
        "colab": {
          "base_uri": "https://localhost:8080/",
          "height": 55
        },
        "outputId": "ddd785a6-e47d-476e-f5ea-f81e82ef12d2"
      },
      "source": [
        "X_train, X_test, y_train, y_test = skmodelselect.train_test_split(df_cars, true_mpg, test_size = 0.20, random_state = 416)\n",
        "cars_linear_model_3 = linear_model.Lasso()\n",
        "cars_linear_model_3.fit(X = X_train, y = y_train)\n",
        "\n",
        "y_predicted_train = cars_linear_model_3.predict(X = X_train)\n",
        "mean_squared_error(y_train, y_predicted_train)"
      ],
      "execution_count": null,
      "outputs": [
        {
          "output_type": "execute_result",
          "data": {
            "text/plain": [
              "12.901084617225893"
            ]
          },
          "metadata": {
            "tags": []
          },
          "execution_count": 87
        }
      ]
    },
    {
      "cell_type": "code",
      "metadata": {
        "id": "5s7_BCRz6ukk",
        "colab_type": "code",
        "colab": {
          "base_uri": "https://localhost:8080/",
          "height": 55
        },
        "outputId": "6e4c59b2-1219-40bb-daa6-09da96eac436"
      },
      "source": [
        "y_predicted_test = cars_linear_model_3.predict(X = X_test)\n",
        "mean_squared_error(y_test, y_predicted_test)"
      ],
      "execution_count": null,
      "outputs": [
        {
          "output_type": "execute_result",
          "data": {
            "text/plain": [
              "7.33084361927002"
            ]
          },
          "metadata": {
            "tags": []
          },
          "execution_count": 88
        }
      ]
    },
    {
      "cell_type": "markdown",
      "metadata": {
        "id": "bWR-RQfZ6xXK",
        "colab_type": "text"
      },
      "source": [
        "*Now, what would happen if we changed the alpha parameter? Right now it defaults to 1.0, but if we could reduce it, then we might decrease error. Careful not to decrease too low though, or we overfit*"
      ]
    },
    {
      "cell_type": "code",
      "metadata": {
        "id": "-55gVR2y6_Np",
        "colab_type": "code",
        "colab": {
          "base_uri": "https://localhost:8080/",
          "height": 55
        },
        "outputId": "c929559a-678b-45d0-efdb-e3b563ceeea8"
      },
      "source": [
        "X_train, X_test, y_train, y_test = skmodelselect.train_test_split(df_cars, true_mpg, test_size = 0.20, random_state = 416)\n",
        "cars_linear_model_3 = linear_model.Lasso(alpha = 0.001)\n",
        "cars_linear_model_3.fit(X = X_train, y = y_train)\n",
        "## straight to predictions\n",
        "y_predicted_test = cars_linear_model_3.predict(X = X_test)\n",
        "mean_squared_error(y_test, y_predicted_test)"
      ],
      "execution_count": null,
      "outputs": [
        {
          "output_type": "execute_result",
          "data": {
            "text/plain": [
              "7.286100787404706"
            ]
          },
          "metadata": {
            "tags": []
          },
          "execution_count": 89
        }
      ]
    },
    {
      "cell_type": "code",
      "metadata": {
        "id": "FWcdmX9X7EJw",
        "colab_type": "code",
        "colab": {
          "base_uri": "https://localhost:8080/",
          "height": 55
        },
        "outputId": "c152f3ca-ae3d-4cf0-f2e2-cc34902ce236"
      },
      "source": [
        "X_train, X_test, y_train, y_test = skmodelselect.train_test_split(df_cars, true_mpg, test_size = 0.20, random_state = 416)\n",
        "cars_linear_model_3 = linear_model.Lasso(alpha = 0.015)\n",
        "cars_linear_model_3.fit(X = X_train, y = y_train)\n",
        "## straight to predictions\n",
        "y_predicted_test = cars_linear_model_3.predict(X = X_test)\n",
        "mean_squared_error(y_test, y_predicted_test)\n",
        "\n",
        "##it seems that a = 0.015 is a happy middle ground that minimizes error!"
      ],
      "execution_count": null,
      "outputs": [
        {
          "output_type": "execute_result",
          "data": {
            "text/plain": [
              "7.225572456065225"
            ]
          },
          "metadata": {
            "tags": []
          },
          "execution_count": 90
        }
      ]
    },
    {
      "cell_type": "code",
      "metadata": {
        "id": "lKGuMt5O7P6K",
        "colab_type": "code",
        "colab": {}
      },
      "source": [
        "## MANDATORY Exercise: There is another linear_model that can be adjusted with an alpha value. \n",
        "## try .linear_model.Ridge() and find the best alpha for the cars dataset \n",
        "## make sure you use .train_test_split() (keep random_state = 0)"
      ],
      "execution_count": null,
      "outputs": []
    },
    {
      "cell_type": "code",
      "metadata": {
        "id": "_KYNUJqi7SwQ",
        "colab_type": "code",
        "colab": {
          "base_uri": "https://localhost:8080/",
          "height": 55
        },
        "outputId": "917ce831-49a9-4565-9350-674c7714908a"
      },
      "source": [
        "X_train, X_test, y_train, y_test = skmodelselect.train_test_split(df_cars, true_mpg, test_size = 0.20, random_state = 0)\n",
        "\n",
        "cars_linear_model_4 = linear_model.Ridge(alpha = 0.01)  #seems that lower is better\n",
        "cars_linear_model_4.fit(X = X_train, y = y_train)\n",
        "\n",
        "y_predicted_test = cars_linear_model_4.predict(X = X_test)\n",
        "mean_squared_error(y_test, y_predicted_test)"
      ],
      "execution_count": null,
      "outputs": [
        {
          "output_type": "execute_result",
          "data": {
            "text/plain": [
              "10.022642615623578"
            ]
          },
          "metadata": {
            "tags": []
          },
          "execution_count": 92
        }
      ]
    },
    {
      "cell_type": "markdown",
      "metadata": {
        "id": "SgpGKTjc8vyB",
        "colab_type": "text"
      },
      "source": [
        "#3.5: All About Validation"
      ]
    },
    {
      "cell_type": "markdown",
      "metadata": {
        "id": "KFKcXYlg8zkk",
        "colab_type": "text"
      },
      "source": [
        "*Two main problems at the moment: running a cell twice, and the fact that some random states might by chance be more favourable... so we fix this, by doing K-fold validation. We break the dataset into folds, and split it into several iterations such that all of the data gets to be in the training set exactly once.*"
      ]
    },
    {
      "cell_type": "code",
      "metadata": {
        "id": "cSXISE6s-yf8",
        "colab_type": "code",
        "colab": {}
      },
      "source": [
        "lasso_linear_model = linear_model.Lasso(alpha = 0.015)"
      ],
      "execution_count": null,
      "outputs": []
    },
    {
      "cell_type": "code",
      "metadata": {
        "id": "ayF4hc10-6x-",
        "colab_type": "code",
        "colab": {}
      },
      "source": [
        "scores = skmodelselect.cross_val_score(estimator = lasso_linear_model, \n",
        "                         X = df_cars, \n",
        "                         y = true_mpg, cv = 5)  ##we test with 5 folds\n",
        "#returns an array of test scores from each fold"
      ],
      "execution_count": null,
      "outputs": []
    },
    {
      "cell_type": "code",
      "metadata": {
        "id": "vSAlZLCn_z8k",
        "colab_type": "code",
        "colab": {
          "base_uri": "https://localhost:8080/",
          "height": 55
        },
        "outputId": "29bcf1b4-84df-4f3e-fc8c-227a97afccc6"
      },
      "source": [
        "scores   #gives the R^2 coefficient of determination"
      ],
      "execution_count": null,
      "outputs": [
        {
          "output_type": "execute_result",
          "data": {
            "text/plain": [
              "array([0.5569904 , 0.69122361, 0.81255315, 0.67583356, 0.22429189])"
            ]
          },
          "metadata": {
            "tags": []
          },
          "execution_count": 95
        }
      ]
    },
    {
      "cell_type": "code",
      "metadata": {
        "id": "FIhk1U2Z_67N",
        "colab_type": "code",
        "colab": {
          "base_uri": "https://localhost:8080/",
          "height": 55
        },
        "outputId": "b1e2ed77-01af-4bc2-ce22-7169189bde6d"
      },
      "source": [
        "scores.mean()   #better representation than an individual score"
      ],
      "execution_count": null,
      "outputs": [
        {
          "output_type": "execute_result",
          "data": {
            "text/plain": [
              "0.5921785236102627"
            ]
          },
          "metadata": {
            "tags": []
          },
          "execution_count": 96
        }
      ]
    },
    {
      "cell_type": "markdown",
      "metadata": {
        "id": "x6IGL6dLAE4t",
        "colab_type": "text"
      },
      "source": [
        "*Instead of an R^2, we can also request the cross_val_score() function to give us 'neg_mean_squared_error' or 'neg_mean_absolute_error' instead.*"
      ]
    },
    {
      "cell_type": "code",
      "metadata": {
        "id": "Ewevg_83ANLA",
        "colab_type": "code",
        "colab": {}
      },
      "source": [
        "scores_2 = skmodelselect.cross_val_score(estimator = lasso_linear_model, \n",
        "                         X = df_cars, \n",
        "                         y = true_mpg, cv = 5, scoring = 'neg_mean_squared_error')\n",
        "#since scoring prefers a high score, we just take the negative at the end since smaller negative will be good."
      ],
      "execution_count": null,
      "outputs": []
    },
    {
      "cell_type": "code",
      "metadata": {
        "id": "n7E-ntUdAkGz",
        "colab_type": "code",
        "colab": {
          "base_uri": "https://localhost:8080/",
          "height": 55
        },
        "outputId": "3c484165-8c6c-4b9a-ea01-ae4b7cb127f4"
      },
      "source": [
        "scores_2.mean()"
      ],
      "execution_count": null,
      "outputs": [
        {
          "output_type": "execute_result",
          "data": {
            "text/plain": [
              "-15.153945741960749"
            ]
          },
          "metadata": {
            "tags": []
          },
          "execution_count": 98
        }
      ]
    },
    {
      "cell_type": "markdown",
      "metadata": {
        "id": "SIJSh4XCAzAa",
        "colab_type": "text"
      },
      "source": [
        "*We now have a chunk of code we can repeat again and again to get the best value of alpha!*"
      ]
    },
    {
      "cell_type": "code",
      "metadata": {
        "id": "c58UvSLQA3NB",
        "colab_type": "code",
        "colab": {
          "base_uri": "https://localhost:8080/",
          "height": 55
        },
        "outputId": "522d749f-c5ac-4338-8e55-27678754a5d6"
      },
      "source": [
        "lasso_linear_model = linear_model.Lasso(alpha = 0.001)\n",
        "scores_2 = skmodelselect.cross_val_score(estimator = lasso_linear_model, \n",
        "                         X = df_cars, \n",
        "                         y = true_mpg, cv = 5, scoring = 'neg_mean_squared_error')\n",
        "scores_2.mean()"
      ],
      "execution_count": null,
      "outputs": [
        {
          "output_type": "execute_result",
          "data": {
            "text/plain": [
              "-15.10569807429592"
            ]
          },
          "metadata": {
            "tags": []
          },
          "execution_count": 99
        }
      ]
    },
    {
      "cell_type": "markdown",
      "metadata": {
        "id": "PB1kqtmiBCHK",
        "colab_type": "text"
      },
      "source": [
        "*Luckily, there is another function we can use instead of manually testing every value of alpha ever: the validation curve.*"
      ]
    },
    {
      "cell_type": "code",
      "metadata": {
        "id": "5vA2u-NKBIy9",
        "colab_type": "code",
        "colab": {}
      },
      "source": [
        "##Validation curve inputs: model, X, y, param we investigate, param_range, folds\n",
        "##outputs: array(training scores), array(testing scores)"
      ],
      "execution_count": null,
      "outputs": []
    },
    {
      "cell_type": "code",
      "metadata": {
        "id": "rX0QGLjNCEcD",
        "colab_type": "code",
        "colab": {}
      },
      "source": [
        "alpha_range = [0.001, 0.005, 0.01, 0.02, 0.4, 0.5]\n",
        "train_scores, valid_scores = skmodelselect.validation_curve(\n",
        "    estimator = linear_model.Lasso(),\n",
        "    X = df_cars,\n",
        "    y = true_mpg,\n",
        "    param_name = 'alpha',\n",
        "    param_range = alpha_range,\n",
        "    cv = 5\n",
        ")"
      ],
      "execution_count": null,
      "outputs": []
    },
    {
      "cell_type": "code",
      "metadata": {
        "id": "SgHAq1plCsBg",
        "colab_type": "code",
        "colab": {
          "base_uri": "https://localhost:8080/",
          "height": 143
        },
        "outputId": "e69e6bfb-fc13-43b4-bfbd-5a2b4292694d"
      },
      "source": [
        "train_scores  #for each of the 5 folds for all 6 alphas"
      ],
      "execution_count": null,
      "outputs": [
        {
          "output_type": "execute_result",
          "data": {
            "text/plain": [
              "array([[0.8171858 , 0.82339256, 0.82208691, 0.84506924, 0.82160296],\n",
              "       [0.81717997, 0.82338629, 0.82208107, 0.84506259, 0.82159241],\n",
              "       [0.81716193, 0.82336673, 0.82206282, 0.84504181, 0.82155945],\n",
              "       [0.81708981, 0.82328851, 0.82199606, 0.84495872, 0.82142766],\n",
              "       [0.80000509, 0.80535102, 0.80377485, 0.82448854, 0.81407958],\n",
              "       [0.79980924, 0.80481287, 0.80367006, 0.82434861, 0.81382938]])"
            ]
          },
          "metadata": {
            "tags": []
          },
          "execution_count": 102
        }
      ]
    },
    {
      "cell_type": "markdown",
      "metadata": {
        "id": "vJJCY-GjCy-d",
        "colab_type": "text"
      },
      "source": [
        "*We want to use the mean (in a numpy array, row axis = 1) to get a better sense of the R^2 values*"
      ]
    },
    {
      "cell_type": "code",
      "metadata": {
        "id": "TkwrGuKaC4ob",
        "colab_type": "code",
        "colab": {}
      },
      "source": [
        "avg_train_scores = np.mean(train_scores, axis = 1)\n",
        "avg_valid_scores = np.mean(valid_scores, axis = 1)"
      ],
      "execution_count": null,
      "outputs": []
    },
    {
      "cell_type": "code",
      "metadata": {
        "id": "olv578CwDUEc",
        "colab_type": "code",
        "colab": {}
      },
      "source": [
        "avg_train_scores"
      ],
      "execution_count": null,
      "outputs": []
    },
    {
      "cell_type": "code",
      "metadata": {
        "id": "cSXQNS5NDWCM",
        "colab_type": "code",
        "colab": {
          "base_uri": "https://localhost:8080/",
          "height": 305
        },
        "outputId": "a8976161-37f9-43af-9631-263060489ce3"
      },
      "source": [
        "##plot of the validation curve\n",
        "fig, ax = plt.subplots()\n",
        "ax.semilogx(alpha_range, avg_train_scores, marker = '.')\n",
        "ax.semilogx(alpha_range, avg_valid_scores, marker = '.')\n",
        "ax.set(title = 'Validation Curve for Lasso Model')\n",
        "fig.show()"
      ],
      "execution_count": null,
      "outputs": [
        {
          "output_type": "display_data",
          "data": {
            "image/png": "[encoded data removed]",
            "text/plain": [
              "<Figure size 432x288 with 1 Axes>"
            ]
          },
          "metadata": {
            "tags": [],
            "needs_background": "light"
          }
        }
      ]
    },
    {
      "cell_type": "code",
      "metadata": {
        "id": "wUnZwZ3BDfpq",
        "colab_type": "code",
        "colab": {}
      },
      "source": [
        "## MANDATORY EXERCISE: use the lasso OR ridge model to beat the linear model you used\n",
        "## on the DIAMONDS dataset \n",
        "## Then create a validation curve to find the optimal alpha value "
      ],
      "execution_count": null,
      "outputs": []
    },
    {
      "cell_type": "code",
      "metadata": {
        "id": "CWLzVSHLDjf5",
        "colab_type": "code",
        "colab": {}
      },
      "source": [
        "dia_model = linear_model.Lasso(alpha = 0.015)\n",
        "X_train, X_test, y_train, y_test = skmodelselect.train_test_split(df_inputfinal, true_price, test_size = 0.2)\n",
        "\n",
        "dia_model.fit(X = X_train.values, y = y_train.values)\n",
        "y_predicted_test = dia_model.predict(X = X_test)\n",
        "mean_squared_error(y_test, y_predicted_test)\n"
      ],
      "execution_count": null,
      "outputs": []
    },
    {
      "cell_type": "code",
      "metadata": {
        "id": "p3PY1fkBEaMA",
        "colab_type": "code",
        "colab": {}
      },
      "source": [
        "alpha_range = np.linspace(0.01, 1, num = 100)\n",
        "train_scores, valid_scores = skmodelselect.validation_curve(\n",
        "    estimator = linear_model.Lasso(),\n",
        "    X = df_inputfinal,\n",
        "    y = true_price,\n",
        "    param_name = 'alpha',\n",
        "    param_range = alpha_range,\n",
        "    cv = 5\n",
        ")"
      ],
      "execution_count": null,
      "outputs": []
    },
    {
      "cell_type": "code",
      "metadata": {
        "id": "QEB4kD_gEyQy",
        "colab_type": "code",
        "colab": {}
      },
      "source": [
        "avg_train_scores = np.mean(train_scores, axis = 1)\n",
        "avg_valid_scores = np.mean(valid_scores, axis = 1)"
      ],
      "execution_count": null,
      "outputs": []
    },
    {
      "cell_type": "code",
      "metadata": {
        "id": "9PqSvqehE1ru",
        "colab_type": "code",
        "colab": {
          "base_uri": "https://localhost:8080/",
          "height": 305
        },
        "outputId": "65bcaaf5-abba-4e1f-8867-bc48956c6d1f"
      },
      "source": [
        "##plot of the validation curve\n",
        "fig, ax = plt.subplots()\n",
        "ax.semilogx(alpha_range, avg_train_scores, marker = '.')\n",
        "ax.semilogx(alpha_range, avg_valid_scores, marker = '.')\n",
        "ax.set(title = 'Validation Curve for Lasso Model')\n",
        "fig.show()"
      ],
      "execution_count": null,
      "outputs": [
        {
          "output_type": "display_data",
          "data": {
            "image/png": "[encoded data removed]",
            "text/plain": [
              "<Figure size 432x288 with 1 Axes>"
            ]
          },
          "metadata": {
            "tags": [],
            "needs_background": "light"
          }
        }
      ]
    }
  ]
}