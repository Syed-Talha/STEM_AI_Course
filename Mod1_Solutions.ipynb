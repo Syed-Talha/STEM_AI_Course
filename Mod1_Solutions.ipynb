{
  "nbformat": 4,
  "nbformat_minor": 0,
  "metadata": {
    "colab": {
      "name": "Mod1 Solutions.ipynb",
      "provenance": [],
      "collapsed_sections": [
        "Yni_FI3ZJDJu",
        "PqLqPQjtRJ5v",
        "5fpNkqZ2UlUi",
        "SxXw040eY3dF"
      ]
    },
    "kernelspec": {
      "name": "python3",
      "display_name": "Python 3"
    }
  },
  "cells": [
    {
      "cell_type": "markdown",
      "metadata": {
        "id": "Sfsid63lI6-W",
        "colab_type": "text"
      },
      "source": [
        "**Artifical Intelligence and the World: Module 1**\n",
        "\n"
      ]
    },
    {
      "cell_type": "markdown",
      "metadata": {
        "id": "Yni_FI3ZJDJu",
        "colab_type": "text"
      },
      "source": [
        "# 1.0: Imports (MATPLOTLIB)\n"
      ]
    },
    {
      "cell_type": "markdown",
      "metadata": {
        "id": "TbbUDRmmMYq6",
        "colab_type": "text"
      },
      "source": [
        "*Importing the necessary modules from Python libraries*"
      ]
    },
    {
      "cell_type": "code",
      "metadata": {
        "id": "XTmpwBqfLykQ",
        "colab_type": "code",
        "colab": {}
      },
      "source": [
        "import pandas as pd\n",
        "import matplotlib.pyplot as plt\n",
        "import seaborn as sns"
      ],
      "execution_count": null,
      "outputs": []
    },
    {
      "cell_type": "markdown",
      "metadata": {
        "id": "hsWDgjD0Minn",
        "colab_type": "text"
      },
      "source": [
        "*Setting up the plotting template - this will be used for subsequent plots*"
      ]
    },
    {
      "cell_type": "code",
      "metadata": {
        "id": "C7Ri4BvcMoQJ",
        "colab_type": "code",
        "colab": {
          "base_uri": "https://localhost:8080/",
          "height": 268
        },
        "outputId": "2b4b5cb0-9282-4d8f-9013-4f7126e6ccb5"
      },
      "source": [
        "fig, ax = plt.figure(), plt.axes()\n",
        "fig.show()"
      ],
      "execution_count": null,
      "outputs": [
        {
          "output_type": "display_data",
          "data": {
            "image/png": "[encoded data removed]",
            "text/plain": [
              "<Figure size 432x288 with 1 Axes>"
            ]
          },
          "metadata": {
            "tags": [],
            "needs_background": "light"
          }
        }
      ]
    },
    {
      "cell_type": "markdown",
      "metadata": {
        "id": "FgkpawcpNJQJ",
        "colab_type": "text"
      },
      "source": [
        "*Creating our own sample scatter plot*"
      ]
    },
    {
      "cell_type": "code",
      "metadata": {
        "id": "oUd74FcXNa0g",
        "colab_type": "code",
        "colab": {
          "base_uri": "https://localhost:8080/",
          "height": 263
        },
        "outputId": "334a12ef-db9f-4d1a-cc14-10afdc294cab"
      },
      "source": [
        "fig, ax = plt.figure(), plt.axes()\n",
        "x, y = [1, 2, 3, 4], [1, 4, 9, 16]\n",
        "\n",
        "ax.scatter(x, y)\n",
        "\n",
        "fig.show()"
      ],
      "execution_count": null,
      "outputs": [
        {
          "output_type": "display_data",
          "data": {
            "image/png": "[encoded data removed]",
            "text/plain": [
              "<Figure size 432x288 with 1 Axes>"
            ]
          },
          "metadata": {
            "tags": [],
            "needs_background": "light"
          }
        }
      ]
    },
    {
      "cell_type": "markdown",
      "metadata": {
        "id": "ZkpvzMXON1t1",
        "colab_type": "text"
      },
      "source": [
        "*Improving upon the scatter plot... adding descriptions*"
      ]
    },
    {
      "cell_type": "code",
      "metadata": {
        "id": "19cjCbd7OA3i",
        "colab_type": "code",
        "colab": {
          "base_uri": "https://localhost:8080/",
          "height": 294
        },
        "outputId": "993bda24-ceea-4e57-d058-a3010856abbc"
      },
      "source": [
        "fig, ax = plt.figure(), plt.axes()\n",
        "x, y = [1, 2, 3, 4], [1, 4, 9, 16]\n",
        "\n",
        "ax.scatter(x, y)\n",
        "ax.set(xlabel = 'x values', ylabel = 'y values', title = 'Simp Plot')\n",
        "\n",
        "fig.show()"
      ],
      "execution_count": null,
      "outputs": [
        {
          "output_type": "display_data",
          "data": {
            "image/png": "[encoded data removed]",
            "text/plain": [
              "<Figure size 432x288 with 1 Axes>"
            ]
          },
          "metadata": {
            "tags": [],
            "needs_background": "light"
          }
        }
      ]
    },
    {
      "cell_type": "code",
      "metadata": {
        "id": "now7a8HxO12T",
        "colab_type": "code",
        "colab": {}
      },
      "source": [
        "##MANDATORY EXERCISE: Make a scatter plot for y = double x when x = [0,4,8,12]\n",
        "##Title it: \"Exercise Line Plot\", make the x label 'x [seconds]' and y label 'y ['$']'"
      ],
      "execution_count": null,
      "outputs": []
    },
    {
      "cell_type": "code",
      "metadata": {
        "id": "7yWdk-AEO4ZA",
        "colab_type": "code",
        "colab": {
          "base_uri": "https://localhost:8080/",
          "height": 343
        },
        "outputId": "2e45354e-bac5-40bd-aa10-12d5d7c5001c"
      },
      "source": [
        "fig, ax = plt.figure(), plt.axes()\n",
        "\n",
        "x = [0, 4, 8, 12]\n",
        "y = [i * 2 for i in x]\n",
        "\n",
        "ax.scatter(x, y)\n",
        "ax.set(xlabel = 'x [seconds]', ylabel = \"y ['$']\", title = 'Exercise Line Plot')"
      ],
      "execution_count": null,
      "outputs": [
        {
          "output_type": "execute_result",
          "data": {
            "text/plain": [
              "[Text(0, 0.5, \"y ['$']\"),\n",
              " Text(0.5, 0, 'x [seconds]'),\n",
              " Text(0.5, 1.0, 'Exercise Line Plot')]"
            ]
          },
          "metadata": {
            "tags": []
          },
          "execution_count": 28
        },
        {
          "output_type": "display_data",
          "data": {
            "image/png": "[encoded data removed]",
            "text/plain": [
              "<Figure size 432x288 with 1 Axes>"
            ]
          },
          "metadata": {
            "tags": [],
            "needs_background": "light"
          }
        }
      ]
    },
    {
      "cell_type": "markdown",
      "metadata": {
        "id": "PqLqPQjtRJ5v",
        "colab_type": "text"
      },
      "source": [
        "# 1.1: Get Data (INDEXING)"
      ]
    },
    {
      "cell_type": "markdown",
      "metadata": {
        "id": "9XW_SQSqROp5",
        "colab_type": "text"
      },
      "source": [
        "*Preparing the Iris dataset by loading it into a DataFrame*"
      ]
    },
    {
      "cell_type": "code",
      "metadata": {
        "id": "24NsORA7Reoc",
        "colab_type": "code",
        "colab": {
          "base_uri": "https://localhost:8080/",
          "height": 497
        },
        "outputId": "e21627cf-ad0d-4107-fb32-b4b1832a9885"
      },
      "source": [
        "df = sns.load_dataset(name = 'iris')\n",
        "df"
      ],
      "execution_count": null,
      "outputs": [
        {
          "output_type": "execute_result",
          "data": {
            "text/html": [
              "<div>\n",
              "<style scoped>\n",
              "    .dataframe tbody tr th:only-of-type {\n",
              "        vertical-align: middle;\n",
              "    }\n",
              "\n",
              "    .dataframe tbody tr th {\n",
              "        vertical-align: top;\n",
              "    }\n",
              "\n",
              "    .dataframe thead th {\n",
              "        text-align: right;\n",
              "    }\n",
              "</style>\n",
              "<table border=\"1\" class=\"dataframe\">\n",
              "  <thead>\n",
              "    <tr style=\"text-align: right;\">\n",
              "      <th></th>\n",
              "      <th>sepal_length</th>\n",
              "      <th>sepal_width</th>\n",
              "      <th>petal_length</th>\n",
              "      <th>petal_width</th>\n",
              "      <th>species</th>\n",
              "    </tr>\n",
              "  </thead>\n",
              "  <tbody>\n",
              "    <tr>\n",
              "      <th>0</th>\n",
              "      <td>5.1</td>\n",
              "      <td>3.5</td>\n",
              "      <td>1.4</td>\n",
              "      <td>0.2</td>\n",
              "      <td>setosa</td>\n",
              "    </tr>\n",
              "    <tr>\n",
              "      <th>1</th>\n",
              "      <td>4.9</td>\n",
              "      <td>3.0</td>\n",
              "      <td>1.4</td>\n",
              "      <td>0.2</td>\n",
              "      <td>setosa</td>\n",
              "    </tr>\n",
              "    <tr>\n",
              "      <th>2</th>\n",
              "      <td>4.7</td>\n",
              "      <td>3.2</td>\n",
              "      <td>1.3</td>\n",
              "      <td>0.2</td>\n",
              "      <td>setosa</td>\n",
              "    </tr>\n",
              "    <tr>\n",
              "      <th>3</th>\n",
              "      <td>4.6</td>\n",
              "      <td>3.1</td>\n",
              "      <td>1.5</td>\n",
              "      <td>0.2</td>\n",
              "      <td>setosa</td>\n",
              "    </tr>\n",
              "    <tr>\n",
              "      <th>4</th>\n",
              "      <td>5.0</td>\n",
              "      <td>3.6</td>\n",
              "      <td>1.4</td>\n",
              "      <td>0.2</td>\n",
              "      <td>setosa</td>\n",
              "    </tr>\n",
              "    <tr>\n",
              "      <th>...</th>\n",
              "      <td>...</td>\n",
              "      <td>...</td>\n",
              "      <td>...</td>\n",
              "      <td>...</td>\n",
              "      <td>...</td>\n",
              "    </tr>\n",
              "    <tr>\n",
              "      <th>145</th>\n",
              "      <td>6.7</td>\n",
              "      <td>3.0</td>\n",
              "      <td>5.2</td>\n",
              "      <td>2.3</td>\n",
              "      <td>virginica</td>\n",
              "    </tr>\n",
              "    <tr>\n",
              "      <th>146</th>\n",
              "      <td>6.3</td>\n",
              "      <td>2.5</td>\n",
              "      <td>5.0</td>\n",
              "      <td>1.9</td>\n",
              "      <td>virginica</td>\n",
              "    </tr>\n",
              "    <tr>\n",
              "      <th>147</th>\n",
              "      <td>6.5</td>\n",
              "      <td>3.0</td>\n",
              "      <td>5.2</td>\n",
              "      <td>2.0</td>\n",
              "      <td>virginica</td>\n",
              "    </tr>\n",
              "    <tr>\n",
              "      <th>148</th>\n",
              "      <td>6.2</td>\n",
              "      <td>3.4</td>\n",
              "      <td>5.4</td>\n",
              "      <td>2.3</td>\n",
              "      <td>virginica</td>\n",
              "    </tr>\n",
              "    <tr>\n",
              "      <th>149</th>\n",
              "      <td>5.9</td>\n",
              "      <td>3.0</td>\n",
              "      <td>5.1</td>\n",
              "      <td>1.8</td>\n",
              "      <td>virginica</td>\n",
              "    </tr>\n",
              "  </tbody>\n",
              "</table>\n",
              "<p>150 rows × 5 columns</p>\n",
              "</div>"
            ],
            "text/plain": [
              "     sepal_length  sepal_width  petal_length  petal_width    species\n",
              "0             5.1          3.5           1.4          0.2     setosa\n",
              "1             4.9          3.0           1.4          0.2     setosa\n",
              "2             4.7          3.2           1.3          0.2     setosa\n",
              "3             4.6          3.1           1.5          0.2     setosa\n",
              "4             5.0          3.6           1.4          0.2     setosa\n",
              "..            ...          ...           ...          ...        ...\n",
              "145           6.7          3.0           5.2          2.3  virginica\n",
              "146           6.3          2.5           5.0          1.9  virginica\n",
              "147           6.5          3.0           5.2          2.0  virginica\n",
              "148           6.2          3.4           5.4          2.3  virginica\n",
              "149           5.9          3.0           5.1          1.8  virginica\n",
              "\n",
              "[150 rows x 5 columns]"
            ]
          },
          "metadata": {
            "tags": []
          },
          "execution_count": 19
        }
      ]
    },
    {
      "cell_type": "markdown",
      "metadata": {
        "id": "0HflcjuBRxfN",
        "colab_type": "text"
      },
      "source": [
        "*Understanding how to index a DataFrame*"
      ]
    },
    {
      "cell_type": "code",
      "metadata": {
        "id": "hsvZY1_2TvvB",
        "colab_type": "code",
        "colab": {
          "base_uri": "https://localhost:8080/",
          "height": 234
        },
        "outputId": "338b4e5a-d3e1-4a11-da36-62457e438e14"
      },
      "source": [
        "df['petal_length']  #use a string and square brackets when indexing!"
      ],
      "execution_count": null,
      "outputs": [
        {
          "output_type": "execute_result",
          "data": {
            "text/plain": [
              "0      1.4\n",
              "1      1.4\n",
              "2      1.3\n",
              "3      1.5\n",
              "4      1.4\n",
              "      ... \n",
              "145    5.2\n",
              "146    5.0\n",
              "147    5.2\n",
              "148    5.4\n",
              "149    5.1\n",
              "Name: petal_length, Length: 150, dtype: float64"
            ]
          },
          "metadata": {
            "tags": []
          },
          "execution_count": 20
        }
      ]
    },
    {
      "cell_type": "code",
      "metadata": {
        "id": "6SnYbGA7T24S",
        "colab_type": "code",
        "colab": {}
      },
      "source": [
        "## MANDATORY EXERCISE: Index each of the other columns by name, does CaPitalIZatIon of the 'string' matter?\n",
        "## What is the dtype (data type) of 'species'? (look at the last line)"
      ],
      "execution_count": null,
      "outputs": []
    },
    {
      "cell_type": "code",
      "metadata": {
        "id": "MWYghuzJT564",
        "colab_type": "code",
        "colab": {
          "base_uri": "https://localhost:8080/",
          "height": 234
        },
        "outputId": "ad4fe3eb-8a19-4879-9e06-f02c7ddb217a"
      },
      "source": [
        "df['petal_length']\n",
        "df['petal_width']\n",
        "df['sepal_length']\n",
        "df['sepal_width']\n",
        "df['species']\n",
        "\n",
        "#df['Species']   raises a KeyError, so capitalization DOES matter\n",
        "\n",
        "#the data type of 'species' is 'object'"
      ],
      "execution_count": null,
      "outputs": [
        {
          "output_type": "execute_result",
          "data": {
            "text/plain": [
              "0         setosa\n",
              "1         setosa\n",
              "2         setosa\n",
              "3         setosa\n",
              "4         setosa\n",
              "         ...    \n",
              "145    virginica\n",
              "146    virginica\n",
              "147    virginica\n",
              "148    virginica\n",
              "149    virginica\n",
              "Name: species, Length: 150, dtype: object"
            ]
          },
          "metadata": {
            "tags": []
          },
          "execution_count": 22
        }
      ]
    },
    {
      "cell_type": "markdown",
      "metadata": {
        "id": "5fpNkqZ2UlUi",
        "colab_type": "text"
      },
      "source": [
        "# 1.2: Plot Data (MATPLOTLIB)"
      ]
    },
    {
      "cell_type": "markdown",
      "metadata": {
        "id": "LYyrxkLdUsD3",
        "colab_type": "text"
      },
      "source": [
        "*We plot the petal length against the petal width*"
      ]
    },
    {
      "cell_type": "code",
      "metadata": {
        "id": "aSG3zvmYVzxR",
        "colab_type": "code",
        "colab": {
          "base_uri": "https://localhost:8080/",
          "height": 52
        },
        "outputId": "b2e6a994-567b-43a0-853b-4bfbdbdaeb11"
      },
      "source": [
        "fig, ax = plt.figure(), plt.axes()\n",
        "\n",
        "ax.scatter(x = df['petal_length'], y = df['petal_width'])\n",
        "ax.set(xlabel = 'length [cm]', ylabel = 'width [cm]', title = 'Plot of Petal Width vs Length')\n",
        "\n",
        "fig.show()"
      ],
      "execution_count": null,
      "outputs": [
        {
          "output_type": "display_data",
          "data": {
            "image/png": "[encoded data removed]",
            "text/plain": [
              "<Figure size 432x288 with 1 Axes>"
            ]
          },
          "metadata": {
            "tags": [],
            "needs_background": "light"
          }
        }
      ]
    },
    {
      "cell_type": "markdown",
      "metadata": {
        "id": "6ye0eS_sWQTk",
        "colab_type": "text"
      },
      "source": [
        "*Check this against the original DataFrame values to make sure we are correct*"
      ]
    },
    {
      "cell_type": "code",
      "metadata": {
        "id": "FFLV9dmxWUzA",
        "colab_type": "code",
        "colab": {
          "base_uri": "https://localhost:8080/",
          "height": 497
        },
        "outputId": "b054fa99-8dd6-44b7-c617-53ac4289a1d2"
      },
      "source": [
        "df"
      ],
      "execution_count": null,
      "outputs": [
        {
          "output_type": "execute_result",
          "data": {
            "text/html": [
              "<div>\n",
              "<style scoped>\n",
              "    .dataframe tbody tr th:only-of-type {\n",
              "        vertical-align: middle;\n",
              "    }\n",
              "\n",
              "    .dataframe tbody tr th {\n",
              "        vertical-align: top;\n",
              "    }\n",
              "\n",
              "    .dataframe thead th {\n",
              "        text-align: right;\n",
              "    }\n",
              "</style>\n",
              "<table border=\"1\" class=\"dataframe\">\n",
              "  <thead>\n",
              "    <tr style=\"text-align: right;\">\n",
              "      <th></th>\n",
              "      <th>sepal_length</th>\n",
              "      <th>sepal_width</th>\n",
              "      <th>petal_length</th>\n",
              "      <th>petal_width</th>\n",
              "      <th>species</th>\n",
              "    </tr>\n",
              "  </thead>\n",
              "  <tbody>\n",
              "    <tr>\n",
              "      <th>0</th>\n",
              "      <td>5.1</td>\n",
              "      <td>3.5</td>\n",
              "      <td>1.4</td>\n",
              "      <td>0.2</td>\n",
              "      <td>setosa</td>\n",
              "    </tr>\n",
              "    <tr>\n",
              "      <th>1</th>\n",
              "      <td>4.9</td>\n",
              "      <td>3.0</td>\n",
              "      <td>1.4</td>\n",
              "      <td>0.2</td>\n",
              "      <td>setosa</td>\n",
              "    </tr>\n",
              "    <tr>\n",
              "      <th>2</th>\n",
              "      <td>4.7</td>\n",
              "      <td>3.2</td>\n",
              "      <td>1.3</td>\n",
              "      <td>0.2</td>\n",
              "      <td>setosa</td>\n",
              "    </tr>\n",
              "    <tr>\n",
              "      <th>3</th>\n",
              "      <td>4.6</td>\n",
              "      <td>3.1</td>\n",
              "      <td>1.5</td>\n",
              "      <td>0.2</td>\n",
              "      <td>setosa</td>\n",
              "    </tr>\n",
              "    <tr>\n",
              "      <th>4</th>\n",
              "      <td>5.0</td>\n",
              "      <td>3.6</td>\n",
              "      <td>1.4</td>\n",
              "      <td>0.2</td>\n",
              "      <td>setosa</td>\n",
              "    </tr>\n",
              "    <tr>\n",
              "      <th>...</th>\n",
              "      <td>...</td>\n",
              "      <td>...</td>\n",
              "      <td>...</td>\n",
              "      <td>...</td>\n",
              "      <td>...</td>\n",
              "    </tr>\n",
              "    <tr>\n",
              "      <th>145</th>\n",
              "      <td>6.7</td>\n",
              "      <td>3.0</td>\n",
              "      <td>5.2</td>\n",
              "      <td>2.3</td>\n",
              "      <td>virginica</td>\n",
              "    </tr>\n",
              "    <tr>\n",
              "      <th>146</th>\n",
              "      <td>6.3</td>\n",
              "      <td>2.5</td>\n",
              "      <td>5.0</td>\n",
              "      <td>1.9</td>\n",
              "      <td>virginica</td>\n",
              "    </tr>\n",
              "    <tr>\n",
              "      <th>147</th>\n",
              "      <td>6.5</td>\n",
              "      <td>3.0</td>\n",
              "      <td>5.2</td>\n",
              "      <td>2.0</td>\n",
              "      <td>virginica</td>\n",
              "    </tr>\n",
              "    <tr>\n",
              "      <th>148</th>\n",
              "      <td>6.2</td>\n",
              "      <td>3.4</td>\n",
              "      <td>5.4</td>\n",
              "      <td>2.3</td>\n",
              "      <td>virginica</td>\n",
              "    </tr>\n",
              "    <tr>\n",
              "      <th>149</th>\n",
              "      <td>5.9</td>\n",
              "      <td>3.0</td>\n",
              "      <td>5.1</td>\n",
              "      <td>1.8</td>\n",
              "      <td>virginica</td>\n",
              "    </tr>\n",
              "  </tbody>\n",
              "</table>\n",
              "<p>150 rows × 5 columns</p>\n",
              "</div>"
            ],
            "text/plain": [
              "     sepal_length  sepal_width  petal_length  petal_width    species\n",
              "0             5.1          3.5           1.4          0.2     setosa\n",
              "1             4.9          3.0           1.4          0.2     setosa\n",
              "2             4.7          3.2           1.3          0.2     setosa\n",
              "3             4.6          3.1           1.5          0.2     setosa\n",
              "4             5.0          3.6           1.4          0.2     setosa\n",
              "..            ...          ...           ...          ...        ...\n",
              "145           6.7          3.0           5.2          2.3  virginica\n",
              "146           6.3          2.5           5.0          1.9  virginica\n",
              "147           6.5          3.0           5.2          2.0  virginica\n",
              "148           6.2          3.4           5.4          2.3  virginica\n",
              "149           5.9          3.0           5.1          1.8  virginica\n",
              "\n",
              "[150 rows x 5 columns]"
            ]
          },
          "metadata": {
            "tags": []
          },
          "execution_count": 30
        }
      ]
    },
    {
      "cell_type": "markdown",
      "metadata": {
        "id": "idvKuli0WcUH",
        "colab_type": "text"
      },
      "source": [
        "*Now try creating a histogram with this data - also a quick shortcut*"
      ]
    },
    {
      "cell_type": "code",
      "metadata": {
        "id": "1IX_gdxKWmqf",
        "colab_type": "code",
        "colab": {
          "base_uri": "https://localhost:8080/",
          "height": 69
        },
        "outputId": "ead89505-314e-4ce8-bba0-843a700bdc94"
      },
      "source": [
        "fig, ax = plt.subplots()   #equivalent to earlier code\n",
        "\n",
        "ax.hist(x = df['petal_length'])\n",
        "ax.set(xlabel = 'length [cm]', title = 'Histogram of Petal Length')"
      ],
      "execution_count": null,
      "outputs": [
        {
          "output_type": "execute_result",
          "data": {
            "text/plain": [
              "[Text(0.5, 0, 'length [cm]'), Text(0.5, 1.0, 'Histogram of Petal Length')]"
            ]
          },
          "metadata": {
            "tags": []
          },
          "execution_count": 31
        },
        {
          "output_type": "display_data",
          "data": {
            "image/png": "[encoded data removed]",
            "text/plain": [
              "<Figure size 432x288 with 1 Axes>"
            ]
          },
          "metadata": {
            "tags": [],
            "needs_background": "light"
          }
        }
      ]
    },
    {
      "cell_type": "code",
      "metadata": {
        "id": "w1EpADV3Xp6u",
        "colab_type": "code",
        "colab": {}
      },
      "source": [
        "## MANDATORY EXERCISE: There's another function called ax.plot()\n",
        "## since ax.plot() is more generic, theres no need to specify \"x=\" and \"y=\"\n",
        "## try ax.plot(df['petal_length'])\n",
        "## and ax.plot(df['petal_length], df['petal_width])\n",
        "## visit: https://matplotlib.org/3.2.1/api/_as_gen/matplotlib.axes.Axes.plot.html to see how we can fix this"
      ],
      "execution_count": null,
      "outputs": []
    },
    {
      "cell_type": "code",
      "metadata": {
        "id": "wUhluZhMXssG",
        "colab_type": "code",
        "colab": {
          "base_uri": "https://localhost:8080/",
          "height": 52
        },
        "outputId": "76d8d7bd-35d8-424c-a611-abc7588a9a4c"
      },
      "source": [
        "#Trying plot #1\n",
        "fig, ax = plt.subplots()\n",
        "\n",
        "ax.plot(df['petal_length'])\n",
        "fig.show()"
      ],
      "execution_count": null,
      "outputs": [
        {
          "output_type": "display_data",
          "data": {
            "image/png": "[encoded data removed]",
            "text/plain": [
              "<Figure size 432x288 with 1 Axes>"
            ]
          },
          "metadata": {
            "tags": [],
            "needs_background": "light"
          }
        }
      ]
    },
    {
      "cell_type": "code",
      "metadata": {
        "id": "Lm3_iiKSYCH5",
        "colab_type": "code",
        "colab": {
          "base_uri": "https://localhost:8080/",
          "height": 52
        },
        "outputId": "03b4f16f-4c9e-485d-e618-04a07658cbee"
      },
      "source": [
        "#Trying plot #2\n",
        "fig, ax = plt.subplots()\n",
        "\n",
        "ax.plot(df['petal_length'], df['petal_width'])\n",
        "fig.show()"
      ],
      "execution_count": null,
      "outputs": [
        {
          "output_type": "display_data",
          "data": {
            "image/png": "[encoded data removed]",
            "text/plain": [
              "<Figure size 432x288 with 1 Axes>"
            ]
          },
          "metadata": {
            "tags": [],
            "needs_background": "light"
          }
        }
      ]
    },
    {
      "cell_type": "code",
      "metadata": {
        "id": "7wr5sVXvYvjy",
        "colab_type": "code",
        "colab": {
          "base_uri": "https://localhost:8080/",
          "height": 52
        },
        "outputId": "1fdcf006-e73b-4dc4-e5d2-cd251b5d557d"
      },
      "source": [
        "##TO FIX\n",
        "fig, ax = plt.subplots()\n",
        "\n",
        "ax.plot(df['petal_length'], df['petal_width'], 'ko')  #change the format\n",
        "fig.show()"
      ],
      "execution_count": null,
      "outputs": [
        {
          "output_type": "display_data",
          "data": {
            "image/png": "[encoded data removed]",
            "text/plain": [
              "<Figure size 432x288 with 1 Axes>"
            ]
          },
          "metadata": {
            "tags": [],
            "needs_background": "light"
          }
        }
      ]
    },
    {
      "cell_type": "markdown",
      "metadata": {
        "id": "SxXw040eY3dF",
        "colab_type": "text"
      },
      "source": [
        "#1.3: Advanced Indexing (MASKING)"
      ]
    },
    {
      "cell_type": "markdown",
      "metadata": {
        "id": "hbGKAJvhZDSM",
        "colab_type": "text"
      },
      "source": [
        "*Creating a mask to ONLY index the flowers with a petal length longer than 5 cm*"
      ]
    },
    {
      "cell_type": "code",
      "metadata": {
        "id": "2CRbTwiGalJe",
        "colab_type": "code",
        "colab": {}
      },
      "source": [
        "mask = df['petal_length'] > 5\n",
        "mask"
      ],
      "execution_count": null,
      "outputs": []
    },
    {
      "cell_type": "code",
      "metadata": {
        "id": "3q1DR655aq3v",
        "colab_type": "code",
        "colab": {}
      },
      "source": [
        "df[mask]"
      ],
      "execution_count": null,
      "outputs": []
    },
    {
      "cell_type": "code",
      "metadata": {
        "id": "XNVF3J9za0Ab",
        "colab_type": "code",
        "colab": {}
      },
      "source": [
        "##Alternate way to write this:\n",
        "df_large = df[df['petal_length'] > 5]\n",
        "df_large"
      ],
      "execution_count": null,
      "outputs": []
    },
    {
      "cell_type": "markdown",
      "metadata": {
        "id": "ls467KyHbDlA",
        "colab_type": "text"
      },
      "source": [
        "*Now create a plot of petal length vs width but with only the large flowers*"
      ]
    },
    {
      "cell_type": "code",
      "metadata": {
        "id": "lOR3qzJRbLBH",
        "colab_type": "code",
        "colab": {}
      },
      "source": [
        "fig, ax = plt.subplots()\n",
        "\n",
        "ax.scatter(x = df_large['petal_length'], y = df_large['petal_width'])\n",
        "ax.set(xlabel = 'length [cm]', ylabel = 'width [cm]', title = 'Petal Length vs Width for Large Flowers')\n",
        "\n",
        "fig.show()"
      ],
      "execution_count": null,
      "outputs": []
    },
    {
      "cell_type": "markdown",
      "metadata": {
        "id": "3eC3AE2gWjSJ",
        "colab_type": "text"
      },
      "source": [
        "*Now we want to try a comparative analysis with only setosa flowers*"
      ]
    },
    {
      "cell_type": "code",
      "metadata": {
        "id": "Lw-ZfGXVWoo4",
        "colab_type": "code",
        "colab": {}
      },
      "source": [
        "mask = df['species'] == 'setosa'\n",
        "df[mask]"
      ],
      "execution_count": null,
      "outputs": []
    },
    {
      "cell_type": "markdown",
      "metadata": {
        "id": "6bJl8LEZXKaf",
        "colab_type": "text"
      },
      "source": [
        "*This is of course equivalent to:*"
      ]
    },
    {
      "cell_type": "code",
      "metadata": {
        "id": "FaddlkiiXNJ5",
        "colab_type": "code",
        "colab": {}
      },
      "source": [
        "df_setosa = df[df['species'] == 'setosa']\n",
        "df_setosa"
      ],
      "execution_count": null,
      "outputs": []
    },
    {
      "cell_type": "markdown",
      "metadata": {
        "id": "73WLEZRMXsOf",
        "colab_type": "text"
      },
      "source": [
        "*Now we make the plot, but only with setosa flowers*"
      ]
    },
    {
      "cell_type": "code",
      "metadata": {
        "id": "AdA3jwPbXvdG",
        "colab_type": "code",
        "colab": {}
      },
      "source": [
        "fig, ax = plt.subplots()\n",
        "\n",
        "ax.scatter(x = df_setosa['petal_length'], y = df_setosa['petal_width'])\n",
        "ax.set(xlabel = 'length [cm]', ylabel = 'width [cm]', title = 'Petal Length vs Width for Setosa Flowers')\n",
        "\n",
        "fig.show()"
      ],
      "execution_count": null,
      "outputs": []
    },
    {
      "cell_type": "code",
      "metadata": {
        "id": "NR6ZOHFjZLhv",
        "colab_type": "code",
        "colab": {}
      },
      "source": [
        "### MANDATORY EXERCISE: Use masking to create a dataframe \n",
        "### df_small with all flowers with sepal length < 5, what do you notice about this dataset?\n",
        "\n",
        "### also create df_virginica and df_versicolor following the method\n",
        "### used for df_setosa"
      ],
      "execution_count": null,
      "outputs": []
    },
    {
      "cell_type": "code",
      "metadata": {
        "id": "0UehB3xoZMnQ",
        "colab_type": "code",
        "colab": {}
      },
      "source": [
        "df_small = df[df['sepal_length'] < 5]   #almost all setosa flowers!\n",
        "\n",
        "df_virginica = df[df['species'] == 'virginica']\n",
        "df_versicolor = df[df['species'] == 'versicolor']"
      ],
      "execution_count": null,
      "outputs": []
    },
    {
      "cell_type": "markdown",
      "metadata": {
        "id": "Bv46_PUFaJD-",
        "colab_type": "text"
      },
      "source": [
        "*By the way, we can plot multiple plots on the same ax object*"
      ]
    },
    {
      "cell_type": "code",
      "metadata": {
        "id": "l7ZcmSRnaPt6",
        "colab_type": "code",
        "colab": {}
      },
      "source": [
        "fig, ax = plt.subplots()\n",
        "\n",
        "ax.scatter(x = df_setosa['petal_length'], y = df_setosa['petal_width'])\n",
        "ax.scatter(x = df_virginica['petal_length'], y = df_virginica['petal_width'])\n",
        "ax.scatter(x = df_versicolor['petal_length'], y = df_versicolor['petal_width'])\n",
        "\n",
        "ax.set(xlabel = 'length [cm]', ylabel = 'width [cm]', title = 'Petal Length vs Width for Different Flower Types')\n",
        "fig.show()"
      ],
      "execution_count": null,
      "outputs": []
    },
    {
      "cell_type": "markdown",
      "metadata": {
        "id": "OoTDonhta6L0",
        "colab_type": "text"
      },
      "source": [
        "*We can also customize their colours and labels, and add a legend*"
      ]
    },
    {
      "cell_type": "code",
      "metadata": {
        "id": "7a1eXuLobEub",
        "colab_type": "code",
        "colab": {}
      },
      "source": [
        "fig, ax = plt.subplots()\n",
        "\n",
        "ax.scatter(x = df_setosa['petal_length'], y = df_setosa['petal_width'], c = 'red', label = 'setosa')\n",
        "ax.scatter(x = df_virginica['petal_length'], y = df_virginica['petal_width'], c = 'blue', label = 'virginica')\n",
        "ax.scatter(x = df_versicolor['petal_length'], y = df_versicolor['petal_width'], c = 'green', label = 'versicolor')\n",
        "\n",
        "ax.set(xlabel = 'length [cm]', ylabel = 'width [cm]', title = 'Petal Length vs Width for Different Flower Types')\n",
        "ax.legend()\n",
        "fig.show()"
      ],
      "execution_count": null,
      "outputs": []
    },
    {
      "cell_type": "code",
      "metadata": {
        "id": "AeKvdiD7bcgn",
        "colab_type": "code",
        "colab": {}
      },
      "source": [
        "## MANDATORY CHALLENGE: Plot the sepal width versus sepal length for the each of the three flowers using three shades of purple"
      ],
      "execution_count": null,
      "outputs": []
    },
    {
      "cell_type": "code",
      "metadata": {
        "id": "xHBxNV2RbdT-",
        "colab_type": "code",
        "colab": {}
      },
      "source": [
        "fig, ax = plt.subplots()\n",
        "\n",
        "ax.scatter(x = df_setosa['sepal_length'], y = df_setosa['sepal_width'], c = 'purple', label = 'setosa')\n",
        "ax.scatter(x = df_virginica['sepal_length'], y = df_virginica['sepal_width'], c = 'blueviolet', label = 'virginica')\n",
        "ax.scatter(x = df_versicolor['sepal_length'], y = df_versicolor['sepal_width'], c = 'fuchsia', label = 'versicolor')\n",
        "\n",
        "ax.set(xlabel = 'length [cm]', ylabel = 'width [cm]', title = 'Sepal Length vs Width for Different Flower Types')\n",
        "ax.legend()\n",
        "fig.show()"
      ],
      "execution_count": null,
      "outputs": []
    },
    {
      "cell_type": "markdown",
      "metadata": {
        "id": "E3OlP5XQcC1L",
        "colab_type": "text"
      },
      "source": [
        "#1.4: Better Plots (SEABORN)"
      ]
    },
    {
      "cell_type": "markdown",
      "metadata": {
        "id": "3K312FXBccCq",
        "colab_type": "text"
      },
      "source": [
        "*We will try to use seaborn to plot the DataFrame directly, and we can use hue to customize which column we plot*"
      ]
    },
    {
      "cell_type": "code",
      "metadata": {
        "id": "XQVXGAkedNra",
        "colab_type": "code",
        "colab": {}
      },
      "source": [
        "sns.pairplot(data = df, hue = 'species')\n",
        "plt.show()"
      ],
      "execution_count": null,
      "outputs": []
    },
    {
      "cell_type": "markdown",
      "metadata": {
        "id": "UI4jz3nrfDYr",
        "colab_type": "text"
      },
      "source": [
        "*To be able to customize this figure better, we use matplotlib.pyplot.gcf() (get current figure)*"
      ]
    },
    {
      "cell_type": "code",
      "metadata": {
        "id": "HtclprOegkOU",
        "colab_type": "code",
        "colab": {}
      },
      "source": [
        "sns.pairplot(data = df, hue = 'species')\n",
        "fig = plt.gcf()   #gives us our regular figure object\n",
        "fig.suptitle('IRIS Database Pairplot', y = 1.02)\n",
        "fig.show()"
      ],
      "execution_count": null,
      "outputs": []
    },
    {
      "cell_type": "markdown",
      "metadata": {
        "id": "GqK-nxAdh6We",
        "colab_type": "text"
      },
      "source": [
        "*Seaborn also has scatterplot functionality to focus on specific datas*"
      ]
    },
    {
      "cell_type": "code",
      "metadata": {
        "id": "EAGPZaRth_tS",
        "colab_type": "code",
        "colab": {}
      },
      "source": [
        "fig, ax = plt.subplots()\n",
        "\n",
        "sns.scatterplot(data = df, x = 'petal_length', y = 'petal_width', hue = 'species', ax = ax)\n",
        "ax.set(title = 'Plot of Petal Length vs Width Using Seaborn')\n",
        "fig.show()"
      ],
      "execution_count": null,
      "outputs": []
    },
    {
      "cell_type": "markdown",
      "metadata": {
        "id": "7dl3IY3hk8a4",
        "colab_type": "text"
      },
      "source": [
        "*The following is a figure-level visualization with the ```relplot``` feature of seaborn (which defaults to a scatterplot, and puts the data on a FacetGrid object). The hue represents a colour gradient to show different sepal lengths!* \n",
        "\n"
      ]
    },
    {
      "cell_type": "code",
      "metadata": {
        "id": "Ch-fO5KPlQQc",
        "colab_type": "code",
        "colab": {}
      },
      "source": [
        "sns.relplot(data = df, x = 'sepal_length', y = 'sepal_width', col = 'species', hue = 'sepal_length')\n",
        "fig = plt.gcf()\n",
        "fig.suptitle('IRIS Dataset Scatter Plot', y = 1.02)\n",
        "fig.show()"
      ],
      "execution_count": null,
      "outputs": []
    },
    {
      "cell_type": "markdown",
      "metadata": {
        "id": "lXuoV4wcpcki",
        "colab_type": "text"
      },
      "source": [
        "*Lastly, we can use lmplot to do a linear regression alongside the plotted data!*"
      ]
    },
    {
      "cell_type": "code",
      "metadata": {
        "id": "rZuGFT4xpmGi",
        "colab_type": "code",
        "colab": {}
      },
      "source": [
        "sns.lmplot(x=\"petal_length\", y=\"petal_width\", hue=\"species\", data=df, markers=[\"o\", \"x\", \".\"])"
      ],
      "execution_count": null,
      "outputs": []
    },
    {
      "cell_type": "code",
      "metadata": {
        "id": "J3LmtUxqpoVX",
        "colab_type": "code",
        "colab": {}
      },
      "source": [
        "## MANATORY CHALLENGE \n",
        "## there is a special type of catgorical plot in seaborn where we can put 'species' in the X axis.\n",
        "## use sns.catplot(x = 'species'.....{FILL IN THE REST YOURSELF})\n",
        "## to make an informative plot about the petal_length of each species\n",
        "## bonus: see if you can incoporate petal_width into this plot somehow.\n",
        "## \"specialized categorized plots\" in https://seaborn.pydata.org/introduction.html might be useful"
      ],
      "execution_count": null,
      "outputs": []
    },
    {
      "cell_type": "code",
      "metadata": {
        "id": "nAUBfU2dqLph",
        "colab_type": "code",
        "colab": {
          "base_uri": "https://localhost:8080/",
          "height": 395
        },
        "outputId": "63c5944f-a5bc-4188-afa1-336e2b65ebdc"
      },
      "source": [
        "sns.catplot(data = df, x = 'species', y = 'petal_length', hue = 'petal_width', kind = 'bar')"
      ],
      "execution_count": null,
      "outputs": [
        {
          "output_type": "execute_result",
          "data": {
            "text/plain": [
              "<seaborn.axisgrid.FacetGrid at 0x7fc47965c588>"
            ]
          },
          "metadata": {
            "tags": []
          },
          "execution_count": 73
        },
        {
          "output_type": "display_data",
          "data": {
            "image/png": "[encoded data removed]",
            "text/plain": [
              "<Figure size 425.875x360 with 1 Axes>"
            ]
          },
          "metadata": {
            "tags": [],
            "needs_background": "light"
          }
        }
      ]
    },
    {
      "cell_type": "code",
      "metadata": {
        "id": "qPoRty1krSnR",
        "colab_type": "code",
        "colab": {
          "base_uri": "https://localhost:8080/",
          "height": 395
        },
        "outputId": "a977e2ed-43d0-425e-e112-1c168924ea02"
      },
      "source": [
        "sns.catplot(data = df, x = 'species', y = 'petal_length', hue = 'petal_width', kind = 'swarm')"
      ],
      "execution_count": null,
      "outputs": [
        {
          "output_type": "execute_result",
          "data": {
            "text/plain": [
              "<seaborn.axisgrid.FacetGrid at 0x7fc479685940>"
            ]
          },
          "metadata": {
            "tags": []
          },
          "execution_count": 74
        },
        {
          "output_type": "display_data",
          "data": {
            "image/png": "[encoded data removed]",
            "text/plain": [
              "<Figure size 425.875x360 with 1 Axes>"
            ]
          },
          "metadata": {
            "tags": [],
            "needs_background": "light"
          }
        }
      ]
    }
  ]
}